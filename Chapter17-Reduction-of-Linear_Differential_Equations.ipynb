{
 "cells": [
  {
   "cell_type": "markdown",
   "id": "b033a591",
   "metadata": {},
   "source": [
    "<div style=\"background: #DDE2FF;\n",
    "            font-family: Bookerly;\n",
    "            font-size: 16px; \n",
    "            font-weight: 100;\n",
    "            padding: 20px 5px 0px 5px; \n",
    "            border: 10px solid #DDE2FF; \n",
    "            margin-left: 1px;\n",
    "            margin-right: 1px;\"\n",
    "          \n",
    " <font color='blue'>**Chapter 17 Reduction of Linear Differential Equations to a System of First-Order Equations. Symbolic substitutions for achieving a system of tractable 1st order equations. The Problems do not ask for a solution; they merely require that the subject equations be broken down into a system of 1st order equations according to the system described. The problem treatment in this notebook is simply to see which equations can be solved outright by Wolfram Alpha.<br><br>\n",
    " \n",
    " \n",
    "\n",
    "    \n",
    "</font>\n",
    "</div>"
   ]
  },
  {
   "cell_type": "markdown",
   "id": "15ff901c",
   "metadata": {},
   "source": [
    "<div style=\"background: #FFE3CC;\n",
    "            font-family: Bookerly;\n",
    "            font-size: 16px; \n",
    "            font-weight: 100;\n",
    "            padding: 15px 5px 10px 5px;\n",
    "            border: 10px solid #FFE3CC;  \n",
    "            margin-left: 1px;\n",
    "            margin-right: 1px;\"\n",
    "     \n",
    "<font color='blue'>17.1 Put the initial value problem\n",
    "\n",
    "$$\\ddot{x} \\,+\\,2\\dot{x}\\,-\\,8x\\,=\\,e^t;\\hspace{0.5 cm}x(0)\\,=\\,1,\\hspace{0.5 cm}\\dot{x}(0)\\,=\\,-4$$<br>\n",
    "\n",
    "into the form of System *(17.7)*.\n",
    "\n",
    "\n",
    "\n",
    "</font>\n",
    "</div>"
   ]
  },
  {
   "cell_type": "markdown",
   "id": "d87d8f7a",
   "metadata": {},
   "source": [
    "<div style=\"background: #E2FFCC;\n",
    "            font-family: Bookerly;\n",
    "            font-size: 16px; \n",
    "            font-weight: 100;\n",
    "            padding: 10px 5px 10px 5px; \n",
    "            border: 10px solid #E2FFCC; \n",
    "            margin-left: 1px;\n",
    "            margin-right: 1px;\"\n",
    "\n",
    "<font color='blue'>The differential equation can be entered into Wolfram Alpha:<br>\n",
    "\n",
    "!| x'' + 2 * x' - 8 * x = e^t, x(0) = 1, x'(0) = -4 |!<br>\n",
    "\n",
    "and a solution equation received:<br>\n",
    "\n",
    "$$x(t)\\,=\\,\\frac{1}{30}\\,e^{-4t}\\,(-6e^{5t}\\,+\\,5\\,e^{6t}\\,+\\,31)$$\n",
    "\n",
    "\n",
    "\n",
    "</font>\n",
    "</div>\n",
    "\n"
   ]
  },
  {
   "cell_type": "markdown",
   "id": "f2f0a358",
   "metadata": {},
   "source": [
    "<div style=\"background: #FFE3CC;\n",
    "            font-family: Bookerly;\n",
    "            font-size: 16px; \n",
    "            font-weight: 100;\n",
    "            padding: 15px 5px 10px 5px;\n",
    "            border: 10px solid #FFE3CC;  \n",
    "            margin-left: 1px;\n",
    "            margin-right: 1px;\"\n",
    "     \n",
    "<font color='blue'>17.2 Put the initial value problem\n",
    "\n",
    "$$\\ddot{x} \\,+\\,2\\dot{x}\\,-\\,8x\\,=\\,0;\\hspace{0.5 cm}x(1)\\,=\\,2,\\hspace{0.5 cm}\\dot{x}(1)\\,=\\,3$$<br>\n",
    "\n",
    "into the form of System *(17.7)*.\n",
    "\n",
    "\n",
    "\n",
    "</font>\n",
    "</div>"
   ]
  },
  {
   "cell_type": "markdown",
   "id": "589e1206",
   "metadata": {},
   "source": [
    "<div style=\"background: #E2FFCC;\n",
    "            font-family: Bookerly;\n",
    "            font-size: 16px; \n",
    "            font-weight: 100;\n",
    "            padding: 10px 5px 10px 5px; \n",
    "            border: 10px solid #E2FFCC; \n",
    "            margin-left: 1px;\n",
    "            margin-right: 1px;\"\n",
    "\n",
    "<font color='blue'>The differential equation can be entered into Wolfram Alpha:<br>\n",
    "\n",
    "!| x'' + 2 * x' - 8 * x = 0, x(1) = 2, x'(1) = 3 |!<br>\n",
    "\n",
    "and a solution equation received:<br>\n",
    "\n",
    "$$x(t)\\,=\\,\\frac{1}{6}\\,e^{-4t-2}\\,(11e^{6t}\\,+\\,e^{6}\\,)$$\n",
    "\n",
    "\n",
    "\n",
    "</font>\n",
    "</div>"
   ]
  },
  {
   "cell_type": "markdown",
   "id": "92a719c0",
   "metadata": {},
   "source": [
    "<div style=\"background: #FFE3CC;\n",
    "            font-family: Bookerly;\n",
    "            font-size: 16px; \n",
    "            font-weight: 100;\n",
    "            padding: 15px 5px 10px 5px;\n",
    "            border: 10px solid #FFE3CC;  \n",
    "            margin-left: 1px;\n",
    "            margin-right: 1px;\"\n",
    "     \n",
    "<font color='blue'>17.3 Put the initial value problem\n",
    "\n",
    "$$\\ddot{x} \\,+\\,x\\,=\\,3;\\hspace{0.5 cm}x(\\pi)\\,=\\,1,\\hspace{0.5 cm}\\dot{x}(\\pi)\\,=\\,2$$<br>\n",
    "\n",
    "into the form of System *(17.7)*.\n",
    "\n",
    "\n",
    "\n",
    "</font>\n",
    "</div>"
   ]
  },
  {
   "cell_type": "markdown",
   "id": "13c18c69",
   "metadata": {},
   "source": [
    "<div style=\"background: #E2FFCC;\n",
    "            font-family: Bookerly;\n",
    "            font-size: 16px; \n",
    "            font-weight: 100;\n",
    "            padding: 10px 5px 10px 5px; \n",
    "            border: 10px solid #E2FFCC; \n",
    "            margin-left: 1px;\n",
    "            margin-right: 1px;\"\n",
    "\n",
    "<font color='blue'>The differential equation can be entered into Wolfram Alpha:<br>\n",
    "\n",
    "!| x'' +  x  = 3, x(pi) = 1, x'(pi) = 2 |!<br>\n",
    "\n",
    "and a solution equation received:<br>\n",
    "\n",
    "$$x(t)\\,=\\,-\\,2\\,\\textrm{sin}\\,(t)\\,+\\,2\\,\\textrm{cos}\\,(t)\\,+\\,3\\,$$\n",
    "\n",
    "\n",
    "\n",
    "</font>\n",
    "</div>"
   ]
  },
  {
   "cell_type": "markdown",
   "id": "4a93dc21",
   "metadata": {},
   "source": [
    "<div style=\"background: #FFE3CC;\n",
    "            font-family: Bookerly;\n",
    "            font-size: 16px; \n",
    "            font-weight: 100;\n",
    "            padding: 15px 5px 10px 5px;\n",
    "            border: 10px solid #FFE3CC;  \n",
    "            margin-left: 1px;\n",
    "            margin-right: 1px;\"\n",
    "     \n",
    "<font color='blue'>17.6 Put the initial value problem\n",
    "\n",
    "$$e^{-t}\\,\\frac{d^4x}{dt^4}\\,-\\,\\frac{d^2x}{dt^2}\\,+\\,e^tt^2\\,\\frac{dx}{dt}\\,=\\,5\n",
    "e^{-t};\\hspace{0.5 cm}x(1)\\,=\\,2,\\hspace{0.5 cm} \\dot{x}(1)\\,=\\,3,\\hspace{0.5 cm} \\ddot{x}(1)\\,=\\,4, \\hspace{0.5 cm} \\overset{...}{x}\\small(1)\\,=\\,5$$<br>\n",
    "\n",
    "into the form of System *(17.7)*.\n",
    "\n",
    "\n",
    "\n",
    "</font>\n",
    "</div>"
   ]
  },
  {
   "cell_type": "markdown",
   "id": "287b6aa4",
   "metadata": {},
   "source": [
    "<div style=\"background: #E2FFCC;\n",
    "            font-family: Bookerly;\n",
    "            font-size: 16px; \n",
    "            font-weight: 100;\n",
    "            padding: 10px 5px 10px 5px; \n",
    "            border: 10px solid #E2FFCC; \n",
    "            margin-left: 1px;\n",
    "            margin-right: 1px;\"\n",
    "\n",
    "<font color='blue'>The differential equation can be entered into Wolfram Alpha:<br>\n",
    "\n",
    "!| e^(-t) * d^4x/dt^4 -d^2x/dt^2 + e^t * t2 * dx/dt = 5 * e^(-t), x(1) =2, x'(1) = 3, x''(1) = 4, x'''(1) = 5 |!<br>\n",
    "\n",
    "but no solution equation is received, presumably because of computation time exceeded. (Mathematica does give a small example of the solution plot.) Maxima also fails to solve it, with the message \"Not a proper differential equation. False\". However, MMA10 also would not solve the problem, so maybe it is a difficult one.<br>\n",
    "\n",
    "\n",
    "\n",
    "</font>\n",
    "</div>"
   ]
  },
  {
   "cell_type": "code",
   "execution_count": null,
   "id": "5c4ceec6",
   "metadata": {},
   "outputs": [],
   "source": []
  },
  {
   "cell_type": "code",
   "execution_count": null,
   "id": "0014fb4a",
   "metadata": {},
   "outputs": [],
   "source": []
  },
  {
   "cell_type": "code",
   "execution_count": null,
   "id": "e051ea6f",
   "metadata": {},
   "outputs": [],
   "source": []
  },
  {
   "cell_type": "code",
   "execution_count": null,
   "id": "85394663",
   "metadata": {},
   "outputs": [],
   "source": []
  },
  {
   "cell_type": "code",
   "execution_count": null,
   "id": "6bb1411f",
   "metadata": {},
   "outputs": [],
   "source": []
  },
  {
   "cell_type": "code",
   "execution_count": null,
   "id": "36db4e03",
   "metadata": {},
   "outputs": [],
   "source": []
  },
  {
   "cell_type": "code",
   "execution_count": null,
   "id": "8207bf19",
   "metadata": {},
   "outputs": [],
   "source": []
  },
  {
   "cell_type": "code",
   "execution_count": null,
   "id": "b7f67723",
   "metadata": {},
   "outputs": [],
   "source": []
  },
  {
   "cell_type": "code",
   "execution_count": null,
   "id": "c35ce9f9",
   "metadata": {},
   "outputs": [],
   "source": []
  },
  {
   "cell_type": "code",
   "execution_count": null,
   "id": "b6909ebe",
   "metadata": {},
   "outputs": [],
   "source": []
  },
  {
   "cell_type": "code",
   "execution_count": null,
   "id": "c83162ef",
   "metadata": {},
   "outputs": [],
   "source": []
  },
  {
   "cell_type": "code",
   "execution_count": null,
   "id": "47b69587",
   "metadata": {},
   "outputs": [],
   "source": []
  },
  {
   "cell_type": "code",
   "execution_count": null,
   "id": "a0eec9d4",
   "metadata": {},
   "outputs": [],
   "source": []
  },
  {
   "cell_type": "code",
   "execution_count": null,
   "id": "f0eb3d14",
   "metadata": {},
   "outputs": [],
   "source": []
  },
  {
   "cell_type": "code",
   "execution_count": null,
   "id": "11ce709b",
   "metadata": {},
   "outputs": [],
   "source": []
  },
  {
   "cell_type": "code",
   "execution_count": null,
   "id": "0c2f9c28",
   "metadata": {},
   "outputs": [],
   "source": []
  },
  {
   "cell_type": "code",
   "execution_count": null,
   "id": "f04eb26d",
   "metadata": {},
   "outputs": [],
   "source": []
  },
  {
   "cell_type": "code",
   "execution_count": null,
   "id": "2d6de60b",
   "metadata": {},
   "outputs": [],
   "source": []
  },
  {
   "cell_type": "code",
   "execution_count": null,
   "id": "82676755",
   "metadata": {},
   "outputs": [],
   "source": []
  },
  {
   "cell_type": "code",
   "execution_count": null,
   "id": "2f26154d",
   "metadata": {},
   "outputs": [],
   "source": []
  },
  {
   "cell_type": "code",
   "execution_count": null,
   "id": "2c37107b",
   "metadata": {},
   "outputs": [],
   "source": []
  },
  {
   "cell_type": "code",
   "execution_count": null,
   "id": "dea64d5f",
   "metadata": {},
   "outputs": [],
   "source": []
  },
  {
   "cell_type": "code",
   "execution_count": null,
   "id": "b8c9a960",
   "metadata": {},
   "outputs": [],
   "source": []
  },
  {
   "cell_type": "code",
   "execution_count": null,
   "id": "790e7d6e",
   "metadata": {},
   "outputs": [],
   "source": []
  },
  {
   "cell_type": "code",
   "execution_count": null,
   "id": "0efbc053",
   "metadata": {},
   "outputs": [],
   "source": []
  }
 ],
 "metadata": {
  "kernelspec": {
   "display_name": "Python 3 (ipykernel)",
   "language": "python",
   "name": "python3"
  },
  "language_info": {
   "codemirror_mode": {
    "name": "ipython",
    "version": 3
   },
   "file_extension": ".py",
   "mimetype": "text/x-python",
   "name": "python",
   "nbconvert_exporter": "python",
   "pygments_lexer": "ipython3",
   "version": "3.9.7"
  }
 },
 "nbformat": 4,
 "nbformat_minor": 5
}
