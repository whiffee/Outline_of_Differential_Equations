{
 "cells": [
  {
   "cell_type": "code",
   "execution_count": 1,
   "id": "adbbea16",
   "metadata": {},
   "outputs": [
    {
     "data": {
      "application/javascript": [
       "IPython.notebook.set_autosave_interval(0)"
      ]
     },
     "metadata": {},
     "output_type": "display_data"
    },
    {
     "name": "stdout",
     "output_type": "stream",
     "text": [
      "Autosave disabled\n"
     ]
    }
   ],
   "source": [
    "%autosave 0"
   ]
  },
  {
   "cell_type": "markdown",
   "id": "91ae42fa",
   "metadata": {},
   "source": [
    "<div style=\"background: #DDE2FF;\n",
    "            font-family: Bookerly;\n",
    "            font-size: 16px; \n",
    "            font-weight: 100;\n",
    "            padding: 20px 5px 0px 5px; \n",
    "            border: 10px solid #DDE2FF; \n",
    "            margin-left: 1px;\n",
    "            margin-right: 1px;\"\n",
    "          \n",
    " <font color='blue'>**Chapter 31-4: Elliptic PDEs Using Finite Difference Method**. \n",
    " \n",
    "The finite difference method (FDM) is an approximate method for solving partial differential equations. It has been used to solve a wide range of problems. These include linear and non-linear, time independent and dependent problems. This method can be applied to problems with different boundary shapes, different kinds of boundary conditions, and for a region containing a number of different materials. Even though the method was known by such workers as Gauss and Boltzmann, it was not widely used to solve engineering problems until the 1940s. The mathematical basis of the method was already known to Richardson in 1910 and many mathematical books were published which discussed the finite difference method. Specific reference concerning the treatment of electric and magnetic field problems is made. The application of FDM is not difficult as it involves only simple arithmetic in the derivation of the discretization equations and in writing the corresponding programs. During 1950–1970 FDM was the most important numerical method used to solve practical problems. With the development of high speed computers having large scale storage capability many numerical solution techniques appeared for solving partial differential equations. However, due to the ease of application of the finite difference method it is still a valuable means of solving these problems.\n",
    "\n",
    "Comparison between FDM and FEM. Broadly, the finite-difference method starts with a differential statement of the problem and proceeds to replace the derivatives with their discrete analogs. The finite-element method starts with a variational statement of the problem and introduces piecewise definitions of the functions defined by a set of mesh point values.\n",
    "\n",
    "Although the FDM is used to solve both elliptic differential equations as well as hyperbolic differential equations, the former are considered more difficult to solve than the latter. This is\n",
    "because elliptic equations have boundary conditions at all boundaries of the interval. So any finite \n",
    "difference scheme has to combine multiple boundary conditions at different points. \n",
    "\n",
    "\n",
    "<br>\n",
    "\n",
    "  </font>\n",
    "  \n",
    "  \n",
    "  \n",
    "</div>"
   ]
  },
  {
   "cell_type": "markdown",
   "id": "4946c987",
   "metadata": {},
   "source": [
    "\n",
    "\n",
    "<div style=\"background: #E2FFCC;\n",
    "            font-family: Bookerly;\n",
    "            font-size: 16px; \n",
    "            font-weight: 100;\n",
    "            padding: 10px 5px 10px 5px; \n",
    "            border: 10px solid #E2FFCC; \n",
    "            margin-left: 1px;\n",
    "            margin-right: 1px;\"\n",
    "\n",
    "<font color='blue'>Poisson's equation is an elliptic partial differential equation of broad utility in theoretical physics. For example, the solution to Poisson's equation is the potential field caused by a given electric charge or mass density distribution; with the potential field known, one can then calculate electrostatic or gravitational (force) field. It is a generalization of Laplace's equation, which is also frequently seen in physics. The equation is named after French mathematician and physicist Siméon Denis Poisson.\n",
    "\n",
    "</font>                 \n",
    "</div>"
   ]
  },
  {
   "cell_type": "markdown",
   "id": "174f9dd6",
   "metadata": {},
   "source": [
    "<div style=\"background: #E2FFCC;\n",
    "            font-family: Bookerly;\n",
    "            font-size: 16px; \n",
    "            font-weight: 100;\n",
    "            padding: 10px 5px 10px 5px; \n",
    "            border: 10px solid #E2FFCC; \n",
    "            margin-left: 1px;\n",
    "            margin-right: 1px;\"\n",
    "\n",
    "<font color='blue'>**Defining Elliptic PDE’s**\n",
    "\n",
    "•The general form for a second order linear PDE with two independent \n",
    "variables $(x,y)$ and one dependent variable $(u)$ is\n",
    "\n",
    "$$A \\frac{\\partial^2 u}{\\partial x^2}\\,+\\,B \\frac{\\partial^2 u }{\\partial x \\partial y}\\,+\\,C \\,\\frac{\\partial^2 u}{\\partial y^2}\\,+\\,D\\,=\\,0$$\n",
    "\n",
    "•Recall the criteria for an equation of this type to be considered elliptic\n",
    "\n",
    "$$B^2\\,-\\,4 A C\\,<\\,0$$\n",
    "\n",
    "•For example, examine the Laplace equation given by\n",
    "\n",
    "$$\\frac{\\partial^2 T}{\\partial x^2}\\,+\\,\\frac{\\partial^2 T}{\\partial y^2}\\,=\\,0$$\n",
    "\n",
    "where $A\\,=\\,1, B\\,=\\, 0,\\,C\\,=\\,1\\, \\textrm{and} \\, D\\,=\\,0$\n",
    "\n",
    "then\n",
    "\n",
    "$$B^2\\,-\\,4A\\,C\\,=\\,0\\,-\\,4(1)(1) \\,=\\,-4\\,<\\,0$$\n",
    "\n",
    "thus allowing the classification of this equation as elliptic.\n",
    "\n",
    "\n",
    "</font>                 \n",
    "</div>"
   ]
  },
  {
   "cell_type": "markdown",
   "id": "f61c7b4e",
   "metadata": {},
   "source": [
    "<div style=\"background: #FFE3CC;\n",
    "            font-family: Bookerly;\n",
    "            font-size: 16px; \n",
    "            font-weight: 100;\n",
    "            padding: 15px 5px 10px 5px;\n",
    "            border: 10px solid #FFE3CC;  \n",
    "            margin-left: 1px;\n",
    "            margin-right: 1px;\"\n",
    "     \n",
    "<font color='blue'>1. Solve the following PDE:\n",
    "\n",
    "$$u_t = \\alpha^2 u_{xx}\\, ,\\quad 0 < x < 1\\, , 0 < t < \\infty\\, ,$$\n",
    "\n",
    "with boundary conditions\n",
    "\n",
    "$$u(0, t) = u(1, t) = 0\\, ,\\quad  0\\leq t\\leq \\infty$$\n",
    "\n",
    "and initial conditions\n",
    "\n",
    "$$ u(x, 0) = \\phi(x), \\quad 0 \\leq x \\leq 1\\, .$$\n",
    "\n",
    "(The problem and developed answer is taken from the repository of Nicolás Guarin.)\n",
    "\n",
    "\n",
    "\n",
    "</font>\n",
    "</div>"
   ]
  },
  {
   "cell_type": "code",
   "execution_count": null,
   "id": "c7f6689c",
   "metadata": {},
   "outputs": [],
   "source": [
    "function w=poisson(xl,xr,yb,yt,M,N)\n",
    "  % run from command window as poisson(0,1,0,2,8,8)\n",
    "f=@(x,y) 4; % define input function data\n",
    "g1=@(y) (y^2-2*y+1); % right\n",
    "g2=@(x) (x^2-4*x+4); % top\n",
    "g3=@(x) x^2; %bottom\n",
    "g4=@(y) y^2;  % left\n",
    "m=M+1;n=N+1; mn=m*n;\n",
    "h=(xr-xl)/M;h2=h^2;k=(yt-yb)/N;k2=k^2;\n",
    "x=xl+(0:M)*h; % set mesh values\n",
    "y=yb+(0:N)*k;\n",
    "A=zeros(mn,mn);b=zeros(mn,1);\n",
    "for i=2:m-1 % interior points\n",
    "  for j=2:n-1\n",
    "    A(i+(j-1)*m,i-1+(j-1)*m)=1/h2;A(i+(j-1)*m,i+1+(j-1)*m)=1/h2;\n",
    "    A(i+(j-1)*m,i+(j-1)*m)=-2/h2-2/k2;\n",
    "    A(i+(j-1)*m,i+(j-2)*m)=1/k2;A(i+(j-1)*m,i+j*m)=1/k2;\n",
    "    b(i+(j-1)*m)=f(x(i),y(j));\n",
    "  end\n",
    "end\n",
    "for i=1:m % bottom and top boundary points\n",
    "  j=1;A(i+(j-1)*m,i+(j-1)*m)=1;b(i+(j-1)*m)=g3(x(i));\n",
    "  j=n;A(i+(j-1)*m,i+(j-1)*m)=1;b(i+(j-1)*m)=g2(x(i));\n",
    "end\n",
    "for j=2:n-1 % left and right boundary points\n",
    "  i=1;A(i+(j-1)*m,i+(j-1)*m)=1;b(i+(j-1)*m)=g4(y(j));\n",
    "  i=m;A(i+(j-1)*m,i+(j-1)*m)=1;b(i+(j-1)*m)=g1(y(j));\n",
    "end\n",
    "v=A\\b; % solve for solution in v labeling\n",
    "w=reshape(v(1:mn),m,n);  %translate from v to w\n",
    "mesh(x,y,w')\n",
    "\n"
   ]
  },
  {
   "cell_type": "markdown",
   "id": "3722aa9f",
   "metadata": {},
   "source": [
    "<img src=\"image01.svg\" />"
   ]
  }
 ],
 "metadata": {
  "kernelspec": {
   "display_name": "Python 3 (ipykernel)",
   "language": "python",
   "name": "python3"
  },
  "language_info": {
   "codemirror_mode": {
    "name": "ipython",
    "version": 3
   },
   "file_extension": ".py",
   "mimetype": "text/x-python",
   "name": "python",
   "nbconvert_exporter": "python",
   "pygments_lexer": "ipython3",
   "version": "3.9.13"
  }
 },
 "nbformat": 4,
 "nbformat_minor": 5
}
