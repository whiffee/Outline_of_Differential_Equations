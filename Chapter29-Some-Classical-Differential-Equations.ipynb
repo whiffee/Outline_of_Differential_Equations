{
 "cells": [
  {
   "cell_type": "code",
   "execution_count": 1,
   "id": "bf7ef021",
   "metadata": {},
   "outputs": [
    {
     "data": {
      "application/javascript": [
       "IPython.notebook.set_autosave_interval(0)"
      ]
     },
     "metadata": {},
     "output_type": "display_data"
    },
    {
     "name": "stdout",
     "output_type": "stream",
     "text": [
      "Autosave disabled\n"
     ]
    }
   ],
   "source": [
    "%autosave 0"
   ]
  },
  {
   "cell_type": "markdown",
   "id": "b98fc17d",
   "metadata": {},
   "source": [
    "<div style=\"background: #DDE2FF;\n",
    "            font-family: Bookerly;\n",
    "            font-size: 14px; \n",
    "            font-weight: 500;\n",
    "            padding: 30px 5px 30px 5px; \n",
    "            border: 30px solid #DDE2FF; \n",
    "            margin-left: 1px;\n",
    "            margin-right: 1px;\"\n",
    "\n",
    "<font color='blue'>(Custom CSS files are not reliable for controlling Jupyter font style. To establish the same appearance as the original notebook, depend on the browser to control the font, by setting the desired font faces in the browser settings. For example, Chrome 135 or Firefox 134 can do this. In this notebook series, Bookerly font is for markdown and Monaco is for code.)\n",
    "     \n",
    "     \n",
    "     \n",
    "\n",
    "</font>                 \n",
    "</div>"
   ]
  },
  {
   "cell_type": "markdown",
   "id": "aef05f5a",
   "metadata": {},
   "source": [
    "<div style=\"background: #DDE2FF;\n",
    "            font-family: Bookerly;\n",
    "            font-size: 16px; \n",
    "            font-weight: 500;\n",
    "            padding: 20px 5px 20px 5px; \n",
    "            border: 30px solid #DDE2FF; \n",
    "            margin-left: 1px;\n",
    "            margin-right: 1px;\"\n",
    "\n",
    "<font color='blue'>$\\textbf{ Chapter 29: Some Classical Differential Equations}$. Introduction to four famous and often used ODEs: Chebyshev, Hermite, Laguerre, and Legendre.<br><br>\n",
    "     \n",
    "     \n",
    "     \n",
    "\n",
    "</font>                 \n",
    "</div>"
   ]
  },
  {
   "cell_type": "markdown",
   "id": "547c83d5",
   "metadata": {},
   "source": [
    "<div style=\"background: #E2FFCC;\n",
    "            font-family: Bookerly;\n",
    "            font-size: 16px; \n",
    "            font-weight: 500;\n",
    "            padding: 10px 5px 10px 5px; \n",
    "            border: 30px solid #E2FFCC; \n",
    "            margin-left: 1px;\n",
    "            margin-right: 1px;\"\n",
    "\n",
    "<font color='blue'>Note: When transcribing text for entry into Wolfram Alpha the \"fenceposts\" !| ... |! are excluded from the text.\n",
    "\n",
    "\n",
    "\n",
    "</font>\n",
    "</div>"
   ]
  },
  {
   "cell_type": "markdown",
   "id": "c09d0a68",
   "metadata": {},
   "source": [
    "<div style=\"background: #FFE3CC;\n",
    "            font-family: Bookerly;\n",
    "            font-size: 16px; \n",
    "            font-weight: 500;\n",
    "            padding: 20px 5px 20px 5px; \n",
    "            border: 30px solid #FFE3CC; \n",
    "            margin-left: 1px;\n",
    "            margin-right: 1px;\"\n",
    "\n",
    "<font color='blue'>29.1 Let $\\,n\\,=\\,2\\,$ in the Hermite DE. Use the Rodrigues formula to find the polynomical solution. (The Hermite becomes  $\\:y\\,''\\,-\\,2xy\\,'\\,+\\,4y\\,=\\,0\\,$.)\n",
    "     \n",
    "     \n",
    "     \n",
    "\n",
    "</font> \n",
    "</div>"
   ]
  },
  {
   "cell_type": "markdown",
   "id": "0a0f2c29",
   "metadata": {},
   "source": [
    "<div style=\"background: #E2FFCC;\n",
    "            font-family: Bookerly;\n",
    "            font-size: 16px; \n",
    "            font-weight: 500;\n",
    "            padding: 10px 5px 10px 5px; \n",
    "            border: 30px solid #E2FFCC; \n",
    "            margin-left: 1px;\n",
    "            margin-right: 1px;\"\n",
    "\n",
    "<font color='blue'>Note: This equation can be input into Wolfram Alpha. The entry line is:\n",
    "\n",
    "!| y'' - 2 x y' + 4 y = 0 |! \n",
    "\n",
    "and the answer returned is:\n",
    "\n",
    "$$y(x)\\,=\\,c_2\\,(\\sqrt{\\pi}\\,(2x^2\\,-\\,1)\\,\\mathsf{erfi}\\,-\\,2e^{x^2}\\,x)\\,+\\,c_1\\,\\left(x^2\\,-\\,\\frac{1}{2}\\right)$$\n",
    "\n",
    "Note: Wolfram Alpha identifies the equation as a Hermite equation.\n",
    "\n",
    "Instead of solving the Hermite equation itself, the problem question was actually requesting the Hermite polynomial of degree 2. That can be obtained from sympy as shown in the cell below.\n",
    "\n",
    "\n",
    "\n",
    "</font>\n",
    "</div>"
   ]
  },
  {
   "cell_type": "code",
   "execution_count": 20,
   "id": "707ab0e1",
   "metadata": {},
   "outputs": [
    {
     "data": {
      "text/latex": [
       "$\\displaystyle 4 x^{2} - 2$"
      ],
      "text/plain": [
       "4*_x**2 - 2"
      ]
     },
     "execution_count": 20,
     "metadata": {},
     "output_type": "execute_result"
    }
   ],
   "source": [
    "import sympy as sp\n",
    "import numpy as np\n",
    "from scipy import special as spe\n",
    "from sympy import polys as po\n",
    "\n",
    "po.hermite_poly(2)"
   ]
  },
  {
   "cell_type": "markdown",
   "id": "7822b582",
   "metadata": {},
   "source": [
    "<div style=\"background: #FFE3CC;\n",
    "            font-family: Bookerly;\n",
    "            font-size: 16px; \n",
    "            font-weight: 500;\n",
    "            padding: 20px 5px 20px 5px; \n",
    "            border: 30px solid #FFE3CC; \n",
    "            margin-left: 1px;\n",
    "            margin-right: 1px;\"\n",
    "\n",
    "<font color='blue'>29.20$\\hspace{0.2 cm} \\textbf{a}:$ Determine whether the five following differential equations have two polynomial solutions; if they do, give the degrees of the solutions: $a) \\:\\: (1\\,-\\,x^2)y\\,''\\,+\\,5xy'\\,-\\,5y\\,=\\,0\\,$\n",
    "     \n",
    "     \n",
    "     \n",
    "\n",
    "</font> \n",
    "</div>"
   ]
  },
  {
   "cell_type": "markdown",
   "id": "787bca44",
   "metadata": {},
   "source": [
    "<div style=\"background: #E2FFCC;\n",
    "            font-family: Bookerly;\n",
    "            font-size: 16px; \n",
    "            font-weight: 500;\n",
    "            padding: 10px 5px 10px 5px; \n",
    "            border: 30px solid #E2FFCC; \n",
    "            margin-left: 1px;\n",
    "            margin-right: 1px;\"\n",
    "\n",
    "<font color='blue'>Note: This equation can be input into Wolfram Alpha. The entry line is:\n",
    "\n",
    "!| (1 - x^2) y'' + 5 x y' - 5 y = 0 |! \n",
    "\n",
    "and the answer returned is:\n",
    "\n",
    "$$y(x)\\,=\\,\\frac{c_2\\,\\sqrt{x^2-1}\\,_2F_1\\,\\left(-\\frac{5}{2},\\,-\\frac{1}{2};\\,\\frac{1}{2};\\,x^2\\right)}{\\sqrt{1\\,-\\,x^2}}\\,+\\,c_1\\,x$$\n",
    "\n",
    "Note: Wolfram Alpha identifies the equation as a Sturm-Liouville equation.\n",
    "\n",
    "\n",
    "\n",
    "\n",
    "\n",
    "</font>\n",
    "</div>"
   ]
  },
  {
   "cell_type": "markdown",
   "id": "4264c30b",
   "metadata": {},
   "source": [
    "<div style=\"background: #FFE3CC;\n",
    "            font-family: Bookerly;\n",
    "            font-size: 16px; \n",
    "            font-weight: 500;\n",
    "            padding: 20px 5px 20px 5px; \n",
    "            border: 30px solid #FFE3CC; \n",
    "            margin-left: 1px;\n",
    "            margin-right: 1px;\"\n",
    "\n",
    "<font color='blue'>29.20$\\hspace{0.2 cm} \\textbf{b}:$ Determine whether the five following differential equations have two polynomial solutions; if they do, give the degrees of the solutions: $b) \\:\\: (1\\,-\\,x^2)y\\,''\\,+\\,8xy'\\,-\\,18y\\,=\\,0\\,$\n",
    "     \n",
    "     \n",
    "     \n",
    "\n",
    "</font> \n",
    "</div>"
   ]
  },
  {
   "cell_type": "markdown",
   "id": "9685d0f7",
   "metadata": {},
   "source": [
    "<div style=\"background: #E2FFCC;\n",
    "            font-family: Bookerly;\n",
    "            font-size: 16px; \n",
    "            font-weight: 500;\n",
    "            padding: 10px 5px 10px 5px; \n",
    "            border: 30px solid #E2FFCC; \n",
    "            margin-left: 1px;\n",
    "            margin-right: 1px;\"\n",
    "\n",
    "<font color='blue'>Note: This equation can be input into Wolfram Alpha. The entry line is:\n",
    "\n",
    "!| (1 - x^2) y'' + 8 x y' - 18 y = 0 |! \n",
    "\n",
    "and the answer returned is:\n",
    "\n",
    "$$y(x)\\,=\\,c_2\\,x\\,(5x^2\\,+\\,3)\\,+\\,c_1\\,(x\\,+\\,5)\\,(x\\,-\\,1)^5\\,$$\n",
    "\n",
    "Note: Wolfram Alpha identifies the equation as a Sturm-Liouville equation.\n",
    "\n",
    "\n",
    "\n",
    "\n",
    "\n",
    "</font>\n",
    "</div>"
   ]
  },
  {
   "cell_type": "markdown",
   "id": "e0f875d4",
   "metadata": {},
   "source": [
    "<div style=\"background: #FFE3CC;\n",
    "            font-family: Bookerly;\n",
    "            font-size: 16px; \n",
    "            font-weight: 500;\n",
    "            padding: 20px 5px 20px 5px; \n",
    "            border: 30px solid #FFE3CC; \n",
    "            margin-left: 1px;\n",
    "            margin-right: 1px;\"\n",
    "\n",
    "<font color='blue'>29.20$\\hspace{0.2 cm} \\textbf{c}:$ Determine whether the five following differential equations have two polynomial solutions; if they do, give the degrees of the solutions: $c) \\:\\: (1\\,-\\,x^2)y\\,''\\,+\\,2xy'\\,+\\,10y\\,=\\,0\\,$\n",
    "     \n",
    "     \n",
    "     \n",
    "\n",
    "</font> \n",
    "</div>"
   ]
  },
  {
   "cell_type": "markdown",
   "id": "fa002eb6",
   "metadata": {},
   "source": [
    "<div style=\"background: #E2FFCC;\n",
    "            font-family: Bookerly;\n",
    "            font-size: 16px; \n",
    "            font-weight: 500;\n",
    "            padding: 10px 5px 10px 5px; \n",
    "            border: 30px solid #E2FFCC; \n",
    "            margin-left: 1px;\n",
    "            margin-right: 1px;\"\n",
    "\n",
    "<font color='blue'>Note: This equation can be input into Wolfram Alpha. The entry line is:\n",
    "\n",
    "!| (1 - x^2) y'' + 2 x y' + 10 y = 0 |! \n",
    "\n",
    "and the answer returned is:\n",
    "\n",
    "$$\\begin{align}\n",
    "  &{y(x)\\,=\\,c_1\\,x\\,(x^2\\,-\\,1)^2\\,+\\,c_2\\,(x^2\\,-\\,1)\\,\\left(\\frac{15}{2}\\,x\\,(x^2\\,-\\,1)\\,\\right.\\hspace{22 cm}} \\\\\n",
    "  &{\\left.(\\text{log}(1\\,-\\,x)\\,-\\,\\textrm{log}(x\\,+\\,1))\\,+\\,\\frac{(1\\,-\\,x^2)\\,(-\\,15x^4\\,+\\,25\\,x^2\\,-\\,8)}{(x^2\\,-\\,1)^2}\\right)\\,} \n",
    "\\end{align}$$\n",
    "\n",
    "\n",
    "Note: Wolfram Alpha identifies the equation as a Sturm-Liouville equation.\n",
    "\n",
    "\n",
    "\n",
    "\n",
    "\n",
    "</font>\n",
    "</div>"
   ]
  },
  {
   "cell_type": "markdown",
   "id": "11c852e3",
   "metadata": {},
   "source": [
    "<div style=\"background: #FFE3CC;\n",
    "            font-family: Bookerly;\n",
    "            font-size: 16px; \n",
    "            font-weight: 500;\n",
    "            padding: 20px 5px 20px 5px; \n",
    "            border: 30px solid #FFE3CC; \n",
    "            margin-left: 1px;\n",
    "            margin-right: 1px;\"\n",
    "\n",
    "<font color='blue'>29.20$\\hspace{0.2 cm} \\textbf{d}:$ Determine whether the five following differential equations have two polynomial solutions; if they do, give the degrees of the solutions: $d) \\:\\: (1\\,-\\,x^2)y\\,''\\,+\\,14xy'\\,-\\,56y\\,=\\,0\\,$\n",
    "     \n",
    "     \n",
    "     \n",
    "\n",
    "</font> \n",
    "</div>"
   ]
  },
  {
   "cell_type": "markdown",
   "id": "f8fc92fc",
   "metadata": {},
   "source": [
    "<div style=\"background: #E2FFCC;\n",
    "            font-family: Bookerly;\n",
    "            font-size: 16px; \n",
    "            font-weight: 500;\n",
    "            padding: 10px 5px 10px 5px; \n",
    "            border: 30px solid #E2FFCC; \n",
    "            margin-left: 1px;\n",
    "            margin-right: 1px;\"\n",
    "\n",
    "<font color='blue'>Note: This equation can be input into Wolfram Alpha. The entry line is:\n",
    "\n",
    "!| (1 - x^2) y'' + 14 x y' - 56 y = 0 |! \n",
    "\n",
    "and the answer returned is:\n",
    "\n",
    "$$\\begin{align}\n",
    "  &{ y(x)\\,=\\,\\frac{c_1\\,(x^2\\,-\\,1)^{7/2}\\,(1\\,-\\,x)^{9/2}}{(x\\,+\\,1)^{7/2}}\\,+ \\hspace{22 cm}} \\\\\n",
    "  &{\\frac{c_2\\,(x^2\\,-\\,1)^{7/2}\\,((x^4\\,+\\,7x^2\\,+7)\\,x^3\\,+\\,x)\\,(1\\,-\\,x)^{9/2}}{(x\\,-\\,1)^8\\,(x\\,+\\,1)^{7/2}}} \n",
    "\\end{align}$$\n",
    "\n",
    "\n",
    "Note: Wolfram Alpha identifies the equation as a Sturm-Liouville equation.\n",
    "\n",
    "\n",
    "\n",
    "\n",
    "\n",
    "</font>\n",
    "</div>"
   ]
  },
  {
   "cell_type": "markdown",
   "id": "23fd189e",
   "metadata": {},
   "source": [
    "<div style=\"background: #FFE3CC;\n",
    "            font-family: Bookerly;\n",
    "            font-size: 16px; \n",
    "            font-weight: 500;\n",
    "            padding: 20px 5px 20px 5px; \n",
    "            border: 30px solid #FFE3CC; \n",
    "            margin-left: 1px;\n",
    "            margin-right: 1px;\"\n",
    "\n",
    "<font color='blue'>29.20$\\hspace{0.2 cm} \\textbf{e}:$ Determine whether the five following differential equations have two polynomial solutions; if they do, give the degrees of the solutions: $e) \\:\\: (1\\,-\\,x^2)y\\,''\\,+\\,12xy'\\,-\\,22y\\,=\\,0\\,$\n",
    "     \n",
    "     \n",
    "     \n",
    "\n",
    "</font> \n",
    "</div>"
   ]
  },
  {
   "cell_type": "markdown",
   "id": "ecc3d2cb",
   "metadata": {},
   "source": [
    "<div style=\"background: #E2FFCC;\n",
    "            font-family: Bookerly;\n",
    "            font-size: 16px; \n",
    "            font-weight: 500;\n",
    "            padding: 10px 5px 10px 5px; \n",
    "            border: 30px solid #E2FFCC; \n",
    "            margin-left: 1px;\n",
    "            margin-right: 1px;\"\n",
    "\n",
    "<font color='blue'>Note: This equation can be input into Wolfram Alpha. The entry line is:\n",
    "\n",
    "!| (1 - x^2) y'' + 12 x y' - 22 y = 0 |! \n",
    "\n",
    "and the answer returned is:\n",
    "\n",
    "$$\\begin{align}\n",
    "  &{ y(x)\\,=\\,c_1\\,\\left(x^2\\,+\\,\\frac{1}{11}\\right)\\,+ \\hspace{10 cm}} \\\\\n",
    "  &{c_2\\,((\\,7x^8\\,-\\,55\\,x^6\\,+\\,198\\,x^4\\,-\\,462\\,x^2\\,+\\,1155)\\,x^3\\,+\\,693\\,x)} \n",
    "\\end{align}$$\n",
    "\n",
    "\n",
    "Note: Wolfram Alpha identifies the equation as a Sturm-Liouville equation.\n",
    "\n",
    "\n",
    "\n",
    "\n",
    "\n",
    "</font>\n",
    "</div>"
   ]
  }
 ],
 "metadata": {
  "kernelspec": {
   "display_name": "Python 3 (ipykernel)",
   "language": "python",
   "name": "python3"
  },
  "language_info": {
   "codemirror_mode": {
    "name": "ipython",
    "version": 3
   },
   "file_extension": ".py",
   "mimetype": "text/x-python",
   "name": "python",
   "nbconvert_exporter": "python",
   "pygments_lexer": "ipython3",
   "version": "3.10.11"
  }
 },
 "nbformat": 4,
 "nbformat_minor": 5
}
