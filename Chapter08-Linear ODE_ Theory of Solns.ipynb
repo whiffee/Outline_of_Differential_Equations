{
 "cells": [
  {
   "cell_type": "markdown",
   "id": "8a4309d1",
   "metadata": {},
   "source": [
    "<div style=\"background: #DDE2FF;\n",
    "            font-family: Bookerly;\n",
    "            font-size: 14px; \n",
    "            font-weight: 500;\n",
    "            padding: 20px 5px 20px 5px; \n",
    "            border: 30px solid #DDE2FF;\n",
    "            margin-left: 1px;\n",
    "            margin-right: 1px;\"\n",
    "          \n",
    " <font color='blue'>(Custom CSS files are not reliable for controlling Jupyter font style. To establish the same appearance as the original notebook, depend on the browser to control the font, by setting the desired font faces in the browser settings. For example, Chrome 135 or Firefox 134 can do this. In this notebook series, Bookerly font is for markdown and Monaco is for code.)\n",
    " \n",
    "<br>\n",
    "</div>"
   ]
  },
  {
   "cell_type": "markdown",
   "id": "a1b3414c",
   "metadata": {},
   "source": [
    "<div style=\"background: #DDE2FF;\n",
    "            font-family: Bookerly;\n",
    "            font-size: 16px; \n",
    "            font-weight: 500;\n",
    "            padding: 20px 5px 20px 5px; \n",
    "            border: 30px solid #DDE2FF; \n",
    "            margin-left: 1px;\n",
    "            margin-right: 1px;\"\n",
    "          \n",
    " <font color='blue'>**Chapter 8: Linear Differential Equations: Theory of Solutions** <BR>\n",
    "<br>\n",
    "    Discussing linearly independent solutions, the Wronskian, and Homogeneous and Nonhomogeneous linear equations.\n",
    "  </font>\n",
    "  \n",
    "  \n",
    "  \n",
    "</div>"
   ]
  },
  {
   "cell_type": "markdown",
   "id": "dcce62d5",
   "metadata": {},
   "source": [
    "<div style=\"background: #E2FFCC;\n",
    "            font-family: Bookerly;\n",
    "            font-size: 16px; \n",
    "            font-weight: 500;\n",
    "            padding: 10px 5px 10px 5px; \n",
    "            border: 30px solid #E2FFCC; \n",
    "            margin-left: 1px;\n",
    "            margin-right: 1px;\"\n",
    "\n",
    "<font color='blue'>**Cutting and pasting and Wolfram Alpha.** Wolfram Alpha is amenable to accepting pasted entries. In this chapter pastable expressions are given a distinctive boundary fence, exemplified by the sample:  !| abcdef |!<br>\n",
    "$\\hspace{2 em}$In the above pseudo-entry, only the alpha characters would be copied for transfer to Wolfram Alpha.\n",
    "\n",
    "     \n",
    "     \n",
    "     \n",
    "\n",
    "</font>                 \n",
    "</div>"
   ]
  },
  {
   "cell_type": "markdown",
   "id": "1681fc48",
   "metadata": {},
   "source": [
    "<div style=\"background: #FFE3CC;\n",
    "            font-family: Bookerly;\n",
    "            font-size: 16px; \n",
    "            font-weight: 500;\n",
    "            padding: 15px 5px 15px 5px;\n",
    "            border: 30px solid #FFE3CC;  \n",
    "            margin-left: 1px;\n",
    "            margin-right: 1px;\"\n",
    "     \n",
    "<font color='blue'>8.1 State the order of each of the following differential equations and determine whether any are linear:<br><br>\n",
    "$\\,(a)\\:\\:\\:2xy\\,''\\,+\\,x^2y\\,'\\,-\\,(\n",
    "\\textrm{sin}\\,x)\\,y\\,=\\,2\\,$<br>\n",
    "$\\,(b)\\:\\:\\:yy\\,'''\\,+\\,xy\\,'\\,+\\,y\\,=\\,x^2\\,$<br>\n",
    "$\\,(c)\\:\\:\\:y\\,''\\,-\\,y\\,=\\,0\\,$<br>\n",
    "$\\,(d)\\:\\:\\:3y\\,'\\,+\\,xy\\,=\\,e^{-x^2}$<br>\n",
    "$\\,(e)\\:\\:\\:2e^xy\\,'''\\,+\\,e^xy\\,''\\,=\\,1\\,$<br>\n",
    "$\\,(f)\\:\\:\\:\\large \\frac{d^{\\,4}y}{dx}\\,\\small +\\,y^4\\,=\\,0\\,$<br>\n",
    "$\\,(g)\\:\\:\\:y\\,''\\,+\\,\\sqrt{y\\,'}\\,+\\,y\\,=\\,x^2\\,$<br>\n",
    "$\\,(h)\\:\\:\\:y\\,'\\,+\\,2y\\,+\\,3\\,=\\,0\\,$<br>\n",
    "</font>\n",
    "</div>"
   ]
  },
  {
   "cell_type": "markdown",
   "id": "8d01a6a2",
   "metadata": {},
   "source": [
    "<div style=\"background: #E2FFCC;\n",
    "            font-family: Bookerly;\n",
    "            font-size: 16px; \n",
    "            font-weight: 500;\n",
    "            padding: 10px 5px 10px 5px; \n",
    "            border: 30px solid #E2FFCC; \n",
    "            margin-left: 1px;\n",
    "            margin-right: 1px;\"\n",
    "\n",
    "<font color='blue'>8 expressions<br><br>\n",
    "$\\,(a)\\:\\:\\:order \\,2 - $<br>\n",
    "$\\,(b)\\:\\:\\:order \\,3 -$<br>\n",
    "$\\,(c)\\:\\:\\:order \\,2 -$<br>\n",
    "$\\,(d)\\:\\:\\:order\\, 1 - linear$<br>\n",
    "$\\,(e)\\:\\:\\:order \\,3 -$<br>\n",
    "$\\,(f)\\:\\:\\:order \\,4 -$<br>\n",
    "$\\,(g)\\:\\:\\:order \\,2 - $<br>\n",
    "$\\,(h)\\:\\:\\:order \\,1 - linear$<br>\n",
    "     \n",
    "     \n",
    "     \n",
    "\n",
    "</font>                 \n",
    "</div>"
   ]
  },
  {
   "cell_type": "markdown",
   "id": "61e67f81",
   "metadata": {},
   "source": [
    "<div style=\"background: #FFE3CC;\n",
    "            font-family: Bookerly;\n",
    "            font-size: 16px; \n",
    "            font-weight: 500;\n",
    "            padding: 15px 5px 15px 5px;\n",
    "            border: 30px solid #FFE3CC;  \n",
    "            margin-left: 1px;\n",
    "            margin-right: 1px;\"\n",
    "     \n",
    "<font color='blue'>8.2 Which of the linear differential equations given in Problem 8.1 are homogeneous?\n",
    "</font>\n",
    "</div>"
   ]
  },
  {
   "cell_type": "markdown",
   "id": "034ed0ea",
   "metadata": {},
   "source": [
    "<div style=\"background: #E2FFCC;\n",
    "            font-family: Bookerly;\n",
    "            font-size: 16px; \n",
    "            font-weight: 500;\n",
    "            padding: 10px 5px 10px 5px; \n",
    "            border: 30px solid #E2FFCC; \n",
    "            margin-left: 1px;\n",
    "            margin-right: 1px;\"\n",
    "\n",
    "<font color='blue'>Only part $\\,(c)\\,$ is homogeneous, comprising elements only concerned with $\\,y\\,$. Under the strict definition of homogeneous, even part $\\,(h)\\,$, which has no visible $\\,x\\,$ element, does not quality as homogeneous because of the constant term, which could be interpreted as an $\\,x\\,$ function to the zero degree.\n",
    "     \n",
    "     \n",
    "     \n",
    "\n",
    "</font>                 \n",
    "</div>"
   ]
  },
  {
   "cell_type": "markdown",
   "id": "05cf789c",
   "metadata": {},
   "source": [
    "<div style=\"background: #FFE3CC;\n",
    "            font-family: Bookerly;\n",
    "            font-size: 16px; \n",
    "            font-weight: 500;\n",
    "            padding: 15px 5px 15px 5px;\n",
    "            border: 30px solid #FFE3CC;  \n",
    "            margin-left: 1px;\n",
    "            margin-right: 1px;\"\n",
    "     \n",
    "<font color='blue'>8.3 Which of the linear differential equations given in Problem 8.1 have constant coefficients?\n",
    "</font>\n",
    "</div>"
   ]
  },
  {
   "cell_type": "markdown",
   "id": "2a893b7a",
   "metadata": {},
   "source": [
    "<div style=\"background: #E2FFCC;\n",
    "            font-family: Bookerly;\n",
    "            font-size: 16px; \n",
    "            font-weight: 500;\n",
    "            padding: 10px 5px 10px 5px; \n",
    "            border: 30px solid #E2FFCC; \n",
    "            margin-left: 1px;\n",
    "            margin-right: 1px;\"\n",
    "\n",
    "<font color='blue'>The equations in parts $\\,(c)\\,$ and $\\,(h)\\,$ have constant coefficients.\n",
    "\n",
    "</font>                 \n",
    "</div>"
   ]
  },
  {
   "cell_type": "markdown",
   "id": "31ab3284",
   "metadata": {},
   "source": [
    "<div style=\"background: #FFE3CC;\n",
    "            font-family: Bookerly;\n",
    "            font-size: 16px; \n",
    "            font-weight: 500;\n",
    "            padding: 25px 5px 25px 5px;\n",
    "            border: 30px solid #FFE3CC;  \n",
    "            margin-left: 1px;\n",
    "            margin-right: 1px;\"\n",
    "     \n",
    "<font color='blue'>8.4 Find the general form of a linear differential equation of $\\,(a)\\,$ order two and $\\,(b)\\,$ order one.\n",
    "</font>\n",
    "</div>"
   ]
  },
  {
   "cell_type": "markdown",
   "id": "ced76fc5",
   "metadata": {},
   "source": [
    "<div style=\"background: #E2FFCC;\n",
    "            font-family: Bookerly;\n",
    "            font-size: 16px; \n",
    "            font-weight: 500;\n",
    "            padding: 10px 5px 10px 5px; \n",
    "            border: 30px solid #E2FFCC; \n",
    "            margin-left: 1px;\n",
    "            margin-right: 1px;\"\n",
    "\n",
    "<font color='blue'>The answer is:<br><br>\n",
    "$$\\,(a)\\hspace{2 em}b_2(x)y\\,''\\,+\\,b_1(x)y\\,'\\,+\\,b_0(x)y\\,=\\,g(x)\\,$$<br><br>\n",
    "$$\\,(b)\\hspace{2 em}\\,b_1(x)y\\,'\\,+\\,b_0(x)y\\,=\\,g(x)\\,\\hspace{4 em}$$\n",
    "\n",
    "\n",
    "</font>                 \n",
    "</div>"
   ]
  },
  {
   "cell_type": "markdown",
   "id": "24789320",
   "metadata": {},
   "source": [
    "<div style=\"background: #FFE3CC;\n",
    "            font-family: Bookerly;\n",
    "            font-size: 16px; \n",
    "            font-weight: 500;\n",
    "            padding: 25px 5px 25px 5px;\n",
    "            border: 30px solid #FFE3CC;  \n",
    "            margin-left: 1px;\n",
    "            margin-right: 1px;\"\n",
    "     \n",
    "<font color='blue'>8.5 Find the Wronskian of the set $\\,\\{e^x, e^{-x}\\}\\,$.\n",
    "</font>\n",
    "</div>"
   ]
  },
  {
   "cell_type": "markdown",
   "id": "00cece31",
   "metadata": {},
   "source": [
    "<div style=\"background: #E2FFCC;\n",
    "            font-family: Bookerly;\n",
    "            font-size: 16px; \n",
    "            font-weight: 500;\n",
    "            padding: 10px 5px 10px 5px; \n",
    "            border: 30px solid #E2FFCC; \n",
    "            margin-left: 1px;\n",
    "            margin-right: 1px;\"\n",
    "\n",
    "<font color='blue'>There is no need to attempt to use curly braces in W|A; it just converts them to parentheses. The entry:<br><br>\n",
    "!| Wronskian (e^x, e^(-x)) |!<br><br>\n",
    "does the trick, producing the answer: -2\n",
    "\n",
    "\n",
    "</font>                 \n",
    "</div>"
   ]
  },
  {
   "cell_type": "markdown",
   "id": "9db19673",
   "metadata": {},
   "source": [
    "<div style=\"background: #FFE3CC;\n",
    "            font-family: Bookerly;\n",
    "            font-size: 16px; \n",
    "            font-weight: 500;\n",
    "            padding: 40px 5px 40px 5px;\n",
    "            border: 30px solid #FFE3CC;  \n",
    "            margin-left: 1px;\n",
    "            margin-right: 1px;\"\n",
    "     \n",
    "<font color='blue'>8.6 Find the Wronskian of the set $\\,\\{\\textrm{sin}\\,3x, \\textrm{cos}\\,3x \\}\\,$.\n",
    "</font>\n",
    "</div>"
   ]
  },
  {
   "cell_type": "markdown",
   "id": "959ea607",
   "metadata": {},
   "source": [
    "<div style=\"background: #E2FFCC;\n",
    "            font-family: Bookerly;\n",
    "            font-size: 16px; \n",
    "            font-weight: 500;\n",
    "            padding: 10px 5px 10px 5px; \n",
    "            border: 30px solid #E2FFCC; \n",
    "            margin-left: 1px;\n",
    "            margin-right: 1px;\"\n",
    "\n",
    "<font color='blue'> The entry:<br><br>\n",
    "!| Wronskian (sin(3 * x), cos(3 * x)) |!<br><br>\n",
    " produces the answer: -3\n",
    "\n",
    "\n",
    "</font>                 \n",
    "</div>"
   ]
  },
  {
   "cell_type": "markdown",
   "id": "30682d61",
   "metadata": {},
   "source": [
    "<div style=\"background: #FFE3CC;\n",
    "            font-family: Bookerly;\n",
    "            font-size: 16px; \n",
    "            font-weight: 500;\n",
    "            padding: 40px 5px 40px 5px;\n",
    "            border: 30px solid #FFE3CC;  \n",
    "            margin-left: 1px;\n",
    "            margin-right: 1px;\"\n",
    "     \n",
    "<font color='blue'>8.7 Find the Wronskian of the set $\\,\\{x,\\,x^2,\\,x^3\\, \\}\\,$.\n",
    "</font>\n",
    "</div>"
   ]
  },
  {
   "cell_type": "markdown",
   "id": "cd780d14",
   "metadata": {},
   "source": [
    "<div style=\"background: #E2FFCC;\n",
    "            font-family: Bookerly;\n",
    "            font-size: 16px; \n",
    "            font-weight: 500;\n",
    "            padding: 10px 5px 10px 5px; \n",
    "            border: 30px solid #E2FFCC; \n",
    "            margin-left: 1px;\n",
    "            margin-right: 1px;\"\n",
    "\n",
    "<font color='blue'> The entry:<br><br>\n",
    "!| Wronskian (x, x^2, x^3) |!<br><br>\n",
    " produces the answer: $\\,2x^3\\,$\n",
    "\n",
    "\n",
    "</font>                 \n",
    "</div>"
   ]
  },
  {
   "cell_type": "markdown",
   "id": "7ac7d517",
   "metadata": {},
   "source": [
    "<div style=\"background: #FFE3CC;\n",
    "            font-family: Bookerly;\n",
    "            font-size: 16px; \n",
    "            font-weight: 500;\n",
    "            padding: 40px 5px 40px 5px;\n",
    "            border: 30px solid #FFE3CC;  \n",
    "            margin-left: 1px;\n",
    "            margin-right: 1px;\"\n",
    "     \n",
    "<font color='blue'>8.8 Find the Wronskian of the set $\\,\\{1\\,-\\,x,\\,1\\,+\\,x,\\,1\\,-\\,3x\\, \\}\\,$.\n",
    "</font>\n",
    "</div>"
   ]
  },
  {
   "cell_type": "markdown",
   "id": "8740538b",
   "metadata": {},
   "source": [
    "<div style=\"background: #E2FFCC;\n",
    "            font-family: Bookerly;\n",
    "            font-size: 16px; \n",
    "            font-weight: 500;\n",
    "            padding: 10px 5px 10px 5px; \n",
    "            border: 30px solid #E2FFCC; \n",
    "            margin-left: 1px;\n",
    "            margin-right: 1px;\"\n",
    "\n",
    "<font color='blue'> The entry:<br><br>\n",
    "!| Wronskian (1 - x, 1 + x, 1 - 3 * x) |!<br><br>\n",
    " produces the answer: 0\n",
    "\n",
    "\n",
    "</font>                 \n",
    "</div>"
   ]
  },
  {
   "cell_type": "markdown",
   "id": "7eef9955",
   "metadata": {},
   "source": [
    "<div style=\"background: #FFE3CC;\n",
    "            font-family: Bookerly;\n",
    "            font-size: 16px; \n",
    "            font-weight: 500;\n",
    "            padding: 40px 5px 40px 5px;\n",
    "            border: 30px solid #FFE3CC;  \n",
    "            margin-left: 1px;\n",
    "            margin-right: 1px;\"\n",
    "     \n",
    "<font color='blue'>8.9 Determine whether the set $\\,\\{\\,e^x,\\,e^{-x}\\,\\}\\,$ is linearly dependent on $\\,(-\\infty,\\,\\infty\\,)$\n",
    "</font>\n",
    "</div>"
   ]
  },
  {
   "cell_type": "markdown",
   "id": "86bc6363",
   "metadata": {},
   "source": [
    "<div style=\"background: #E2FFCC;\n",
    "            font-family: Bookerly;\n",
    "            font-size: 16px; \n",
    "            font-weight: 500;\n",
    "            padding: 10px 5px 10px 5px; \n",
    "            border: 30px solid #E2FFCC; \n",
    "            margin-left: 1px;\n",
    "            margin-right: 1px;\"\n",
    "\n",
    "<font color='blue'> The entry:<br><br>\n",
    "!| linearly independent (e^x, e^(-x)) |!<br><br>\n",
    " produces the answer:<br><br>\n",
    " \"$\\,(e^x,\\,e^{-x}\\,)$ is linearly independent\"<br><br>\n",
    " W|A does not give information about the environment for which the statement is true, though in other cases it does. Applying the definition of linear independence will show easily that the W|A statement is true on the Real line. (See next problem.)\n",
    "\n",
    "\n",
    "</font>                 \n",
    "</div>"
   ]
  },
  {
   "cell_type": "markdown",
   "id": "144a8ac0",
   "metadata": {},
   "source": [
    "<div style=\"background: #FFE3CC;\n",
    "            font-family: Bookerly;\n",
    "            font-size: 16px; \n",
    "            font-weight: 500;\n",
    "            padding: 15px 5px 15px 5px;\n",
    "            border: 30px solid #FFE3CC;  \n",
    "            margin-left: 1px;\n",
    "            margin-right: 1px;\"\n",
    "     \n",
    "<font color='blue'>8.10 Redo Problem 8.9 by testing directly how the definition of linear independence is satisfied by the set under consideration.\n",
    "</font>\n",
    "</div>"
   ]
  },
  {
   "cell_type": "markdown",
   "id": "4fe50163",
   "metadata": {},
   "source": [
    "<div style=\"background: #E2FFCC;\n",
    "            font-family: Bookerly;\n",
    "            font-size: 16px; \n",
    "            font-weight: 500;\n",
    "            padding: 10px 5px 10px 5px; \n",
    "            border: 30px solid #E2FFCC; \n",
    "            margin-left: 1px;\n",
    "            margin-right: 1px;\"\n",
    "\n",
    "<font color='blue'>The applicable equation (which may be referred to as the \"verif\") is:<br><br>\n",
    "$$\\,c_1e^x\\,+\\,c_2e^{-x}\\,\\equiv\\,0\\,$$<br>\n",
    "The task is to find out whether there are values of $\\,c_1\\,$ and $\\,c_2\\,$, not both zero, which will satisfy the above equation. It is possible to isolate one of the constants by rearranging the above equation as:<br><br>\n",
    "$$\\,c_2\\,\\equiv\\,-c_1e^{2x}\\,$$<br>\n",
    "For any nonzero value of $\\,c_1\\,$, the lhs is constant whereas the rhs varies depending on $\\,x\\,$. Therefore the only solution to the above equation, and therefore to the \"verif\", is for $\\,c_1\\,=\\,c_2\\,=\\,0\\,$. Thus the set under consideration in not linearly dependent and must therefore be linearly independent.\n",
    "\n",
    "\n",
    "</font>                 \n",
    "</div>"
   ]
  },
  {
   "cell_type": "markdown",
   "id": "09d134a5",
   "metadata": {},
   "source": [
    "<div style=\"background: #FFE3CC;\n",
    "            font-family: Bookerly;\n",
    "            font-size: 16px; \n",
    "            font-weight: 500;\n",
    "            padding: 15px 5px 15px 5px;\n",
    "            border: 30px solid #FFE3CC;  \n",
    "            margin-left: 1px;\n",
    "            margin-right: 1px;\"\n",
    "     \n",
    "<font color='blue'>8.15 Find the general solution of $\\,y''\\,+\\,9y\\,=\\,0\\,$ if it is known that two solutions are:<br><br>\n",
    "$\\,\\hspace{10 em}y_1(x)\\,=\\,\\textrm{sin}\\,3x\\,\\hspace{2 em}$ and $\\,\\hspace{2 em}y_2(x)\\,=\\,\\textrm{cos}\\,3x\\,\\hspace{3 em}\\,$<br><br>\n",
    "</font>\n",
    "</div>"
   ]
  },
  {
   "cell_type": "markdown",
   "id": "9ccca1c8",
   "metadata": {},
   "source": [
    "<div style=\"background: #E2FFCC;\n",
    "            font-family: Bookerly;\n",
    "            font-size: 16px; \n",
    "            font-weight: 500;\n",
    "            padding: 10px 5px 10px 5px; \n",
    "            border: 30px solid #E2FFCC; \n",
    "            margin-left: 1px;\n",
    "            margin-right: 1px;\"\n",
    "\n",
    "<font color='blue'>The entry is made in Wolfram Alpha:<br><br>\n",
    "!| y'' + 9 * y = 0 |!<br><br>\n",
    "and the answer received is:<br><br>\n",
    "$$\\,y(x)\\,=\\,c_2\\,\\textrm{sin}\\,(3x)\\,+\\,c_1\\,\\textrm{cos}\\,(3x)\\,$$<br><br>\n",
    "without addressing the calculation procedure foreseen by the text.\n",
    "\n",
    "\n",
    "</font>                 \n",
    "</div>"
   ]
  },
  {
   "cell_type": "markdown",
   "id": "ee90da23",
   "metadata": {},
   "source": [
    "<div style=\"background: #FFE3CC;\n",
    "            font-family: Bookerly;\n",
    "            font-size: 16px; \n",
    "            font-weight: 500;\n",
    "            padding: 15px 5px 15px 5px;\n",
    "            border: 30px solid #FFE3CC;  \n",
    "            margin-left: 1px;\n",
    "            margin-right: 1px;\"\n",
    "     \n",
    "<font color='blue'>8.16 Find the general solution of $\\,y''\\,-y\\,=\\,0\\,$ if it is known that two solutions are:<br><br>\n",
    "$\\,\\hspace{11 em}y_1(x)\\,=\\,e^x\\,\\hspace{2 em}$ and $\\,\\hspace{2 em}y_2(x)\\,=\\,e^{-x}\\hspace{3 em}\\,$<br><br>\n",
    "</font>\n",
    "</div>"
   ]
  },
  {
   "cell_type": "markdown",
   "id": "fcfb490c",
   "metadata": {},
   "source": [
    "<div style=\"background: #E2FFCC;\n",
    "            font-family: Bookerly;\n",
    "            font-size: 16px; \n",
    "            font-weight: 500;\n",
    "            padding: 10px 5px 10px 5px; \n",
    "            border: 30px solid #E2FFCC; \n",
    "            margin-left: 1px;\n",
    "            margin-right: 1px;\"\n",
    "\n",
    "<font color='blue'>The entry is made in Wolfram Alpha:<br><br>\n",
    "!| y'' - y = 0 |!<br><br>\n",
    "and the answer received is:<br><br>\n",
    "$$\\,y(x)\\,=\\,c_1\\,e^x\\,+\\,c_2\\,e^{-x}\\,$$<br><br>\n",
    "without addressing the calculation procedure foreseen by the text.\n",
    "\n",
    "\n",
    "</font>                 \n",
    "</div>"
   ]
  },
  {
   "cell_type": "markdown",
   "id": "babe32ca",
   "metadata": {},
   "source": [
    "<div style=\"background: #FFE3CC;\n",
    "            font-family: Bookerly;\n",
    "            font-size: 16px; \n",
    "            font-weight: 500;\n",
    "            padding: 15px 5px 15px 5px;\n",
    "            border: 30px solid #FFE3CC;  \n",
    "            margin-left: 1px;\n",
    "            margin-right: 1px;\"\n",
    "     \n",
    "<font color='blue'>8.24 Determine whether the set $ \\{\\,x^3,\\,|x^3|\\,\\}$ is linearly dependent on [-1, 1]<br><br>\n",
    "</font>\n",
    "</div>"
   ]
  },
  {
   "cell_type": "markdown",
   "id": "9ce4f1fa",
   "metadata": {},
   "source": [
    "<div style=\"background: #E2FFCC;\n",
    "            font-family: Bookerly;\n",
    "            font-size: 16px; \n",
    "            font-weight: 500;\n",
    "            padding: 10px 5px 10px 5px; \n",
    "            border: 30px solid #E2FFCC; \n",
    "            margin-left: 1px;\n",
    "            margin-right: 1px;\"\n",
    "\n",
    "<font color='blue'>The entry is made in Wolfram Alpha:<br><br>\n",
    "!| linear independent (x^3, |x^3| ) |!<br><br>\n",
    "and the answer received is:<br><br>\n",
    "$$\\,(x^3, \\,|x|^3\\,)\\,\\textrm{is linearly independent}$$<br><br>\n",
    "\n",
    "without addressing the calculation procedure foreseen by the text. Also without describing the environment in which the offered answer is valid. As the W|A's instinct for detecting restrictions is rather sensitive, in this case the answer is accepted.\n",
    "\n",
    "\n",
    "</font>                 \n",
    "</div>"
   ]
  },
  {
   "cell_type": "markdown",
   "id": "c8ac6daf",
   "metadata": {},
   "source": [
    "<div style=\"background: #FFE3CC;\n",
    "            font-family: Bookerly;\n",
    "            font-size: 16px; \n",
    "            font-weight: 500;\n",
    "            padding: 15px 5px 15px 5px;\n",
    "            border: 30px solid #FFE3CC;  \n",
    "            margin-left: 1px;\n",
    "            margin-right: 1px;\"\n",
    "     \n",
    "<font color='blue'>8.25 Find $\\,W(x^3, |x^3|)\\,$ on [-1, 1].\n",
    "</font>\n",
    "</div>"
   ]
  },
  {
   "cell_type": "markdown",
   "id": "9ee66675",
   "metadata": {},
   "source": [
    "<div style=\"background: #E2FFCC;\n",
    "            font-family: Bookerly;\n",
    "            font-size: 16px; \n",
    "            font-weight: 500;\n",
    "            padding: 10px 5px 10px 5px; \n",
    "            border: 30px solid #E2FFCC; \n",
    "            margin-left: 1px;\n",
    "            margin-right: 1px;\"\n",
    "\n",
    "<font color='blue'>The entry is made in Wolfram Alpha:<br><br>\n",
    "!| Wronskian (x^3, |x^3| ) |!<br><br>\n",
    "and the answer received is:<br><br>\n",
    "$\\begin{equation}\n",
    "\\left\\{ \n",
    "  \\begin{aligned}\n",
    "    \\tilde{\\infty} \\hspace{4 em} x\\,=\\,0\\\\\n",
    "     0 \\hspace{3 em} \\textrm{otherwise}\\\\\n",
    "  \\end{aligned}\n",
    "  \\right.\n",
    "\\end{equation}\n",
    "$\n",
    "\n",
    "The tilde infinity symbol apparently represents complex infinity, and as long as the discussion remains in the Real realm, the answer is plain zero.\n",
    "\n",
    "\n",
    "</font>                 \n",
    "</div>"
   ]
  },
  {
   "cell_type": "markdown",
   "id": "afc48bfc",
   "metadata": {},
   "source": [
    "<div style=\"background: #FFE3CC;\n",
    "            font-family: Bookerly;\n",
    "            font-size: 16px; \n",
    "            font-weight: 500;\n",
    "            padding: 15px 5px 15px 5px;\n",
    "            border: 30px solid #FFE3CC;  \n",
    "            margin-left: 1px;\n",
    "            margin-right: 1px;\"\n",
    "     \n",
    "<font color='blue'>8.29 Determine all solutions of the initial-value problem $\\,y\\,''\\,+\\,e^xy\\,'\\,+\\,(x\\,+\\,1)y\\,=\\,0\\,;\\:\\:y(1)\\,=\\,0\\,;\\,y\\,'\\,(1)\\,=\\,0\\,$.\n",
    "</font>\n",
    "</div>"
   ]
  },
  {
   "cell_type": "markdown",
   "id": "b0206602",
   "metadata": {},
   "source": [
    "<div style=\"background: #E2FFCC;\n",
    "            font-family: Bookerly;\n",
    "            font-size: 16px; \n",
    "            font-weight: 500;\n",
    "            padding: 10px 5px 10px 5px; \n",
    "            border: 30px solid #E2FFCC; \n",
    "            margin-left: 1px;\n",
    "            margin-right: 1px;\"\n",
    "\n",
    "<font color='blue'>The entry is made in Wolfram Alpha:<br><br>\n",
    "!| y'' + e^x * y' + (x + 1) * y = 0,  y(1) = 0,  y'(1) = 0|!<br><br>\n",
    "and no answer received. The equation is identified as a Sturm-Liouville equation, and there are some alternate forms shown. Then the entry is modified as:<br><br>\n",
    "!| solve [y'' + e^x * y' + (x + 1) * y = 0,  y(1) = 0,  y'(1) = 0] using r k f algorithm |!<br><br>\n",
    "and a plot is developed, although no solution expression is given. The plot, however, is a smooth flatline on $\\,y\\,=\\,0\\,$, which may be taken for the zero answer that the text comes up with.\n",
    "\n",
    "\n",
    "</font>                 \n",
    "</div>"
   ]
  },
  {
   "attachments": {
    "wolf.svg": {
     "image/svg+xml": [
      "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"
     ]
    }
   },
   "cell_type": "markdown",
   "id": "c082260b",
   "metadata": {},
   "source": [
    "![wolf.svg](attachment:wolf.svg)"
   ]
  }
 ],
 "metadata": {
  "kernelspec": {
   "display_name": "Python 3 (ipykernel)",
   "language": "python",
   "name": "python3"
  },
  "language_info": {
   "codemirror_mode": {
    "name": "ipython",
    "version": 3
   },
   "file_extension": ".py",
   "mimetype": "text/x-python",
   "name": "python",
   "nbconvert_exporter": "python",
   "pygments_lexer": "ipython3",
   "version": "3.10.11"
  }
 },
 "nbformat": 4,
 "nbformat_minor": 5
}
