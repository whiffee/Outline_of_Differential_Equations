{
 "cells": [
  {
   "cell_type": "markdown",
   "id": "9ba214ee",
   "metadata": {},
   "source": [
    "<div style=\"background: #DDE2FF;\n",
    "            font-family: Bookerly;\n",
    "            font-size: 16px; \n",
    "            font-weight: 500;\n",
    "            padding: 10px 5px 10px 5px; \n",
    "            border: 30px solid #DDE2FF; \n",
    "            margin-left: 1px;\n",
    "            margin-right: 1px;\"\n",
    "\n",
    "<font color='blue'>\n",
    "\n",
    "</font>                 \n",
    "</div>"
   ]
  },
  {
   "cell_type": "markdown",
   "id": "ca4a92c5",
   "metadata": {},
   "source": [
    "<div style=\"background: #E2FFCC;\n",
    "            font-family: Bookerly;\n",
    "            font-size: 16px; \n",
    "            font-weight: 500;\n",
    "            padding: 10px 5px 10px 5px; \n",
    "            border: 30px solid #E2FFCC; \n",
    "            margin-left: 1px;\n",
    "            margin-right: 1px;\"\n",
    "\n",
    "<font color='blue'>\n",
    "\n",
    "</font>                 \n",
    "</div>"
   ]
  },
  {
   "cell_type": "markdown",
   "id": "2540ba57",
   "metadata": {},
   "source": [
    "<div style=\"background: #FFE3CC;\n",
    "            font-family: Bookerly;\n",
    "            font-size: 16px; \n",
    "            font-weight: 500;\n",
    "            padding: 10px 5px 10px 5px; \n",
    "            border: 30px solid #FFE3CC; \n",
    "            margin-left: 1px;\n",
    "            margin-right: 1px;\"\n",
    "\n",
    "<font color='blue'>\n",
    "\n",
    "</font>                 \n",
    "</div>"
   ]
  },
  {
   "cell_type": "code",
   "execution_count": null,
   "id": "23da9f8a",
   "metadata": {},
   "outputs": [],
   "source": []
  }
 ],
 "metadata": {
  "kernelspec": {
   "display_name": "Python 3 (ipykernel)",
   "language": "python",
   "name": "python3"
  },
  "language_info": {
   "codemirror_mode": {
    "name": "ipython",
    "version": 3
   },
   "file_extension": ".py",
   "mimetype": "text/x-python",
   "name": "python",
   "nbconvert_exporter": "python",
   "pygments_lexer": "ipython3",
   "version": "3.10.11"
  }
 },
 "nbformat": 4,
 "nbformat_minor": 5
}
