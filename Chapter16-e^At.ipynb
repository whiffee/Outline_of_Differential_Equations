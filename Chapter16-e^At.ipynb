{
 "cells": [
  {
   "cell_type": "markdown",
   "id": "97414f26",
   "metadata": {},
   "source": [
    "<div style=\"background: #DDE2FF;\n",
    "            font-family: Bookerly;\n",
    "            font-size: 14px; \n",
    "            font-weight: 500;\n",
    "            padding: 30px 5px 30px 5px; \n",
    "            border: 30px solid #DDE2FF; \n",
    "            margin-left: 1px;\n",
    "            margin-right: 1px;\"\n",
    "\n",
    "<font color='blue'>(Custom CSS files are not reliable for controlling Jupyter font style. To establish the same appearance as the original notebook, depend on the browser to control the font, by setting the desired font faces in the browser settings. For example, Chrome 135 or Firefox 134 can do this. In this notebook series, Bookerly font is for markdown and Monaco is for code.)\n",
    "     \n",
    "     \n",
    "     \n",
    "\n",
    "</font>                 \n",
    "</div>"
   ]
  },
  {
   "cell_type": "markdown",
   "id": "f7cb0cec",
   "metadata": {},
   "source": [
    "<div style=\"background: #DDE2FF;\n",
    "            font-family: Bookerly;\n",
    "            font-size: 16px; \n",
    "            font-weight: 500;\n",
    "            padding: 20px 5px 20px 5px; \n",
    "            border: 30px solid #DDE2FF; \n",
    "            margin-left: 1px;\n",
    "            margin-right: 1px;\"\n",
    "\n",
    "<font color='blue'>**Chapter 16 e^At**: Eigenvalues and linear equations related to Euler's number e. <br><br>\n",
    "     \n",
    "     \n",
    "     \n",
    "\n",
    "</font>                 \n",
    "</div>"
   ]
  },
  {
   "cell_type": "markdown",
   "id": "810585a6",
   "metadata": {},
   "source": [
    "<div style=\"background: #FFE3CC;\n",
    "            font-family: Bookerly;\n",
    "            font-size: 16px; \n",
    "            font-weight: 500;\n",
    "            padding: 20px 5px 20px 5px; \n",
    "            border: 30px solid #FFE3CC; \n",
    "            margin-left: 1px;\n",
    "            margin-right: 1px;\"\n",
    "\n",
    "<font color='blue'>16.1 Find $e^{\\textbf{A}t}$ for\n",
    "\n",
    "\\begin{equation}\n",
    "\\textbf{A}\\,=\\,\n",
    "  \\begin{bmatrix}\n",
    "    1 & 1 \\\\ \n",
    "    9 & 1 \\\\\n",
    "  \\end{bmatrix}\n",
    "  \\hspace{24 em}\n",
    "\\end{equation}\n",
    "     \n",
    "     \n",
    "     \n",
    "\n",
    "</font> \n",
    "</div>"
   ]
  },
  {
   "cell_type": "markdown",
   "id": "009023d7",
   "metadata": {},
   "source": [
    "<div style=\"background: #E2FFCC;\n",
    "            font-family: Bookerly;\n",
    "            font-size: 16px; \n",
    "            font-weight: 500;\n",
    "            padding: 10px 5px 10px 5px; \n",
    "            border: 30px solid #E2FFCC; \n",
    "            margin-left: 1px;\n",
    "            margin-right: 1px;\"\n",
    "\n",
    "<font color='blue'>In this case the matrix $\\textbf{A}$ has two rows and two columns and, under these circumstances the equation<br>\n",
    "\n",
    "$$\\,e^{\\textbf{A}\\,t}\\,=\\,\\alpha_1\\,\\textbf{A}\\,t\\,+\\,\\alpha_0\\,\\textbf{I}\\,$$\n",
    "\n",
    "applies. <br>\n",
    "\n",
    "\\begin{equation}\n",
    "  \\hspace{4 cm}\n",
    "  \\alpha_1\n",
    "  \\begin{bmatrix}\n",
    "    1 & 1 \\\\\n",
    "    9 & 1 \\\\\n",
    "  \\end{bmatrix}\n",
    "  t\n",
    "  %\n",
    "  +\\,\\alpha_0\n",
    "  \\begin{bmatrix}\n",
    "    1 & 0 \\\\\n",
    "    0 & 1 \\\\\n",
    "  \\end{bmatrix}\n",
    "  \\hspace{4 cm}\n",
    "\\end{equation}\n",
    "\n",
    "\n",
    "Building the matrix consists of simply summing the expressions for each of the element positions within the matrix.<br>\n",
    "\n",
    "\n",
    "\\begin{equation}\n",
    "  \\hspace{10 em}\n",
    "  \\begin{bmatrix}\n",
    "    \\alpha_1t+\\alpha_0 & \\alpha_1t \\\\ \n",
    "    9\\alpha_1t & \\alpha_1t+\\alpha_0 \\\\\n",
    "  \\end{bmatrix}\n",
    "  \\hspace{24 em}\n",
    "\\end{equation}\n",
    "\n",
    "It is necessary to get the eigenvalues of the matrix, which W|A can give:<br>\n",
    "\n",
    "!| {{1, 1}, {9, 1}} |!<br>\n",
    "\n",
    "it turning out that they are equal to $\\,\\lambda_1\\,=\\,4\\,$ and $\\,\\lambda_2\\,=\\,-2\\,$.<br>\n",
    "\n",
    "</font>                 \n",
    "</div>\n",
    "\n"
   ]
  },
  {
   "cell_type": "markdown",
   "id": "970abd74",
   "metadata": {},
   "source": [
    "<div style=\"background: #FFDDDD;\n",
    "            font-family: Bookerly;\n",
    "            font-size: 16px; \n",
    "            font-weight: 500;\n",
    "            padding: 10px 5px 10px 5px; \n",
    "            border: 30px solid #FFDDDD; \n",
    "            margin-left: 1px;\n",
    "            margin-right: 1px;\"\n",
    "\n",
    "<font color='blue'>Note that, for this chapter, it is not just eigenvalues of matrices that are being looked for. It is the solution to the equation $e^{\\mathbf{A}t}$ that is being sought. This solution will be a set of eigenvalues, but, technically, to each eigenvalue found will be attached the variable $t$."
   ]
  },
  {
   "cell_type": "markdown",
   "id": "c8f4cf25",
   "metadata": {},
   "source": [
    "<div style=\"background: #E2FFCC;\n",
    "            font-family: Bookerly;\n",
    "            font-size: 16px; \n",
    "            font-weight: 500;\n",
    "            padding: 10px 5px 10px 5px; \n",
    "            border: 30px solid #E2FFCC; \n",
    "            margin-left: 1px;\n",
    "            margin-right: 1px;\"\n",
    "\n",
    "<font color='blue'>When the matrix $n\\,$ = 2, and the eigenvalues distinct, the elements of the final matrix are governed by the equation:<br>\n",
    "\n",
    "$$e^{\\lambda\\,t}\\,=\\,\\lambda\\,t\\,\\alpha_1\\,+\\,\\alpha_0$$<br>\n",
    "\n",
    "which in this case results in the equations:<br>\n",
    "\n",
    "$$\\,e^{4t}\\,=\\,4t\\alpha_1\\,+\\,\\alpha_0\\,$$\n",
    "\n",
    "and\n",
    "\n",
    "$$\\,e^{-2t}\\,=\\,-2t\\alpha_1\\,+\\,\\alpha_0\\,$$\n",
    "\n",
    "Wolfram Alpha was applied to for the simultaneous solution, but its standard computation time was not sufficient for the job. Instead, sympy did it in the wink of an eye. The code, and some scratch pad grafitti, are to be seen below.\n",
    "\n",
    "After reconciling the values for $\\alpha_0$ and $\\alpha_1$, the matrix of $e^{\\textbf{A}t}$ morphs into:<br>\n",
    "\n",
    "\\begin{equation}\n",
    " \\,e^{\\textbf{A}t}\\,=\\,\\frac{1}{6}\n",
    "  \\begin{bmatrix}\n",
    "    3e^{4t}+3e^{-2t} & e^{4t}-e^{-2t} \\\\ \n",
    "    9e^{4t}-9e^{-2t} & 3e^{4t}+3e^{-2t} \\\\\n",
    "  \\end{bmatrix}\n",
    "  \\hspace{3 em}\n",
    "\\end{equation}\n",
    "\n",
    "The coefficients which were native to the symbolic form of the matrix, above, have an essential role in contributing to its final appearance.\n",
    "\n",
    "\n",
    "\n",
    "\n",
    "\n",
    "\n",
    "\n",
    "\n",
    "\n",
    "\n",
    "</font>                 \n",
    "</div>"
   ]
  },
  {
   "cell_type": "code",
   "execution_count": 11,
   "id": "6257c33c",
   "metadata": {},
   "outputs": [
    {
     "name": "stdout",
     "output_type": "stream",
     "text": [
      "{a0: exp(4*t)/3 + 2*exp(-2*t)/3, a1: exp(4*t)/(6*t) - exp(-2*t)/(6*t)}\n"
     ]
    }
   ],
   "source": [
    "from sympy import *\n",
    "\n",
    "a0, a1, t = symbols('a0, a1, t')\n",
    "eq1 = Eq(exp(4*t), 4*t*a1 + a0)\n",
    "eq2 = Eq(exp(-2*t), -2*t*a1 + a0)\n",
    "res = solve([eq1, eq2], (a0, a1))\n",
    "print(res)\n",
    "\n"
   ]
  },
  {
   "cell_type": "code",
   "execution_count": null,
   "id": "a730d01d",
   "metadata": {},
   "outputs": [],
   "source": [
    "(e^(6t) +2)*(e^(-2t)/3= (e^4t + 2*e^(-2t))/3 = alpha-0\n",
    "             \n",
    "             "
   ]
  },
  {
   "cell_type": "code",
   "execution_count": null,
   "id": "c2867c82",
   "metadata": {},
   "outputs": [],
   "source": [
    "(e^(6t) - 1)*e^(-2t)/6t = (e^4t - e^(-2t))/6t = alpha-1 and after cancelling t factors ->\n",
    "\n"
   ]
  },
  {
   "cell_type": "code",
   "execution_count": null,
   "id": "203dcd41",
   "metadata": {},
   "outputs": [],
   "source": [
    "(2*e^4t + 4*e^(-2t))/6 = alpha-0\n",
    "\n"
   ]
  },
  {
   "cell_type": "code",
   "execution_count": null,
   "id": "64cfe744",
   "metadata": {},
   "outputs": [],
   "source": [
    "e^4t - e^(-2t)/6 = alpha-1\n",
    "\n"
   ]
  },
  {
   "cell_type": "code",
   "execution_count": null,
   "id": "f91c0b22",
   "metadata": {},
   "outputs": [],
   "source": [
    "1/6(3*e^4t + 3*e^(-2t)) combined at [1,1] and at [2,2]\n",
    "\n"
   ]
  },
  {
   "cell_type": "markdown",
   "id": "a6e377cd",
   "metadata": {},
   "source": [
    "<div style=\"background: #FFE3CC;\n",
    "            font-family: Bookerly;\n",
    "            font-size: 16px; \n",
    "            font-weight: 500;\n",
    "            padding: 20px 5px 20px 5px; \n",
    "            border: 30px solid #FFE3CC; \n",
    "            margin-left: 1px;\n",
    "            margin-right: 1px;\"\n",
    "\n",
    "<font color='blue'>16.2 Find $e^{\\textbf{A}t}$ for\n",
    "\n",
    "\\begin{equation}\n",
    "\\textbf{A}\\,=\\,\n",
    "  \\begin{bmatrix}\n",
    "    0 & 1 \\\\ \n",
    "    8 & -2 \\\\\n",
    "  \\end{bmatrix}\n",
    "  \\hspace{24 em}\n",
    "\\end{equation}\n",
    "     \n",
    "     \n",
    "     \n",
    "\n",
    "</font> \n",
    "</div>"
   ]
  },
  {
   "cell_type": "markdown",
   "id": "7635ebb3",
   "metadata": {},
   "source": [
    "<div style=\"background: #E2FFCC;\n",
    "            font-family: Bookerly;\n",
    "            font-size: 16px; \n",
    "            font-weight: 500;\n",
    "            padding: 10px 5px 10px 5px; \n",
    "            border: 30px solid #E2FFCC; \n",
    "            margin-left: 1px;\n",
    "            margin-right: 1px;\"\n",
    "\n",
    "<font color='blue'>In this case the matrix $\\textbf{A}$ has two rows and two columns and, under these circumstances the equation<br>\n",
    "\n",
    "$$\\,e^{\\textbf{A}\\,t}\\,=\\,\\alpha_1\\,\\textbf{A}\\,t\\,+\\,\\alpha_0\\,\\textbf{I}\\,$$\n",
    "\n",
    "applies. The given matrix and the outline of the identity matrix together determine the entries, which in this case come together as<br>\n",
    "\n",
    "\n",
    "\\begin{equation}\n",
    "  \\hspace{4 cm}\n",
    "  \\alpha_1\n",
    "  \\begin{bmatrix}\n",
    "    0 & 1 \\\\\n",
    "    8 & -2 \\\\\n",
    "  \\end{bmatrix}\n",
    "  t\n",
    "  %\n",
    "  +\\,\\alpha_0\n",
    "  \\begin{bmatrix}\n",
    "    1 & 0 \\\\\n",
    "    0 & 1 \\\\\n",
    "  \\end{bmatrix}\n",
    "  \\hspace{4 cm}\n",
    "\\end{equation}\n",
    "\n",
    "\n",
    "Building the matrix consists of simply summing the expressions for each of the element positions within the matrix.<br>\n",
    "\n",
    "\\begin{equation}\n",
    "  \\hspace{10 em}\n",
    "  \\begin{bmatrix}\n",
    "    \\alpha_0 & \\alpha_1t \\\\ \n",
    "    8\\alpha_1t & -2\\alpha_1t+\\alpha_0 \\\\\n",
    "  \\end{bmatrix}\n",
    "  \\hspace{12 em}\n",
    "\\end{equation}\n",
    "\n",
    "It is necessary to get the eigenvalues of the matrix, which W|A can give:<br>\n",
    "\n",
    "!| {{0, 1}, {8, -2}} |!<br>\n",
    "\n",
    "it turning out that they are equal to $\\,\\lambda_1\\,=\\,-4\\,$ and $\\,\\lambda_2\\,=\\,2\\,$.<br>\n",
    "\n",
    "When the matrix $n\\,$ = 2, and the eigenvalues distinct, the elements of the final matrix are governed by the equation:<br>\n",
    "\n",
    "$$e^{\\lambda\\,t}\\,=\\,\\lambda\\,t\\,\\alpha_1\\,+\\,\\alpha_0$$<br>\n",
    "\n",
    "which in this case results in the equations:<br>\n",
    "\n",
    "$$\\,e^{-4t}\\,=\\,-4t\\alpha_1\\,+\\,\\alpha_0\\,$$\n",
    "\n",
    "and\n",
    "\n",
    "$$\\,e^{2t}\\,=\\,2t\\alpha_1\\,+\\,\\alpha_0\\,$$\n",
    "\n",
    "Wolfram Alpha was applied to for the simultaneous solution, but its standard computation time was again not sufficient for the job. Instead, sympy did it again in a snap. The code, and some scratch pad grafitti, are to be seen below.\n",
    "\n",
    "After reconciling the values for $\\alpha_0$ and $\\alpha_1$, the matrix of $e^{\\textbf{A}t}$ morphs into:<br>\n",
    "\n",
    "\n",
    "\\begin{equation}\n",
    " \\,e^{\\textbf{A}t}\\,=\\,\\frac{1}{6}\n",
    "  \\begin{bmatrix}\n",
    "    4e^{2t}+2e^{-4t} & e^{2t}-e^{-4t} \\\\ \n",
    "    8e^{2t}-8e^{-4t} & 2e^{2t}+4e^{-4t} \\\\\n",
    "  \\end{bmatrix}\n",
    "  \\hspace{3 em}\n",
    "\\end{equation}\n",
    "\n",
    "The coefficients which were native to the symbolic form of the matrix, above, have an essential role in contributing to its final appearance.\n",
    "\n",
    "\n",
    "\n",
    "\n",
    "\n",
    "\n",
    "\n",
    "\n",
    "\n",
    "\n",
    "</font>                 \n",
    "</div>"
   ]
  },
  {
   "cell_type": "code",
   "execution_count": 3,
   "id": "6e6fcb05",
   "metadata": {},
   "outputs": [
    {
     "name": "stdout",
     "output_type": "stream",
     "text": [
      "{a0: 2*exp(2*t)/3 + exp(-4*t)/3, a1: exp(2*t)/(6*t) - exp(-4*t)/(6*t)}\n"
     ]
    }
   ],
   "source": [
    "from sympy import *\n",
    "\n",
    "a0, a1, t = symbols('a0, a1, t')\n",
    "eq1 = Eq(exp(-4*t), -4*t*a1 + a0)\n",
    "eq2 = Eq(exp(2*t), 2*t*a1 + a0)\n",
    "res = solve([eq1, eq2], (a0, a1))\n",
    "print(res)\n",
    "\n"
   ]
  },
  {
   "cell_type": "code",
   "execution_count": null,
   "id": "3b7cb3c8",
   "metadata": {},
   "outputs": [],
   "source": [
    "2e^(2t)/3 + e^(-4t)/3 = alpha-0\n",
    "\n"
   ]
  },
  {
   "cell_type": "code",
   "execution_count": null,
   "id": "dfaaae09",
   "metadata": {},
   "outputs": [],
   "source": [
    "e^(2t)/6t -e^(-4t)/6t = alpha-1\n",
    "\n"
   ]
  },
  {
   "cell_type": "code",
   "execution_count": null,
   "id": "28876393",
   "metadata": {},
   "outputs": [],
   "source": [
    "4e^(2t)/6 + 2e^(-4t)/6 = alpha-0\n",
    "\n"
   ]
  },
  {
   "cell_type": "markdown",
   "id": "1a15494a",
   "metadata": {},
   "source": [
    "<div style=\"background: #FFE3CC;\n",
    "            font-family: Bookerly;\n",
    "            font-size: 16px; \n",
    "            font-weight: 500;\n",
    "            padding: 20px 5px 20px 5px; \n",
    "            border: 30px solid #FFE3CC; \n",
    "            margin-left: 1px;\n",
    "            margin-right: 1px;\"\n",
    "\n",
    "<font color='blue'>16.3 Find $e^{\\textbf{A}t}$ for\n",
    "\n",
    "\\begin{equation}\n",
    "\\textbf{A}\\,=\\,\n",
    "  \\begin{bmatrix}\n",
    "    0 & 1 \\\\ \n",
    "    -1 & 0 \\\\\n",
    "  \\end{bmatrix}\n",
    "  \\hspace{24 em}\n",
    "\\end{equation}\n",
    "     \n",
    "     \n",
    "     \n",
    "\n",
    "</font> \n",
    "</div>"
   ]
  },
  {
   "cell_type": "markdown",
   "id": "2fbbe11e",
   "metadata": {},
   "source": [
    "<div style=\"background: #E2FFCC;\n",
    "            font-family: Bookerly;\n",
    "            font-size: 16px; \n",
    "            font-weight: 500;\n",
    "            padding: 10px 5px 10px 5px; \n",
    "            border: 30px solid #E2FFCC; \n",
    "            margin-left: 1px;\n",
    "            margin-right: 1px;\"\n",
    "\n",
    "<font color='blue'>In this case the matrix $\\textbf{A}$ has two rows and two columns and, under these circumstances the equation<br>\n",
    "\n",
    "$$\\,e^{\\textbf{A}\\,t}\\,=\\,\\alpha_1\\,\\textbf{A}\\,t\\,+\\,\\alpha_0\\,\\textbf{I}\\,$$\n",
    "\n",
    "applies. The given matrix and the outline of the identity matrix together determine the entries, which in this case come together as shown in Problem 1:<br>\n",
    "\n",
    "\\begin{equation}\n",
    "  \\hspace{10 em}\n",
    "  \\begin{bmatrix}\n",
    "    \\alpha_0 & \\alpha_1t \\\\ \n",
    "    -\\alpha_1t & \\alpha_0 \\\\\n",
    "  \\end{bmatrix}\n",
    "  \\hspace{12 em}\n",
    "\\end{equation}\n",
    "\n",
    "It is necessary to get the eigenvalues of the matrix, which W|A can give:<br>\n",
    "\n",
    "!| {{0, 1}, {-1, 0}} |!<br>\n",
    "\n",
    "it turning out that they are equal to $\\,\\lambda_1\\,=\\,i\\,$ and $\\,\\lambda_2\\,=\\,-i\\,$.<br>\n",
    "\n",
    "When the matrix $n\\,$ = 2, and the eigenvalues distinct, the elements of the final matrix are governed by the equation:<br>\n",
    "\n",
    "$$e^{\\lambda\\,t}\\,=\\,\\lambda\\,t\\,\\alpha_1\\,+\\,\\alpha_0$$<br>\n",
    "\n",
    "which in this case results in the equations:<br>\n",
    "\n",
    "$$\\,e^{it}\\,=\\,it\\alpha_1\\,+\\,\\alpha_0\\,$$\n",
    "\n",
    "and\n",
    "\n",
    "$$\\,e^{-it}\\,=\\,-it\\alpha_1\\,+\\,\\alpha_0\\,$$\n",
    "\n",
    "Wolfram Alpha was applied to for the simultaneous solution, and its standard computation time was sufficient for the job, but the answers were too general to be useful. Instead, sympy did it again in a snap. The code, and some scratch pad grafitti, are to be seen below.<br>\n",
    "\n",
    "On the web was found a couple of versions of Euler's relation which will come in handy:<br>\n",
    "\n",
    "$\\hspace{13 em}\\textrm{sin}\\,x\\,=\\,\\large\\frac{e^{ix}\\,-\\,e^{-ix}}{2\\,i}\\:\\:$ and $\\:\\:\\small\\textrm{cos}\\,x\\,=\\,\\large\\frac{e^{ix}\\,+\\,e^{-ix}}{2}$\n",
    "\n",
    "After reconciling the values for $\\alpha_0$ and $\\alpha_1$, the matrix of $e^{\\textbf{A}t}$ morphs into:<br>\n",
    "\n",
    "\n",
    "\\begin{equation}\n",
    " \\,e^{\\textbf{A}t}\\,=\\,\n",
    "  \\begin{bmatrix}\n",
    "    \\textrm{cos}\\,t & \\textrm{sin}\\, t \\\\ \n",
    "    - \\textrm{sin}\\,t & \\textrm{cos}\\,t \\\\\n",
    "  \\end{bmatrix}\n",
    "  \\hspace{3 em}\n",
    "\\end{equation}\n",
    "\n",
    "The coefficients which were native to the symbolic form of the matrix, above, have an essential role in contributing to its final appearance.\n",
    "\n",
    "\n",
    "\n",
    "\n",
    "\n",
    "\n",
    "\n",
    "\n",
    "\n",
    "\n",
    "</font>                 \n",
    "</div>"
   ]
  },
  {
   "cell_type": "code",
   "execution_count": 8,
   "id": "73e6341a",
   "metadata": {},
   "outputs": [
    {
     "name": "stdout",
     "output_type": "stream",
     "text": [
      "{a0: exp(i*t)/2 + exp(-i*t)/2, a1: exp(i*t)/(2*i*t) - exp(-i*t)/(2*i*t)}\n"
     ]
    }
   ],
   "source": [
    "from sympy import *\n",
    "\n",
    "a0, a1, t, i = symbols('a0 a1 t i')\n",
    "eq1 = Eq(exp(i*t), a1*i*t + a0)\n",
    "eq2 = Eq(exp(-i*t),-a1*i*t + a0)\n",
    "res = solve([eq1, eq2], (a0, a1))\n",
    "print(res)\n",
    "\n"
   ]
  },
  {
   "cell_type": "code",
   "execution_count": null,
   "id": "1d6480fe",
   "metadata": {},
   "outputs": [],
   "source": [
    "e^(it/2) + e^(-it)/2 alpha-0\n",
    "\n"
   ]
  },
  {
   "cell_type": "code",
   "execution_count": null,
   "id": "d9997602",
   "metadata": {},
   "outputs": [],
   "source": [
    "e^(it)/(2it) - e^(-it)/(2it) alpha-1\n",
    "\n"
   ]
  },
  {
   "cell_type": "code",
   "execution_count": null,
   "id": "95b84547",
   "metadata": {},
   "outputs": [],
   "source": [
    "1/2(e^it + e^-it) alpha-0\n",
    "\n"
   ]
  },
  {
   "cell_type": "code",
   "execution_count": null,
   "id": "2343d7d9",
   "metadata": {},
   "outputs": [],
   "source": [
    "1/2it(e^it - e^-it)  alpha-1\n",
    "\n"
   ]
  },
  {
   "cell_type": "markdown",
   "id": "fc646045",
   "metadata": {},
   "source": [
    "<div style=\"background: #FFE3CC;\n",
    "            font-family: Bookerly;\n",
    "            font-size: 16px; \n",
    "            font-weight: 500;\n",
    "            padding: 20px 5px 20px 5px; \n",
    "            border: 30px solid #FFE3CC; \n",
    "            margin-left: 1px;\n",
    "            margin-right: 1px;\"\n",
    "\n",
    "<font color='blue'>16.4 Find $e^{\\textbf{A}t}$ for\n",
    "\n",
    "\\begin{equation}\n",
    "\\textbf{A}\\,=\\,\n",
    "  \\begin{bmatrix}\n",
    "    0 & 1 \\\\ \n",
    "    -9 & 6 \\\\\n",
    "  \\end{bmatrix}\n",
    "  \\hspace{24 em}\n",
    "\\end{equation}\n",
    "     \n",
    "     \n",
    "     \n",
    "\n",
    "</font> \n",
    "</div>"
   ]
  },
  {
   "cell_type": "markdown",
   "id": "6f7c8fa9",
   "metadata": {},
   "source": [
    "<div style=\"background: #E2FFCC;\n",
    "            font-family: Bookerly;\n",
    "            font-size: 16px; \n",
    "            font-weight: 500;\n",
    "            padding: 10px 5px 10px 5px; \n",
    "            border: 30px solid #E2FFCC; \n",
    "            margin-left: 1px;\n",
    "            margin-right: 1px;\"\n",
    "\n",
    "<font color='blue'>In this case the matrix $\\textbf{A}$ has two rows and two columns and, under these circumstances the equation<br>\n",
    "\n",
    "$$\\,e^{\\textbf{A}\\,t}\\,=\\,\\alpha_1\\,\\textbf{A}\\,t\\,+\\,\\alpha_0\\,\\textbf{I}\\,$$\n",
    "\n",
    "applies. <br>\n",
    "\n",
    "The the present case the $e^\\textbf{A}$ matrix appears as: <br>\n",
    "\n",
    "\\begin{equation}\n",
    "  \\hspace{10 em}\n",
    "  \\begin{bmatrix}\n",
    "    \\alpha_0 & \\alpha_1t \\\\ \n",
    "    -9\\alpha_1t & 6\\alpha_1+\\alpha_0 \\\\\n",
    "  \\end{bmatrix}\n",
    "  \\hspace{12 em}\n",
    "\\end{equation}\n",
    "\n",
    "It is necessary to get the eigenvalues of the matrix, which W|A can give:<br>\n",
    "\n",
    "!| {{0, 1}, {-9, 6}} |!<br>\n",
    "\n",
    "it turning out that they are equal to $\\,\\lambda_1\\,=\\,3\\,$ only. Evidently there is a duplicate eigenvalue for this size 2 matrix.<br>\n",
    "\n",
    "When the matrix $n\\,$ = 2, and the eigenvalues **not** distinct, the elements of the final matrix are governed by the equations:<br>\n",
    "\n",
    "$$e^{\\lambda\\,t}\\,=\\,\\lambda\\,t\\,\\alpha_1\\,+\\,\\alpha_0$$<br>\n",
    "\n",
    "$$e^{\\lambda\\,t}\\,=\\,\\alpha_1\\,$$<br>\n",
    "\n",
    "which in this case results in the equations:<br>\n",
    "$$\\,e^{3t}\\,=\\,3t\\alpha_1\\,+\\,\\alpha_0\\,$$\n",
    "\n",
    "and\n",
    "\n",
    "$$\\,e^{3t}\\,=\\,\\alpha_1\\,$$\n",
    "\n",
    "Wolfram Alpha was applied to for the simultaneous solution, and its standard computation time was sufficient only for an integer solution to the job. So, sympy did it again. The code, and some scratch pad grafitti, are to be seen below.<br>\n",
    "\n",
    "\n",
    "\n",
    "\\begin{equation}\n",
    " \\,e^{\\textbf{A}t}\\,=\\,e^{3t}\\,\n",
    "  \\begin{bmatrix}\n",
    "    1-3t & t \\\\ \n",
    "    -9t & 7-3t \\\\\n",
    "  \\end{bmatrix}\n",
    "  \\hspace{3 em}\n",
    "\\end{equation}\n",
    "\n",
    "The coefficients which were native to the symbolic form of the matrix, above, have an essential role in contributing to its final appearance. Note: text answer for matrix position [2][2] does not agree with the above.\n",
    "\n",
    "\n",
    "\n",
    "\n",
    "\n",
    "\n",
    "\n",
    "\n",
    "\n",
    "\n",
    "</font>                 \n",
    "</div>"
   ]
  },
  {
   "cell_type": "code",
   "execution_count": 1,
   "id": "39af0ad1",
   "metadata": {},
   "outputs": [
    {
     "name": "stdout",
     "output_type": "stream",
     "text": [
      "{a0: -3*t*exp(3*t) + exp(3*t), a1: exp(3*t)}\n"
     ]
    }
   ],
   "source": [
    "from sympy import *\n",
    "\n",
    "a0, a1, t = symbols('a0 a1 t')\n",
    "eq1 = Eq(exp(3*t), a1*3*t + a0)\n",
    "eq2 = Eq(exp(3*t),a1 )\n",
    "res = solve([eq1, eq2], (a0, a1))\n",
    "print(res)\n",
    "\n"
   ]
  },
  {
   "cell_type": "code",
   "execution_count": null,
   "id": "981d2375",
   "metadata": {},
   "outputs": [],
   "source": [
    "-3te^(3t) + e(3t) alpha-0\n",
    "\n"
   ]
  },
  {
   "cell_type": "code",
   "execution_count": null,
   "id": "97051d61",
   "metadata": {},
   "outputs": [],
   "source": [
    "e^(3t) alpha-1\n",
    "\n"
   ]
  },
  {
   "cell_type": "code",
   "execution_count": null,
   "id": "29eba4a0",
   "metadata": {},
   "outputs": [],
   "source": [
    "6a1 + a0 = 6e^(3t)-3te^(3t) + e^(3t) = e^(3t)[6 + 1 - 3t)] = e^(3t)[7 -3t] \n",
    "NB position [2][2] text does not agree\n",
    "\n"
   ]
  },
  {
   "cell_type": "markdown",
   "id": "2596a6ae",
   "metadata": {},
   "source": [
    "<div style=\"background: #FFE3CC;\n",
    "            font-family: Bookerly;\n",
    "            font-size: 16px; \n",
    "            font-weight: 500;\n",
    "            padding: 20px 5px 20px 5px; \n",
    "            border: 30px solid #FFE3CC; \n",
    "            margin-left: 1px;\n",
    "            margin-right: 1px;\"\n",
    "\n",
    "<font color='blue'>16.5 Find $e^{\\textbf{A}t}$ for\n",
    "\n",
    "\\begin{equation}\n",
    "\\textbf{A}\\,=\\,\n",
    "  \\begin{bmatrix}\n",
    "    3 & 1 & 0 \\\\ \n",
    "    0 & 3 & 1 \\\\\n",
    "    0 & 0 & 3 \\\\\n",
    "  \\end{bmatrix}\n",
    "  \\hspace{24 em}\n",
    "\\end{equation}\n",
    "     \n",
    "     \n",
    "     \n",
    "\n",
    "</font> \n",
    "</div>"
   ]
  },
  {
   "cell_type": "markdown",
   "id": "b28eef0f",
   "metadata": {},
   "source": [
    "<div style=\"background: #E2FFCC;\n",
    "            font-family: Bookerly;\n",
    "            font-size: 16px; \n",
    "            font-weight: 500;\n",
    "            padding: 10px 5px 10px 5px; \n",
    "            border: 30px solid #E2FFCC; \n",
    "            margin-left: 1px;\n",
    "            margin-right: 1px;\"\n",
    "\n",
    "<font color='blue'>In this case the matrix $\\textbf{A}$ has three rows and three columns and, under these circumstances the equation<br>\n",
    "\n",
    "$$\\,e^{\\textbf{A}\\,t}\\,=\\,\\alpha_2\\textbf{A}^2\\,t^2\\,+\\,\\alpha_1\\textbf{A}t\\,+\\,\\alpha_0\\textbf{I} =$$\n",
    "\n",
    "\\begin{equation}\n",
    "  \\hspace{4 cm}\n",
    " =\\,\\alpha_2\n",
    "  \\begin{bmatrix}\n",
    "    9 & 6 & 1 \\\\ \n",
    "    0 & 9 & 6 \\\\\n",
    "    0 & 0 & 9 \\\\\n",
    "  \\end{bmatrix}\n",
    "  t^2\\,\n",
    "  %\n",
    "  +\\,\\alpha_1\n",
    "  \\begin{bmatrix}\n",
    "    3 & 1 & 0 \\\\\n",
    "    0 & 3 & 1 \\\\\n",
    "    0 & 0 & 3 \\\\\n",
    "  \\end{bmatrix}\n",
    "  t\n",
    "  %\n",
    "  +\\,\\alpha_0\n",
    "  \\begin{bmatrix}\n",
    "    1 & 0 & 0 \\\\\n",
    "    0 & 1 & 0 \\\\\n",
    "    0 & 0 & 1 \\\\\n",
    "  \\end{bmatrix}\n",
    "  \\hspace{4 cm}\n",
    "\\end{equation}\n",
    "\n",
    "\n",
    "applies. Building the matrix consists of simply summing the expressions for each of the element positions within the matrix.<br>\n",
    "\n",
    "\n",
    "\n",
    "In the present case the $e^\\textbf{A}$ matrix appears as: <br>\n",
    "\n",
    "\\begin{equation}\n",
    "  \\hspace{10 em}\n",
    "  \\begin{bmatrix}\n",
    "    9\\alpha_2t^2+3\\alpha_1t+\\alpha_0 & 6\\alpha_2t^2+\\alpha_1t & \\alpha_2t^2 \\\\ \n",
    "    0 & 9\\alpha_2t^2+ 3\\alpha_1t+\\alpha_0 & 6\\alpha_2t^2+\\alpha_1t \\\\\n",
    "    0 & 0 & 9\\alpha_2t^2+3\\alpha_1t+\\alpha_0\n",
    "  \\end{bmatrix}\n",
    "  \\hspace{12 em}\n",
    "\\end{equation}\n",
    "\n",
    "It is necessary to get the eigenvalues of the matrix, which W|A can give:<br>\n",
    "\n",
    "!| {{3, 1, 0}, {0, 3, 1}, {0, 0, 3}} |!<br>\n",
    "\n",
    "it turning out that they are equal to $\\,\\lambda_1\\,=\\,3\\,$ only. Evidently there is a triplicate eigenvalue for this size 3 matrix.<br>\n",
    "\n",
    "The text author chooses to introduce an eigenvalue related equation,<br>\n",
    "\n",
    "$$➀\\hspace{8.0 cm}r(\\lambda)\\,=\\,\\alpha_2\\lambda^2\\,+\\,\\alpha_1\\lambda\\,+\\,\\alpha_0\\,\\hspace{8.0 cm}$$<br>\n",
    "\n",
    "and the purpose of this equation is to be the determination of other equations for manufacturing the entries into the final $e^{\\textbf{A}t}$ matrix. To this end the $r$ equation is differentiated twice with respect to \"$\\lambda$\", the two resultant equations being:<br>\n",
    "\n",
    "$$➁\\hspace{8.6 cm}\\frac{dr(\\lambda)}{d\\lambda}\\,=\\,2\\alpha_2\\lambda\\,+\\,\\alpha_1\\hspace{8.6 cm}$$\n",
    "$$➂\\hspace{16 em}\\frac{d^2r(\\lambda)}{d\\lambda^2}\\,=\\,2\\alpha_2\\hspace{18 em}$$\n",
    "\n",
    "The three numbered equations above are based on $r(\\lambda)$, and can be defined clearly by substituting the value of the eigenvalue and its sidekick $t$:<br>\n",
    "\n",
    "$$e^{3t}\\,=\\,\\alpha_2\\,9t^2+\\,\\alpha_1\\,3t\\,+\\,\\alpha_0$$<br>\n",
    "\n",
    "$$e^{3t}\\,=6\\alpha_2\\,t\\,+\\,\\alpha_1\\,$$<br>\n",
    "\n",
    "$$e^{3t}\\,=\\,2\\alpha_2\\,$$<br>\n",
    "\n",
    "Based on its insufficient processing time available for the last few sets of simultaneous equations, Wolfram Alpha is not applied to for the simultaneous solution. So, sympy does it again. The code, and considerable scratch pad grafitti, are to be seen below.<br>\n",
    "\n",
    "\n",
    "\n",
    "\\begin{equation}\n",
    "  \\hspace{2cm}\n",
    "  \\,e^{\\textbf{A}t}\\,=\\,e^{3t}\\,\n",
    "  \\begin{bmatrix}\n",
    "    1 & t & t^2/2 \\\\ \n",
    "    0 & 1 & t \\\\\n",
    "    0 & 0 & 1\n",
    "  \\end{bmatrix}\n",
    "  \\hspace{2 cm}\n",
    "\\end{equation}\n",
    "\n",
    "The coefficients which were native to the symbolic form of the matrix, above, have an essential role in contributing to its final appearance. \n",
    "\n",
    "\n",
    "\n",
    "\n",
    "\n",
    "\n",
    "\n",
    "\n",
    "\n",
    "\n",
    "</font>                 \n",
    "</div>"
   ]
  },
  {
   "cell_type": "code",
   "execution_count": 1,
   "id": "8672ff73",
   "metadata": {},
   "outputs": [
    {
     "name": "stdout",
     "output_type": "stream",
     "text": [
      "{a0: 9*t**2*exp(3*t)/2 - 3*t*exp(3*t) + exp(3*t), a1: -3*t*exp(3*t) + exp(3*t), a2: exp(3*t)/2}\n"
     ]
    }
   ],
   "source": [
    "from sympy import *\n",
    "\n",
    "a0, a1, a2, t = symbols('a0 a1 a2 t')\n",
    "eq1 = Eq(exp(3*t), a2*9*t**2 + a1*3*t + a0)\n",
    "eq2 = Eq(exp(3*t), 6*a2*t + a1)\n",
    "eq3 = Eq(exp(3*t), 2*a2)\n",
    "res = solve([eq1, eq2, eq3], (a0, a1, a2))\n",
    "print(res)\n",
    "\n"
   ]
  },
  {
   "cell_type": "code",
   "execution_count": 2,
   "id": "afe0619a",
   "metadata": {},
   "outputs": [
    {
     "data": {
      "text/latex": [
       "$\\displaystyle \\frac{9 t^{2} e^{3 t}}{2} - 3 t e^{3 t} + e^{3 t}$"
      ],
      "text/plain": [
       "9*t**2*exp(3*t)/2 - 3*t*exp(3*t) + exp(3*t)"
      ]
     },
     "execution_count": 2,
     "metadata": {},
     "output_type": "execute_result"
    }
   ],
   "source": [
    "a0 = 9*t**2*exp(3*t)/2 - 3*t*exp(3*t) + exp(3*t)\n",
    "a0\n",
    "\n"
   ]
  },
  {
   "cell_type": "code",
   "execution_count": 3,
   "id": "7c0e7ccd",
   "metadata": {},
   "outputs": [
    {
     "data": {
      "text/latex": [
       "$\\displaystyle - 3 t e^{3 t} + e^{3 t}$"
      ],
      "text/plain": [
       "-3*t*exp(3*t) + exp(3*t)"
      ]
     },
     "execution_count": 3,
     "metadata": {},
     "output_type": "execute_result"
    }
   ],
   "source": [
    "a1 = -3*t*exp(3*t) + exp(3*t)\n",
    "a1\n",
    "\n"
   ]
  },
  {
   "cell_type": "code",
   "execution_count": 4,
   "id": "4308fb1c",
   "metadata": {
    "scrolled": true
   },
   "outputs": [
    {
     "data": {
      "text/latex": [
       "$\\displaystyle \\frac{e^{3 t}}{2}$"
      ],
      "text/plain": [
       "exp(3*t)/2"
      ]
     },
     "execution_count": 4,
     "metadata": {},
     "output_type": "execute_result"
    }
   ],
   "source": [
    "a2 = exp(3*t)/2\n",
    "a2\n",
    "\n"
   ]
  },
  {
   "cell_type": "code",
   "execution_count": 18,
   "id": "5e780536",
   "metadata": {},
   "outputs": [
    {
     "data": {
      "text/latex": [
       "$\\displaystyle 9 t^{2} e^{3 t} + t \\left(- 9 t e^{3 t} + 3 e^{3 t}\\right) - 3 t e^{3 t} + e^{3 t}$"
      ],
      "text/plain": [
       "9*t**2*exp(3*t) + t*(-9*t*exp(3*t) + 3*exp(3*t)) - 3*t*exp(3*t) + exp(3*t)"
      ]
     },
     "execution_count": 18,
     "metadata": {},
     "output_type": "execute_result"
    }
   ],
   "source": [
    "one1 = 9*a2*t**2 + 3*a1*t + a0\n",
    "one1\n",
    "\n"
   ]
  },
  {
   "cell_type": "code",
   "execution_count": 19,
   "id": "a731e858",
   "metadata": {},
   "outputs": [
    {
     "data": {
      "text/latex": [
       "$\\displaystyle e^{3 t}$"
      ],
      "text/plain": [
       "exp(3*t)"
      ]
     },
     "execution_count": 19,
     "metadata": {},
     "output_type": "execute_result"
    }
   ],
   "source": [
    "simplify(one1)\n",
    "\n"
   ]
  },
  {
   "cell_type": "code",
   "execution_count": 11,
   "id": "eb99c92c",
   "metadata": {},
   "outputs": [
    {
     "data": {
      "text/latex": [
       "$\\displaystyle 3 t^{2} e^{3 t} + t \\left(- 3 t e^{3 t} + e^{3 t}\\right)$"
      ],
      "text/plain": [
       "3*t**2*exp(3*t) + t*(-3*t*exp(3*t) + exp(3*t))"
      ]
     },
     "execution_count": 11,
     "metadata": {},
     "output_type": "execute_result"
    }
   ],
   "source": [
    "one2 = 6*a2*t**2 + a1*t\n",
    "one2\n",
    "\n"
   ]
  },
  {
   "cell_type": "code",
   "execution_count": 16,
   "id": "20d6d731",
   "metadata": {},
   "outputs": [
    {
     "data": {
      "text/latex": [
       "$\\displaystyle t e^{3 t}$"
      ],
      "text/plain": [
       "t*exp(3*t)"
      ]
     },
     "execution_count": 16,
     "metadata": {},
     "output_type": "execute_result"
    }
   ],
   "source": [
    "simplify(one2)\n",
    "\n"
   ]
  },
  {
   "cell_type": "code",
   "execution_count": 12,
   "id": "f6b9676a",
   "metadata": {
    "scrolled": true
   },
   "outputs": [
    {
     "data": {
      "text/latex": [
       "$\\displaystyle \\frac{t^{2} e^{3 t}}{2}$"
      ],
      "text/plain": [
       "t**2*exp(3*t)/2"
      ]
     },
     "execution_count": 12,
     "metadata": {},
     "output_type": "execute_result"
    }
   ],
   "source": [
    "one3 = a2*t**2\n",
    "one3\n",
    "\n"
   ]
  },
  {
   "cell_type": "code",
   "execution_count": 13,
   "id": "ded8018b",
   "metadata": {},
   "outputs": [
    {
     "data": {
      "text/latex": [
       "$\\displaystyle 9 t^{2} e^{3 t} + t \\left(- 9 t e^{3 t} + 3 e^{3 t}\\right) - 3 t e^{3 t} + e^{3 t}$"
      ],
      "text/plain": [
       "9*t**2*exp(3*t) + t*(-9*t*exp(3*t) + 3*exp(3*t)) - 3*t*exp(3*t) + exp(3*t)"
      ]
     },
     "execution_count": 13,
     "metadata": {},
     "output_type": "execute_result"
    }
   ],
   "source": [
    "two2 = 9*a2*t**2 + 3*a1*t + a0\n",
    "two2\n",
    "\n"
   ]
  },
  {
   "cell_type": "code",
   "execution_count": 17,
   "id": "c3fe5f1d",
   "metadata": {},
   "outputs": [
    {
     "data": {
      "text/latex": [
       "$\\displaystyle e^{3 t}$"
      ],
      "text/plain": [
       "exp(3*t)"
      ]
     },
     "execution_count": 17,
     "metadata": {},
     "output_type": "execute_result"
    }
   ],
   "source": [
    "simplify(two2)\n",
    "\n"
   ]
  },
  {
   "cell_type": "code",
   "execution_count": 14,
   "id": "1d8b29e6",
   "metadata": {},
   "outputs": [
    {
     "data": {
      "text/latex": [
       "$\\displaystyle 3 t^{2} e^{3 t} + t \\left(- 3 t e^{3 t} + e^{3 t}\\right)$"
      ],
      "text/plain": [
       "3*t**2*exp(3*t) + t*(-3*t*exp(3*t) + exp(3*t))"
      ]
     },
     "execution_count": 14,
     "metadata": {},
     "output_type": "execute_result"
    }
   ],
   "source": [
    "two3 = 6*a2*t**2 + a1*t\n",
    "two3\n",
    "\n"
   ]
  },
  {
   "cell_type": "code",
   "execution_count": 20,
   "id": "81d14c09",
   "metadata": {},
   "outputs": [
    {
     "data": {
      "text/latex": [
       "$\\displaystyle t e^{3 t}$"
      ],
      "text/plain": [
       "t*exp(3*t)"
      ]
     },
     "execution_count": 20,
     "metadata": {},
     "output_type": "execute_result"
    }
   ],
   "source": [
    "simplify(two3)\n",
    "\n"
   ]
  },
  {
   "cell_type": "code",
   "execution_count": 15,
   "id": "41709060",
   "metadata": {},
   "outputs": [
    {
     "data": {
      "text/latex": [
       "$\\displaystyle 9 t^{2} e^{3 t} + t \\left(- 9 t e^{3 t} + 3 e^{3 t}\\right) - 3 t e^{3 t} + e^{3 t}$"
      ],
      "text/plain": [
       "9*t**2*exp(3*t) + t*(-9*t*exp(3*t) + 3*exp(3*t)) - 3*t*exp(3*t) + exp(3*t)"
      ]
     },
     "execution_count": 15,
     "metadata": {},
     "output_type": "execute_result"
    }
   ],
   "source": [
    "three3 = 9*a2*t**2 + 3*a1*t + a0\n",
    "three3\n",
    "\n"
   ]
  },
  {
   "cell_type": "code",
   "execution_count": 21,
   "id": "b4e59a64",
   "metadata": {},
   "outputs": [
    {
     "data": {
      "text/latex": [
       "$\\displaystyle e^{3 t}$"
      ],
      "text/plain": [
       "exp(3*t)"
      ]
     },
     "execution_count": 21,
     "metadata": {},
     "output_type": "execute_result"
    }
   ],
   "source": [
    "simplify(three3)\n",
    "\n"
   ]
  },
  {
   "cell_type": "markdown",
   "id": "1b22ccfe",
   "metadata": {},
   "source": [
    "<div style=\"background: #FFE3CC;\n",
    "            font-family: Bookerly;\n",
    "            font-size: 16px; \n",
    "            font-weight: 500;\n",
    "            padding: 20px 5px 20px 5px; \n",
    "            border: 30px solid #FFE3CC; \n",
    "            margin-left: 1px;\n",
    "            margin-right: 1px;\"\n",
    "\n",
    "<font color='blue'>16.6 Find $e^{\\textbf{A}t}$ for\n",
    "\n",
    "\\begin{equation}\n",
    "\\textbf{A}\\,=\\,\n",
    "  \\begin{bmatrix}\n",
    "    0 & 1 & 0 \\\\ \n",
    "    0 & 0 & 1 \\\\\n",
    "    0 & -1 & 2 \\\\\n",
    "  \\end{bmatrix}\n",
    "  \\hspace{24 em}\n",
    "\\end{equation}\n",
    "     \n",
    "     \n",
    "     \n",
    "\n",
    "</font> \n",
    "</div>"
   ]
  },
  {
   "cell_type": "markdown",
   "id": "8c45661b",
   "metadata": {},
   "source": [
    "<div style=\"background: #E2FFCC;\n",
    "            font-family: Bookerly;\n",
    "            font-size: 16px; \n",
    "            font-weight: 500;\n",
    "            padding: 10px 5px 10px 5px; \n",
    "            border: 30px solid #E2FFCC; \n",
    "            margin-left: 1px;\n",
    "            margin-right: 1px;\"\n",
    "\n",
    "<font color='blue'>In this case the matrix $\\textbf{A}$ has three rows and three columns and, under these circumstances the equation<br>\n",
    "\n",
    "$$\\,e^{\\textbf{A}\\,t}\\,=\\,\\alpha_2\\textbf{A}^2\\,t^2\\,+\\,\\alpha_1\\textbf{A}t\\,+\\,\\alpha_0\\textbf{I} =$$\n",
    "\n",
    "\\begin{equation}\n",
    "  \\hspace{4 cm}\n",
    " =\\,\\alpha_2\n",
    "  \\begin{bmatrix}\n",
    "    0 & 0 & 1 \\\\\n",
    "    0 & -1 & 2 \\\\\n",
    "    0 & -2 & 3 \\\\\n",
    "  \\end{bmatrix}\n",
    "  t^2\\,\n",
    "  %\n",
    "  +\\,\\alpha_1\n",
    "  \\begin{bmatrix}\n",
    "    0 & 1 & 0 \\\\ \n",
    "    0 & 0 & 1 \\\\\n",
    "    0 & -1 & 2 \\\\\n",
    "  \\end{bmatrix}\n",
    "  t\n",
    "  %\n",
    "  +\\,\\alpha_0\n",
    "  \\begin{bmatrix}\n",
    "    1 & 0 & 0 \\\\\n",
    "    0 & 1 & 0 \\\\\n",
    "    0 & 0 & 1 \\\\\n",
    "  \\end{bmatrix}\n",
    "  \\hspace{4 cm}\n",
    "\\end{equation}\n",
    "\n",
    "\n",
    "applies. Building the matrix consists of simply summing the expressions for each of the element positions within the matrix.<br>\n",
    "\n",
    "\n",
    "\n",
    "The the present case the $e^\\textbf{A}$ matrix appears as: <br>\n",
    "\n",
    "\\begin{equation}\n",
    "  \\hspace{10 em}\n",
    "  \\begin{bmatrix}\n",
    "    \\alpha_0 & \\alpha_1t & \\alpha_2t^2 \\\\ \n",
    "    0 & -\\alpha_2t^2+\\alpha_0 & 2\\alpha_2t^2+\\alpha_1t \\\\\n",
    "    0 & -2\\alpha_2t^2-\\alpha_1t & 3\\alpha_2t^2+2\\alpha_1t+\\alpha_0\n",
    "  \\end{bmatrix}\n",
    "  \\hspace{12 em}\n",
    "\\end{equation}\n",
    "\n",
    "It is necessary to get the eigenvalues of the matrix, which W|A can give. However, scipy has an advantage over W|A in the matter of eigenvalues, because when there are duplicates, scipy will tell which they are and how many of each. In this case (see cell below) there are three eigenvalues, all real, 2 of which equal 1 and one of which equals 0.\n",
    "\n",
    "The text author chooses to introduce an eigenvalue related equation,<br>\n",
    "\n",
    "$$➀\\hspace{8.0 cm}r(\\lambda)\\,=\\,\\alpha_2\\lambda^2\\,+\\,\\alpha_1\\lambda\\,+\\,\\alpha_0\\,\\hspace{8.0 cm}$$<br>\n",
    "\n",
    "and the purpose of this equation is to be the determination of other equations for manufacturing the entries into the final $e^{\\textbf{A}t}$ matrix. To this end the $r$ equation is differentiated twice with respect to \"$\\lambda$\", the two resultant equations being:<br>\n",
    "\n",
    "$$➁\\hspace{8.6 cm}\\frac{dr(\\lambda)}{d\\lambda}\\,=\\,2\\alpha_2\\lambda\\,+\\,\\alpha_1\\hspace{8.6 cm}$$\n",
    "$$➂\\hspace{8.6 cm}\\frac{d^2r(\\lambda)}{d\\lambda^2}\\,=\\,2\\alpha_2\\hspace{9.9 cm}$$\n",
    "\n",
    "The three numbered equations above are based on $r(\\lambda)$, and can be defined by substituting the value of the eigenvalue and its sidekick $t$. The first two equations take as their operative the eigenvalues equal to 1. The third equation utilizes the eigenvalue equal to 0, which appears when the tricky $t$ variable equals 0, and inhabits the $\\textbf{I}$, matrix, not the $\\textbf{A}$ matrix:<br>\n",
    "\n",
    "$$e^{t}\\,=\\,\\alpha_2\\,t^2+\\,\\alpha_1\\,t\\,+\\,\\alpha_0$$<br>\n",
    "\n",
    "$$e^{t}\\,= \\,2\\alpha_2t\\,+\\alpha_1$$<br>\n",
    "\n",
    "$$e^{0}\\,=\\,\\alpha_0\\,$$<br>\n",
    "\n",
    "Based on its insufficient processing time available for the last few sets of simultaneous equations, Wolfram Alpha is not applied to for the simultaneous solution. So, sympy does it again. The code, and scratch pad grafitti, are to be seen below.<br>\n",
    "\n",
    "The coefficients which were native to the symbolic form of the matrix, above, have an essential role in contributing to its final appearance. \n",
    "\n",
    "\\begin{equation}\n",
    "  \\hspace{10 em}\n",
    "  \\,e^{\\textbf{A}t}\\,=\\,\n",
    "  \\begin{bmatrix}\n",
    "    1 & -te^t+2e^t-2 & te^t-e^t+1 \\\\ \n",
    "    0 & (1-t)e^t & te^t \\\\\n",
    "    0 & -te^t & (t+1)e^t\n",
    "  \\end{bmatrix}\n",
    "  \\hspace{12 em}\n",
    "\\end{equation}\n",
    "\n",
    "\n",
    "\n",
    "\n",
    "\n",
    "\n",
    "\n",
    "\n",
    "\n",
    "\n",
    "\n",
    "</font>                 \n",
    "</div>"
   ]
  },
  {
   "cell_type": "code",
   "execution_count": 4,
   "id": "0c925982",
   "metadata": {},
   "outputs": [
    {
     "data": {
      "text/plain": [
       "array([0.+0.j, 1.+0.j, 1.+0.j])"
      ]
     },
     "execution_count": 4,
     "metadata": {},
     "output_type": "execute_result"
    }
   ],
   "source": [
    "import numpy as np\n",
    "from scipy.linalg import eigvals as eig\n",
    "\n",
    "a = np.array([[0, 1, 0],[0, 0, 1],[0, -1, 2]])\n",
    "eig(a)\n",
    "\n"
   ]
  },
  {
   "cell_type": "code",
   "execution_count": 3,
   "id": "2404e01a",
   "metadata": {},
   "outputs": [
    {
     "name": "stdout",
     "output_type": "stream",
     "text": [
      "{a0: 1, a1: -exp(t) + 2*exp(t)/t - 2/t, a2: exp(t)/t - exp(t)/t**2 + t**(-2)}\n"
     ]
    }
   ],
   "source": [
    "from sympy import *\n",
    "\n",
    "a0, a1, a2, t = symbols('a0 a1 a2 t')\n",
    "eq1 = Eq(exp(t), a2*t**2 + a1*t + a0)\n",
    "eq2 = Eq(exp(t), 2*a2*t + a1)\n",
    "eq3 = Eq(exp(0), a0)\n",
    "res = solve([eq1, eq2, eq3], (a0, a1, a2))\n",
    "print(res)\n",
    "\n"
   ]
  },
  {
   "cell_type": "code",
   "execution_count": 5,
   "id": "3ddc266f",
   "metadata": {},
   "outputs": [
    {
     "data": {
      "text/plain": [
       "1"
      ]
     },
     "execution_count": 5,
     "metadata": {},
     "output_type": "execute_result"
    }
   ],
   "source": [
    "a0 =1\n",
    "a0\n",
    "\n"
   ]
  },
  {
   "cell_type": "code",
   "execution_count": 6,
   "id": "e62a78b4",
   "metadata": {},
   "outputs": [
    {
     "data": {
      "text/latex": [
       "$\\displaystyle - e^{t} + \\frac{2 e^{t}}{t} - \\frac{2}{t}$"
      ],
      "text/plain": [
       "-exp(t) + 2*exp(t)/t - 2/t"
      ]
     },
     "execution_count": 6,
     "metadata": {},
     "output_type": "execute_result"
    }
   ],
   "source": [
    "a1 = -exp(t) + 2*exp(t)/t -2/t\n",
    "a1\n",
    "\n"
   ]
  },
  {
   "cell_type": "code",
   "execution_count": 18,
   "id": "1315e251",
   "metadata": {},
   "outputs": [
    {
     "data": {
      "text/latex": [
       "$\\displaystyle \\frac{e^{t}}{t} - \\frac{e^{t}}{t^{2}} + \\frac{1}{t^{2}}$"
      ],
      "text/plain": [
       "exp(t)/t - exp(t)/t**2 + t**(-2)"
      ]
     },
     "execution_count": 18,
     "metadata": {},
     "output_type": "execute_result"
    }
   ],
   "source": [
    "a2 = exp(t)/t -exp(t)/t**2 + t**(-2)\n",
    "a2\n",
    "\n"
   ]
  },
  {
   "cell_type": "code",
   "execution_count": 20,
   "id": "1be572ee",
   "metadata": {},
   "outputs": [
    {
     "data": {
      "text/latex": [
       "$\\displaystyle t^{2} \\cdot \\left(\\frac{3 e^{t}}{t} - \\frac{3 e^{t}}{t^{2}} + \\frac{3}{t^{2}}\\right) + t \\left(- 2 e^{t} + \\frac{4 e^{t}}{t} - \\frac{4}{t}\\right) + 1$"
      ],
      "text/plain": [
       "t**2*(3*exp(t)/t - 3*exp(t)/t**2 + 3/t**2) + t*(-2*exp(t) + 4*exp(t)/t - 4/t) + 1"
      ]
     },
     "execution_count": 20,
     "metadata": {},
     "output_type": "execute_result"
    }
   ],
   "source": [
    "three3 = 3*a2*t**2+2*a1*t+a0\n",
    "three3\n",
    "\n"
   ]
  },
  {
   "cell_type": "code",
   "execution_count": 21,
   "id": "ecc2a88a",
   "metadata": {},
   "outputs": [
    {
     "data": {
      "text/latex": [
       "$\\displaystyle \\left(t + 1\\right) e^{t}$"
      ],
      "text/plain": [
       "(t + 1)*exp(t)"
      ]
     },
     "execution_count": 21,
     "metadata": {},
     "output_type": "execute_result"
    }
   ],
   "source": [
    "simplify(three3)\n",
    "\n"
   ]
  },
  {
   "cell_type": "code",
   "execution_count": 23,
   "id": "2d0fdbd8",
   "metadata": {},
   "outputs": [
    {
     "data": {
      "text/latex": [
       "$\\displaystyle t^{2} \\left(- \\frac{2 e^{t}}{t} + \\frac{2 e^{t}}{t^{2}} - \\frac{2}{t^{2}}\\right) - t \\left(- e^{t} + \\frac{2 e^{t}}{t} - \\frac{2}{t}\\right)$"
      ],
      "text/plain": [
       "t**2*(-2*exp(t)/t + 2*exp(t)/t**2 - 2/t**2) - t*(-exp(t) + 2*exp(t)/t - 2/t)"
      ]
     },
     "execution_count": 23,
     "metadata": {},
     "output_type": "execute_result"
    }
   ],
   "source": [
    "three2 = -2*a2*t**2-a1*t\n",
    "three2\n",
    "\n"
   ]
  },
  {
   "cell_type": "code",
   "execution_count": 24,
   "id": "043f8192",
   "metadata": {},
   "outputs": [
    {
     "data": {
      "text/latex": [
       "$\\displaystyle - t e^{t}$"
      ],
      "text/plain": [
       "-t*exp(t)"
      ]
     },
     "execution_count": 24,
     "metadata": {},
     "output_type": "execute_result"
    }
   ],
   "source": [
    "simplify(three2)\n",
    "\n"
   ]
  },
  {
   "cell_type": "code",
   "execution_count": 28,
   "id": "0870c463",
   "metadata": {},
   "outputs": [
    {
     "data": {
      "text/latex": [
       "$\\displaystyle t^{2} \\cdot \\left(\\frac{2 e^{t}}{t} - \\frac{2 e^{t}}{t^{2}} + \\frac{2}{t^{2}}\\right) + t \\left(- e^{t} + \\frac{2 e^{t}}{t} - \\frac{2}{t}\\right)$"
      ],
      "text/plain": [
       "t**2*(2*exp(t)/t - 2*exp(t)/t**2 + 2/t**2) + t*(-exp(t) + 2*exp(t)/t - 2/t)"
      ]
     },
     "execution_count": 28,
     "metadata": {},
     "output_type": "execute_result"
    }
   ],
   "source": [
    "two3 = 2*a2*t**2+a1*t\n",
    "two3\n",
    "\n"
   ]
  },
  {
   "cell_type": "code",
   "execution_count": 29,
   "id": "91e7c2d6",
   "metadata": {},
   "outputs": [
    {
     "data": {
      "text/latex": [
       "$\\displaystyle t e^{t}$"
      ],
      "text/plain": [
       "t*exp(t)"
      ]
     },
     "execution_count": 29,
     "metadata": {},
     "output_type": "execute_result"
    }
   ],
   "source": [
    "simplify(two3)\n",
    "\n"
   ]
  },
  {
   "cell_type": "code",
   "execution_count": 30,
   "id": "801252b3",
   "metadata": {},
   "outputs": [
    {
     "data": {
      "text/latex": [
       "$\\displaystyle t^{2} \\left(- \\frac{e^{t}}{t} + \\frac{e^{t}}{t^{2}} - \\frac{1}{t^{2}}\\right) + 1$"
      ],
      "text/plain": [
       "t**2*(-exp(t)/t + exp(t)/t**2 - 1/t**2) + 1"
      ]
     },
     "execution_count": 30,
     "metadata": {},
     "output_type": "execute_result"
    }
   ],
   "source": [
    "two2 = -a2*t**2+a0\n",
    "two2\n",
    "\n"
   ]
  },
  {
   "cell_type": "code",
   "execution_count": 31,
   "id": "1c2994a3",
   "metadata": {},
   "outputs": [
    {
     "data": {
      "text/latex": [
       "$\\displaystyle \\left(1 - t\\right) e^{t}$"
      ],
      "text/plain": [
       "(1 - t)*exp(t)"
      ]
     },
     "execution_count": 31,
     "metadata": {},
     "output_type": "execute_result"
    }
   ],
   "source": [
    "simplify(two2)\n",
    "\n"
   ]
  },
  {
   "cell_type": "code",
   "execution_count": 33,
   "id": "483e772d",
   "metadata": {},
   "outputs": [
    {
     "data": {
      "text/latex": [
       "$\\displaystyle t^{2} \\left(\\frac{e^{t}}{t} - \\frac{e^{t}}{t^{2}} + \\frac{1}{t^{2}}\\right)$"
      ],
      "text/plain": [
       "t**2*(exp(t)/t - exp(t)/t**2 + t**(-2))"
      ]
     },
     "execution_count": 33,
     "metadata": {},
     "output_type": "execute_result"
    }
   ],
   "source": [
    "one3 = a2*t**2\n",
    "one3\n",
    "\n"
   ]
  },
  {
   "cell_type": "code",
   "execution_count": 34,
   "id": "b3dda1ff",
   "metadata": {},
   "outputs": [
    {
     "data": {
      "text/latex": [
       "$\\displaystyle t e^{t} - e^{t} + 1$"
      ],
      "text/plain": [
       "t*exp(t) - exp(t) + 1"
      ]
     },
     "execution_count": 34,
     "metadata": {},
     "output_type": "execute_result"
    }
   ],
   "source": [
    "simplify(one3)\n",
    "\n",
    "\n",
    "\n",
    "\n",
    "\n",
    "\n",
    "\n",
    "\n",
    "\n",
    "\n",
    "\n",
    "\n",
    "\n"
   ]
  },
  {
   "cell_type": "markdown",
   "id": "69eab034",
   "metadata": {},
   "source": [
    "<div style=\"background: #FFE3CC;\n",
    "            font-family: Bookerly;\n",
    "            font-size: 16px; \n",
    "            font-weight: 500;\n",
    "            padding: 20px 5px 20px 5px; \n",
    "            border: 30px solid #FFE3CC; \n",
    "            margin-left: 1px;\n",
    "            margin-right: 1px;\"\n",
    "\n",
    "<font color='blue'>16.7 Find $e^{\\textbf{A}t}$ for\n",
    "\n",
    "\\begin{equation}\n",
    "\\textbf{A}\\,=\\,\n",
    "  \\begin{bmatrix}\n",
    "    0 & 1 & 0 \\\\ \n",
    "    0 & -2 & -5 \\\\\n",
    "    0 & 1 & 2 \\\\\n",
    "  \\end{bmatrix}\n",
    "  \\hspace{24 em}\n",
    "\\end{equation}\n",
    "     \n",
    "     \n",
    "     \n",
    "\n",
    "</font> \n",
    "</div>"
   ]
  },
  {
   "cell_type": "markdown",
   "id": "4b989eeb",
   "metadata": {},
   "source": [
    "<div style=\"background: #E2FFCC;\n",
    "            font-family: Bookerly;\n",
    "            font-size: 16px; \n",
    "            font-weight: 500;\n",
    "            padding: 10px 5px 10px 5px; \n",
    "            border: 30px solid #E2FFCC; \n",
    "            margin-left: 1px;\n",
    "            margin-right: 1px;\"\n",
    "\n",
    "<font color='blue'>In this case the matrix $\\textbf{A}$ has three rows and three columns and, under these circumstances the equation<br>\n",
    "\n",
    "$$\\,e^{\\textbf{A}\\,t}\\,=\\,\\alpha_2\\textbf{A}^2\\,t^2\\,+\\,\\alpha_1\\textbf{A}t\\,+\\,\\alpha_0\\textbf{I} =$$\n",
    "\n",
    "\\begin{equation}\n",
    "  \\hspace{4 cm}\n",
    " =\\,\\alpha_2\n",
    "  \\begin{bmatrix}\n",
    "    0 & -2 & -5 \\\\\n",
    "    0 & -1 & 0 \\\\\n",
    "    0 & 0 & -1 \\\\\n",
    "  \\end{bmatrix}\n",
    "  t^2\\,\n",
    "  %\n",
    "  +\\,\\alpha_1\n",
    "  \\begin{bmatrix}\n",
    "    0 & 1 & 0 \\\\ \n",
    "    0 & -2 & -5 \\\\\n",
    "    0 & 1 & 2 \\\\\n",
    "  \\end{bmatrix}\n",
    "  t\n",
    "  %\n",
    "  +\\,\\alpha_0\n",
    "  \\begin{bmatrix}\n",
    "    1 & 0 & 0 \\\\\n",
    "    0 & 1 & 0 \\\\\n",
    "    0 & 0 & 1 \\\\\n",
    "  \\end{bmatrix}\n",
    "  \\hspace{4 cm}\n",
    "\\end{equation}\n",
    "\n",
    "\n",
    "applies. Building the matrix consists of simply summing the expressions for each of the element positions within the matrix.<br>\n",
    "\n",
    "In the present case the $e^\\textbf{A}$ matrix appears as: <br>\n",
    "\n",
    "\\begin{equation}\n",
    "  \\hspace{8 em}\n",
    "  \\begin{bmatrix}\n",
    "    \\alpha_0 & -2\\alpha_2t^2+\\alpha_1t & -5\\alpha_2t^2 \\\\ \n",
    "    0 & -\\alpha_2t^2-2\\alpha_1t+\\alpha_0 & -5\\alpha_1t \\\\\n",
    "    0 & \\alpha_1t & -\\alpha_2t^2+2\\alpha_1t+\\alpha_0\n",
    "  \\end{bmatrix}\n",
    "  \\hspace{8 em}\n",
    "\\end{equation}\n",
    "\n",
    "It is necessary to get the eigenvalues of the matrix, which W|A can give. However, scipy has an advantage over W|A in the matter of eigenvalues, because when there are duplicates, scipy will tell which they are and how many of each. In this case, shown in a code cell below, there are three eigenvalues:<br>\n",
    "\n",
    "$\\hspace{9.5 cm}\\lambda_0\\,=\\,0\\hspace{0.6 cm}\\lambda_1\\,=\\,i\\hspace{0.6 cm}\\lambda_2\\,=\\,-i\\,$<br>\n",
    "\n",
    "In keeping with the style of the text, each eigenvalue has a $t$ variable yoked to it. The subscripting of scipy matches the subscripting of the text.<br>\n",
    "\n",
    "The text author chooses to introduce an eigenvalue related equation,<br>\n",
    "\n",
    "$$\\hspace{8.0 cm}r(\\lambda)\\,=\\,\\alpha_2\\lambda^2\\,+\\,\\alpha_1\\lambda\\,+\\,\\alpha_0\\,\\hspace{8.0 cm}$$<br>\n",
    "\n",
    "and the purpose of this equation is to be the determination of other equations for manufacturing the entries into the final $e^{\\textbf{A}t}$ matrix. It is further asserted that:<br>\n",
    "\n",
    "$$e^{\\lambda i}\\,=\\,r(\\lambda_i)\\,$$<br>\n",
    "\n",
    "Setting out the representative equations, they are seen as:<br>\n",
    "\n",
    "$$e^0\\,=\\,\\alpha_2\\,(0)^2+\\,\\alpha_1\\,(0)\\,+\\,\\alpha_0$$<br>\n",
    "$$e^{it}\\,=\\,\\alpha_2\\,(it)^2+\\,\\alpha_1\\,(it)\\,+\\,\\alpha_0$$<br>\n",
    "$$e^{-it}\\,=\\,\\alpha_2\\,(-it)^2+\\,\\alpha_1\\,(-it)\\,+\\,\\alpha_0$$<br>\n",
    "\n",
    "Based on its habitual processing time problem for simultaneous equations, Wolfram Alpha is not applied to for the simultaneous solution. So, sympy does it again. The code, and scratch pad grafitti, are to be seen below.<br>\n",
    "\n",
    "The final form of the answer matrix is shown below. The text rendition of an answer was luckier in some areas of simplification, although there are minor points of substance in which sympy disagrees with the text answer.\n",
    "\n",
    "\\begin{equation}\n",
    "  \\hspace{1 em}\n",
    "  \\,e^{\\textbf{A}t}\\,=\\,\n",
    "  \\begin{bmatrix}\n",
    "    1 & \\frac{\\textrm{sinh}(it)}{i}-\\frac{e^{it}}{i^2}-\\frac{e^{-it}}{i^2} & -5\\frac{((e^{it}-2)e^{it}+1)e^{-it}}{2i^2} \\\\ \n",
    "    0 & 1-\\frac{2\\,\\textrm{sinh}(it)}{i}-\\frac{e^{it}}{2i^2}+\\frac{1}{i^2}-\\frac{e^{-it}}{2i^2} & -5\\frac{\\textrm{sinh(it)}}{i} \\\\\n",
    "    0 & \\frac{\\textrm{sinh(it)}}{i} & 1+\\frac{2\\,\\textrm{sinh}(it)}{i}-\\frac{e^{it}}{2i^2}+\\frac{1}{i^2}-\\frac{e^{-it}}{2i^2}\n",
    "  \\end{bmatrix}\n",
    "  \\hspace{12 em}\n",
    "\\end{equation}\n",
    "\n",
    "</font>                 \n",
    "</div>"
   ]
  },
  {
   "cell_type": "code",
   "execution_count": 2,
   "id": "70d3c9b6",
   "metadata": {},
   "outputs": [
    {
     "data": {
      "text/plain": [
       "array([0.0000000e+00+0.j, 6.9388939e-17+1.j, 6.9388939e-17-1.j])"
      ]
     },
     "execution_count": 2,
     "metadata": {},
     "output_type": "execute_result"
    }
   ],
   "source": [
    "import numpy as np\n",
    "from scipy.linalg import eigvals as eig\n",
    "\n",
    "a = np.array([[0, 1, 0],[0, -2, -5],[0, 1, 2]])\n",
    "eig(a)\n",
    "\n"
   ]
  },
  {
   "cell_type": "code",
   "execution_count": 3,
   "id": "2f408304",
   "metadata": {},
   "outputs": [
    {
     "name": "stdout",
     "output_type": "stream",
     "text": [
      "[[ 0 -2 -5]\n",
      " [ 0 -1  0]\n",
      " [ 0  0 -1]]\n"
     ]
    }
   ],
   "source": [
    "from scipy import linalg\n",
    "import numpy as np\n",
    "  \n",
    "a = np.array([[0, 1, 0], [0, -2, -5], [0, 1, 2]])\n",
    "  \n",
    "#of the 3 ways to multiply arrays in python, \n",
    "#\"matmul\" gives the \"matrix product\"\n",
    "#\"multipy\" returns element-wise multiplication\n",
    "#\"dot\" returns dot product\n",
    "\n",
    "res1 = np.matmul(a, a)\n",
    "\n",
    "#for line in res:\n",
    "    #print ('  '.join(map(str, line)))\n",
    "print(res1)\n",
    "\n"
   ]
  },
  {
   "cell_type": "code",
   "execution_count": 7,
   "id": "4b7d4af8",
   "metadata": {},
   "outputs": [
    {
     "name": "stdout",
     "output_type": "stream",
     "text": [
      "{a0: 1, a1: exp(i*t)/(2*i*t) - exp(-i*t)/(2*i*t), a2: exp(i*t)/(2*i**2*t**2) - 1/(i**2*t**2) + exp(-i*t)/(2*i**2*t**2)}\n"
     ]
    }
   ],
   "source": [
    "from sympy import *\n",
    "\n",
    "a0, a1, a2, t, i = symbols('a0 a1 a2 t i')\n",
    "\n",
    "eq1 = Eq(exp(0), a0)\n",
    "eq2 = Eq(exp(i*t), a2*(i*t)**2 + a1*(i*t) + a0)\n",
    "eq3 = Eq(exp(-i*t), a2*(-i*t)**2 + a1*(-i*t) + a0)\n",
    "res = solve([eq1, eq2, eq3], (a0, a1, a2))\n",
    "print(res)\n",
    "\n"
   ]
  },
  {
   "cell_type": "code",
   "execution_count": 8,
   "id": "5fbcff4a",
   "metadata": {},
   "outputs": [
    {
     "data": {
      "text/plain": [
       "1"
      ]
     },
     "execution_count": 8,
     "metadata": {},
     "output_type": "execute_result"
    }
   ],
   "source": [
    "a0 = 1\n",
    "a0\n",
    "\n"
   ]
  },
  {
   "cell_type": "code",
   "execution_count": 19,
   "id": "2f84d645",
   "metadata": {},
   "outputs": [
    {
     "data": {
      "text/latex": [
       "$\\displaystyle \\frac{e^{i t}}{2 i t} - \\frac{e^{- i t}}{2 i t}$"
      ],
      "text/plain": [
       "exp(i*t)/(2*i*t) - exp(-i*t)/(2*i*t)"
      ]
     },
     "execution_count": 19,
     "metadata": {},
     "output_type": "execute_result"
    }
   ],
   "source": [
    "a1 = exp(i*t)/(2*i*t) - exp(-i*t)/(2*i*t)\n",
    "a1\n",
    "\n"
   ]
  },
  {
   "cell_type": "code",
   "execution_count": 21,
   "id": "f49e9869",
   "metadata": {},
   "outputs": [
    {
     "data": {
      "text/latex": [
       "$\\displaystyle \\frac{\\sinh{\\left(i t \\right)}}{i t}$"
      ],
      "text/plain": [
       "sinh(i*t)/(i*t)"
      ]
     },
     "execution_count": 21,
     "metadata": {},
     "output_type": "execute_result"
    }
   ],
   "source": [
    "sa1 = simplify(a1)\n",
    "sa1\n",
    "\n"
   ]
  },
  {
   "cell_type": "code",
   "execution_count": 11,
   "id": "dc187f4d",
   "metadata": {},
   "outputs": [
    {
     "data": {
      "text/latex": [
       "$\\displaystyle \\frac{e^{i t}}{2 i^{2} t^{2}} - \\frac{1}{i^{2} t^{2}} + \\frac{e^{- i t}}{2 i^{2} t^{2}}$"
      ],
      "text/plain": [
       "exp(i*t)/(2*i**2*t**2) - 1/(i**2*t**2) + exp(-i*t)/(2*i**2*t**2)"
      ]
     },
     "execution_count": 11,
     "metadata": {},
     "output_type": "execute_result"
    }
   ],
   "source": [
    "a2 = exp(i*t)/(2*i**2*t**2) - 1/(i**2*t**2) + exp(-i*t)/(2*i**2*t**2)\n",
    "a2\n",
    "\n"
   ]
  },
  {
   "cell_type": "code",
   "execution_count": 22,
   "id": "9f2fbdb4",
   "metadata": {},
   "outputs": [
    {
     "data": {
      "text/latex": [
       "$\\displaystyle \\frac{\\left(\\left(e^{i t} - 2\\right) e^{i t} + 1\\right) e^{- i t}}{2 i^{2} t^{2}}$"
      ],
      "text/plain": [
       "((exp(i*t) - 2)*exp(i*t) + 1)*exp(-i*t)/(2*i**2*t**2)"
      ]
     },
     "execution_count": 22,
     "metadata": {},
     "output_type": "execute_result"
    }
   ],
   "source": [
    "sa2 = simplify(a2)\n",
    "sa2\n",
    "\n"
   ]
  },
  {
   "cell_type": "code",
   "execution_count": 23,
   "id": "cfa7e7a0",
   "metadata": {},
   "outputs": [
    {
     "data": {
      "text/latex": [
       "$\\displaystyle 1 + \\frac{2 \\sinh{\\left(i t \\right)}}{i} - \\frac{\\left(\\left(e^{i t} - 2\\right) e^{i t} + 1\\right) e^{- i t}}{2 i^{2}}$"
      ],
      "text/plain": [
       "1 + 2*sinh(i*t)/i - ((exp(i*t) - 2)*exp(i*t) + 1)*exp(-i*t)/(2*i**2)"
      ]
     },
     "execution_count": 23,
     "metadata": {},
     "output_type": "execute_result"
    }
   ],
   "source": [
    "three3 = -sa2*t**2 + 2*sa1*t + a0\n",
    "three3\n",
    "\n"
   ]
  },
  {
   "cell_type": "code",
   "execution_count": 24,
   "id": "09610c82",
   "metadata": {},
   "outputs": [
    {
     "data": {
      "text/latex": [
       "$\\displaystyle 1 + \\frac{2 \\sinh{\\left(i t \\right)}}{i} - \\frac{e^{i t}}{2 i^{2}} + \\frac{1}{i^{2}} - \\frac{e^{- i t}}{2 i^{2}}$"
      ],
      "text/plain": [
       "1 + 2*sinh(i*t)/i - exp(i*t)/(2*i**2) + i**(-2) - exp(-i*t)/(2*i**2)"
      ]
     },
     "execution_count": 24,
     "metadata": {},
     "output_type": "execute_result"
    }
   ],
   "source": [
    "simplify(three3)\n",
    "\n"
   ]
  },
  {
   "cell_type": "code",
   "execution_count": 25,
   "id": "49b4ce51",
   "metadata": {},
   "outputs": [
    {
     "data": {
      "text/latex": [
       "$\\displaystyle 1 - \\frac{2 \\sinh{\\left(i t \\right)}}{i} - \\frac{\\left(\\left(e^{i t} - 2\\right) e^{i t} + 1\\right) e^{- i t}}{2 i^{2}}$"
      ],
      "text/plain": [
       "1 - 2*sinh(i*t)/i - ((exp(i*t) - 2)*exp(i*t) + 1)*exp(-i*t)/(2*i**2)"
      ]
     },
     "execution_count": 25,
     "metadata": {},
     "output_type": "execute_result"
    }
   ],
   "source": [
    "two2 = -sa2*t**2 - 2*sa1*t + 1\n",
    "two2\n",
    "\n"
   ]
  },
  {
   "cell_type": "code",
   "execution_count": 26,
   "id": "42d681c8",
   "metadata": {},
   "outputs": [
    {
     "data": {
      "text/latex": [
       "$\\displaystyle 1 - \\frac{2 \\sinh{\\left(i t \\right)}}{i} - \\frac{e^{i t}}{2 i^{2}} + \\frac{1}{i^{2}} - \\frac{e^{- i t}}{2 i^{2}}$"
      ],
      "text/plain": [
       "1 - 2*sinh(i*t)/i - exp(i*t)/(2*i**2) + i**(-2) - exp(-i*t)/(2*i**2)"
      ]
     },
     "execution_count": 26,
     "metadata": {},
     "output_type": "execute_result"
    }
   ],
   "source": [
    "simplify(two2)\n",
    "\n"
   ]
  },
  {
   "cell_type": "code",
   "execution_count": 27,
   "id": "24337dd9",
   "metadata": {},
   "outputs": [
    {
     "data": {
      "text/latex": [
       "$\\displaystyle - \\frac{5 \\left(\\left(e^{i t} - 2\\right) e^{i t} + 1\\right) e^{- i t}}{2 i^{2}}$"
      ],
      "text/plain": [
       "-5*((exp(i*t) - 2)*exp(i*t) + 1)*exp(-i*t)/(2*i**2)"
      ]
     },
     "execution_count": 27,
     "metadata": {},
     "output_type": "execute_result"
    }
   ],
   "source": [
    "one3 = -5*sa2*t**2\n",
    "one3\n",
    "\n"
   ]
  },
  {
   "cell_type": "code",
   "execution_count": 29,
   "id": "ecedb1e6",
   "metadata": {},
   "outputs": [
    {
     "data": {
      "text/latex": [
       "$\\displaystyle \\frac{\\sinh{\\left(i t \\right)}}{i} - \\frac{\\left(\\left(e^{i t} - 2\\right) e^{i t} + 1\\right) e^{- i t}}{i^{2}}$"
      ],
      "text/plain": [
       "sinh(i*t)/i - ((exp(i*t) - 2)*exp(i*t) + 1)*exp(-i*t)/i**2"
      ]
     },
     "execution_count": 29,
     "metadata": {},
     "output_type": "execute_result"
    }
   ],
   "source": [
    "one2 = -2*sa2*t**2+sa1*t\n",
    "one2\n",
    "\n"
   ]
  },
  {
   "cell_type": "code",
   "execution_count": 30,
   "id": "f3b0d97b",
   "metadata": {},
   "outputs": [
    {
     "data": {
      "text/latex": [
       "$\\displaystyle \\frac{\\sinh{\\left(i t \\right)}}{i} - \\frac{e^{i t}}{i^{2}} + \\frac{2}{i^{2}} - \\frac{e^{- i t}}{i^{2}}$"
      ],
      "text/plain": [
       "sinh(i*t)/i - exp(i*t)/i**2 + 2/i**2 - exp(-i*t)/i**2"
      ]
     },
     "execution_count": 30,
     "metadata": {},
     "output_type": "execute_result"
    }
   ],
   "source": [
    "simplify(one2)\n",
    "\n",
    "\n",
    "\n",
    "\n",
    "\n",
    "\n",
    "\n",
    "\n"
   ]
  },
  {
   "cell_type": "markdown",
   "id": "b6e2a4f2",
   "metadata": {},
   "source": [
    "<div style=\"background: #FFE3CC;\n",
    "            font-family: Bookerly;\n",
    "            font-size: 16px; \n",
    "            font-weight: 500;\n",
    "            padding: 20px 5px 20px 5px; \n",
    "            border: 30px solid #FFE3CC; \n",
    "            margin-left: 1px;\n",
    "            margin-right: 1px;\"\n",
    "\n",
    "<font color='blue'>16.9 Find $e^{\\textbf{A}t}e^{\\textbf{B}t}$ and $e^{\\textbf{(A + B)}t}$ for\n",
    "\n",
    "\\begin{equation}\n",
    "  \\hspace{4 cm}\n",
    "   \\textbf{A} =\n",
    "  \\begin{bmatrix}\n",
    "    0 & 1 \\\\\n",
    "    0 & 0 \\\\\n",
    "  \\end{bmatrix}\n",
    "  %\n",
    "  \\hspace{0.5 cm} \\textrm{and}\\hspace{0.5 cm} \\textbf{B} =\n",
    "  \\begin{bmatrix}\n",
    "    0 & 0 \\\\ \n",
    "    -1 & 0 \\\\\n",
    "  \\end{bmatrix}\n",
    "  \\hspace{8 cm}\n",
    "\\end{equation}\n",
    "     \n",
    "     \n",
    "     \n",
    "\n",
    "</font> \n",
    "</div>"
   ]
  },
  {
   "cell_type": "markdown",
   "id": "c5e7589c",
   "metadata": {},
   "source": [
    "<div style=\"background: #E2FFCC;\n",
    "            font-family: Bookerly;\n",
    "            font-size: 16px; \n",
    "            font-weight: 500;\n",
    "            padding: 10px 5px 10px 5px; \n",
    "            border: 30px solid #E2FFCC; \n",
    "            margin-left: 1px;\n",
    "            margin-right: 1px;\"\n",
    "\n",
    "<font color='blue'>This problem is not well-suited for Python. Numpy can do matrix exponentiation, but not with a symbol like $t$. Sympy cannot do matrix exponentiation. Scipy can't do it either. Maxima can do the problem without sweat, but so can Wolfram Alpha. This time Wolfram Alpha will be chosen. \n",
    "\n",
    "The matrices of interest are these:<br>\n",
    "\n",
    "\\begin{equation}\n",
    "  \\hspace{4 cm}\n",
    "   \\textbf{A}t =\n",
    "  \\begin{bmatrix}\n",
    "    0 & t \\\\\n",
    "    0 & 0 \\\\\n",
    "  \\end{bmatrix}\n",
    "  %\n",
    "  \\hspace{0.5 cm} \\textrm{and}\\hspace{0.5 cm} \\textbf{B}t =\n",
    "  \\begin{bmatrix}\n",
    "    0 & 0 \\\\ \n",
    "    -t & 0 \\\\\n",
    "  \\end{bmatrix}\n",
    "  \\hspace{8 cm}\n",
    "\\end{equation}\n",
    "\n",
    "The entry for $e^{\\textbf{A}t}$:<br>\n",
    "\n",
    "!| MatrixExp[{{0, t}, {0, 0}}] |!<br>\n",
    "\n",
    "and the answer is received:<br>\n",
    "\n",
    "\\begin{equation}\n",
    "  \\begin{bmatrix}\n",
    "    1 & t \\\\ \n",
    "    0 & 1 \\\\\n",
    "  \\end{bmatrix}\n",
    "  \\hspace{8 cm}\n",
    "\\end{equation}\n",
    "\n",
    "The entry for $e^{\\textbf{B}t}$:<br>\n",
    "\n",
    "!| MatrixExp[{{0, 0}, {-t, 0}}] |!<br>\n",
    "\n",
    "and the answer is received:<br>\n",
    "\n",
    "\\begin{equation}\n",
    "  \\begin{bmatrix}\n",
    "    1 & 0 \\\\ \n",
    "    -t & 1 \\\\\n",
    "  \\end{bmatrix}\n",
    "  \\hspace{8 cm}\n",
    "\\end{equation}\n",
    "\n",
    "The entry for $e^{\\textbf{(A + B)}t}$:<br>\n",
    "\n",
    "!| MatrixExp[[{{0, t}, {0, 0}} + {{0, 0}, {-t, 0}}] |!<br>\n",
    "\n",
    "and the answer is received:<br>\n",
    "\n",
    "\\begin{equation}\n",
    "  ①\\hspace{0.5 cm}\n",
    "  \\begin{bmatrix}\n",
    "    \\textrm{cos}(t) & \\textrm{sin}(t) \\\\ \n",
    "    -\\textrm{sin}(t) & \\textrm{cos}(t) \\\\\n",
    "  \\end{bmatrix}\n",
    "  \\hspace{8 cm}\n",
    "\\end{equation}\n",
    "\n",
    "The entry for $e^{\\textbf{(A)}t}\\,e^{\\textbf{(B)}t}$:<br>\n",
    "\n",
    "!| {{1, t}, {0, 1}} . {{1, 0}, {-t, 1}} |!<br>\n",
    "\n",
    "and the answer is received:<br>\n",
    "\n",
    "\\begin{equation}\n",
    "  ②\\hspace{0.5 cm}\n",
    "  \\begin{bmatrix}\n",
    "    1-t^2 & t \\\\ \n",
    "    -t & 1 \\\\\n",
    "  \\end{bmatrix}\n",
    "  \\hspace{8 cm}\n",
    "\\end{equation}\n",
    "\n",
    "The inequality of ① and ② show what the problem was trying to establish: Just because multiplying two exponented quantities generally means adding the exponents, this method does not hold for matrices.\n",
    "\n",
    "\n",
    "\n",
    "\n",
    "\n",
    "</font>                 \n",
    "</div>"
   ]
  },
  {
   "cell_type": "code",
   "execution_count": null,
   "id": "0a018193",
   "metadata": {},
   "outputs": [],
   "source": []
  },
  {
   "cell_type": "code",
   "execution_count": null,
   "id": "f4971e05",
   "metadata": {},
   "outputs": [],
   "source": []
  }
 ],
 "metadata": {
  "kernelspec": {
   "display_name": "Python 3 (ipykernel)",
   "language": "python",
   "name": "python3"
  },
  "language_info": {
   "codemirror_mode": {
    "name": "ipython",
    "version": 3
   },
   "file_extension": ".py",
   "mimetype": "text/x-python",
   "name": "python",
   "nbconvert_exporter": "python",
   "pygments_lexer": "ipython3",
   "version": "3.10.11"
  }
 },
 "nbformat": 4,
 "nbformat_minor": 5
}
