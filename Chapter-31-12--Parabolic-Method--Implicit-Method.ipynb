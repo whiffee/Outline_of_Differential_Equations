{
 "cells": [
  {
   "cell_type": "code",
   "execution_count": 1,
   "id": "8efbed11",
   "metadata": {},
   "outputs": [
    {
     "data": {
      "application/javascript": [
       "IPython.notebook.set_autosave_interval(0)"
      ]
     },
     "metadata": {},
     "output_type": "display_data"
    },
    {
     "name": "stdout",
     "output_type": "stream",
     "text": [
      "Autosave disabled\n"
     ]
    }
   ],
   "source": [
    "%autosave 0"
   ]
  },
  {
   "cell_type": "markdown",
   "id": "120727ec",
   "metadata": {},
   "source": [
    "<div style=\"background: #DDE2FF;\n",
    "            font-family: Bookerly;\n",
    "            font-size: 14px; \n",
    "            font-weight: 500;\n",
    "            padding: 30px 5px 30px 5px; \n",
    "            border: 30px solid #DDE2FF; \n",
    "            margin-left: 1px;\n",
    "            margin-right: 1px;\"\n",
    "\n",
    "<font color='blue'>(Custom CSS files are not reliable for controlling Jupyter font style. To establish the same appearance as the original notebook, depend on the browser to control the font, by setting the desired font faces in the browser settings. For example, Chrome 135 or Firefox 134 can do this. In this notebook series, Bookerly font is for markdown and Monaco is for code.)\n",
    "     \n",
    "     \n",
    "     \n",
    "\n",
    "</font>                 \n",
    "</div>"
   ]
  },
  {
   "cell_type": "markdown",
   "id": "4654be29",
   "metadata": {},
   "source": [
    "<div style=\"background: #E2FFCC;\n",
    "            font-family: Bookerly;\n",
    "            font-size: 16px; \n",
    "            font-weight: 500;\n",
    "            padding: 10px 5px 10px 5px; \n",
    "            border: 30px solid #E2FFCC; \n",
    "            margin-left: 1px;\n",
    "            margin-right: 1px;\"\n",
    "\n",
    "<font color='blue'>**Defining Parabolic PDE’s**\n",
    "\n",
    "•The general form for a second order linear PDE with two independent \n",
    "variables $(x,y)$ and one dependent variable $(u)$ is\n",
    "\n",
    "$$A \\frac{\\partial^2 u}{\\partial x^2}\\,+\\,B \\frac{\\partial^2 u }{\\partial x \\partial y}\\,+\\,C \\,\\frac{\\partial^2 u}{\\partial y^2}\\,+\\,D\\,=\\,0$$\n",
    "\n",
    "•Recall the criteria for an equation of this type to be considered parabolic\n",
    "\n",
    "$$B^2\\,-\\,4 A C\\,=\\,0$$\n",
    "\n",
    "•For example, examine the heat-conduction equation given by\n",
    "\n",
    "$$\\alpha\\frac{\\partial^2 T}{\\partial x^2}\\,=\\,\\frac{\\partial T}{\\partial t}$$\n",
    "\n",
    "where $A\\,=\\,\\alpha, B\\,=\\, 0,\\,C\\,=\\,0\\, \\textrm{and} \\, D\\,=\\,-1$\n",
    "\n",
    "then\n",
    "\n",
    "$$B^2\\,-\\,4A\\,C\\,=\\,0\\,-\\,4(\\alpha)(0) \\,=\\,0$$\n",
    "\n",
    "thus allowing us to classify the heat equation as parabolic.\n",
    "\n",
    "</font>                 \n",
    "</div>"
   ]
  },
  {
   "cell_type": "markdown",
   "id": "77abfd35",
   "metadata": {},
   "source": [
    "<div style=\"background: #FFE3CC;\n",
    "            font-family: Bookerly;\n",
    "            font-size: 16px; \n",
    "            font-weight: 500;\n",
    "            padding: 20px 5px 20px 5px; \n",
    "            border: 30px solid #FFE3CC; \n",
    "            margin-left: 1px;\n",
    "            margin-right: 1px;\"\n",
    "\n",
    "<font color='blue'>With the finite difference implicit method solve the heat problem\n",
    "\n",
    "$$\\frac{\\partial u}{\\partial t}\\,=\\,\\frac{\\partial^2 u}{\\partial t}\\,+\\,x\\,-\\,t $$\n",
    "\n",
    "$\\hspace{6 cm}$with initial condition: \n",
    "\n",
    "$$u(0,x)\\,=\\,\\textrm{sin}\\,(x)$$\n",
    "\n",
    "$\\hspace{6 cm}$and boundary conditions:\n",
    "\n",
    "$$u(t,0)\\,=\\,e^t,\\,u(t,1)\\,=\\,e^t\\,\\textrm{sin}\\,1$$\n",
    "     \n",
    "     \n",
    "     \n",
    "\n",
    "</font> \n",
    "</div>"
   ]
  },
  {
   "cell_type": "code",
   "execution_count": null,
   "id": "a3187b5c",
   "metadata": {},
   "outputs": [],
   "source": [
    "clear;\n",
    "L = 1.; % Lenth of the wire 0<x<L\n",
    "T =1; % Number of space steps  0<t<T \n",
    "% Parameters needed to solve the equation within the fully implicit method.\n",
    "maxk = 1000; % Number of time steps\n",
    "dt = T/maxk;\n",
    "n = 10; % Number of space steps\n",
    "dx = L/n;\n",
    "a = 1;\n",
    "b = (a^2)*dt/(dx*dx); % b Parameter of the method\n",
    "% Initial temperature of the wire:\n",
    "for i = 1:n+1\n",
    "    x(i) =(i-1)*dx;\n",
    "    u(i,1) =sin(x(i));\n",
    "end\n",
    "% Temperature at the boundary\n",
    "for t=1:maxk+1\n",
    "    time(t) = (t-1)*dt;\n",
    "    u(1,t) = exp(time(t));\n",
    "    u(n+1,t) = sin(1)*exp(time(t));\n",
    "    \n",
    "end\n",
    "% Implicit Method \n",
    "aa(1:n-1) = -b;\n",
    "b1=-b;\n",
    "bb(1:n-1) = 1.+2.*b;\n",
    "a1=1.+2.*b;\n",
    "cc(1:n-1) = -b;\n",
    "c1=-b;\n",
    "for t = 2:maxk      % Time loop\n",
    "    uu = u(2:n,t) + dt*(x(2:n)-time(t)).';\n",
    "    v = zeros(n-1,1); \n",
    "    w = a1;\n",
    "    u(2,t) = uu(1)/w;\n",
    "    for i=2:(n-1)\n",
    "        v(i-1) = c1/w;\n",
    "        w = a1 - b1*v(i-1);\n",
    "        u(i+1,t) = (uu(i) - b1*u(i,t))/w;\n",
    "    end\n",
    "    for j=(n-2):-1:1\n",
    "        u(j+1,t) = u(j+1,t) - v(j)*u(j+2,t);\n",
    "    end\n",
    "    \n",
    "end\n",
    "% Graphical representation of the temperature at different selected times\n",
    "subplot(2,2,3); \n",
    "plot(x,u(:,1),'-',x,u(:,10),'-',x,u(:,45),'-',x,u(:,30),'-',x,u(:,60),'-')\n",
    "title('Temperature implicit method')\n",
    "xlabel('X')\n",
    "ylabel('T')\n",
    "subplot(2,2,4); \n",
    "mesh(x,time,u')\n",
    "title('Temperature implicit method')\n",
    "xlabel('X')\n",
    "ylabel('Temp')\n",
    "     \n",
    "     "
   ]
  },
  {
   "cell_type": "markdown",
   "id": "3384e8d6",
   "metadata": {},
   "source": [
    "<img src=\"image01.svg\" />"
   ]
  }
 ],
 "metadata": {
  "kernelspec": {
   "display_name": "Python 3 (ipykernel)",
   "language": "python",
   "name": "python3"
  },
  "language_info": {
   "codemirror_mode": {
    "name": "ipython",
    "version": 3
   },
   "file_extension": ".py",
   "mimetype": "text/x-python",
   "name": "python",
   "nbconvert_exporter": "python",
   "pygments_lexer": "ipython3",
   "version": "3.10.11"
  }
 },
 "nbformat": 4,
 "nbformat_minor": 5
}
