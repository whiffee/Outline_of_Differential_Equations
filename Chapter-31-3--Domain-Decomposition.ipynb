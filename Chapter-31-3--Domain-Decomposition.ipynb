{
 "cells": [
  {
   "cell_type": "code",
   "execution_count": 1,
   "id": "666a0675",
   "metadata": {},
   "outputs": [
    {
     "data": {
      "application/javascript": [
       "IPython.notebook.set_autosave_interval(0)"
      ]
     },
     "metadata": {},
     "output_type": "display_data"
    },
    {
     "name": "stdout",
     "output_type": "stream",
     "text": [
      "Autosave disabled\n"
     ]
    }
   ],
   "source": [
    "%autosave 0"
   ]
  },
  {
   "cell_type": "markdown",
   "id": "9fa0ce55",
   "metadata": {},
   "source": [
    "<div style=\"background: #DDE2FF;\n",
    "            font-family: Bookerly;\n",
    "            font-size: 14px; \n",
    "            font-weight: 500;\n",
    "            padding: 30px 5px 30px 5px; \n",
    "            border: 30px solid #DDE2FF; \n",
    "            margin-left: 1px;\n",
    "            margin-right: 1px;\"\n",
    "\n",
    "<font color='blue'>(Custom CSS files are not reliable for controlling Jupyter font style. To establish the same appearance as the original notebook, depend on the browser to control the font, by setting the desired font faces in the browser settings. For example, Chrome 135 or Firefox 134 can do this. In this notebook series, Bookerly font is for markdown and Monaco is for code.)\n",
    "     \n",
    "     \n",
    "     \n",
    "\n",
    "</font>                 \n",
    "</div>"
   ]
  },
  {
   "cell_type": "markdown",
   "id": "eaf5b6e6",
   "metadata": {},
   "source": [
    "<div style=\"background: #DDE2FF;\n",
    "            font-family: Bookerly;\n",
    "            font-size: 16px; \n",
    "            font-weight: 500;\n",
    "            padding: 20px 5px 20px 5px; \n",
    "            border: 30px solid #DDE2FF; \n",
    "            margin-left: 1px;\n",
    "            margin-right: 1px;\"\n",
    "\n",
    "<font color='blue'>**Chapter-31-3--Domain-Decomposition**\n",
    "\n",
    "In mathematics, numerical analysis, and numerical partial differential equations, **domain decomposition** methods solve a boundary value problem by splitting it into smaller boundary value problems on subdomains and iterating to coordinate the solution between adjacent subdomains. A coarse problem with one or few unknowns per subdomain is used to further coordinate the solution between the subdomains globally. The problems on the subdomains are independent, which makes domain decomposition methods suitable for parallel computing. Domain decomposition methods are typically used as preconditioners for Krylov space iterative methods, such as the conjugate gradient method, GMRES, and LOBPCG.\n",
    "\n",
    "In overlapping domain decomposition methods, the subdomains overlap by more than the interface. Overlapping domain decomposition methods include the Schwarz alternating method and the additive Schwarz method. Many domain decomposition methods can be written and analyzed as a special case of the abstract additive Schwarz method.\n",
    "\n",
    "In non-overlapping methods, the subdomains intersect only on their interface. In primal methods, such as Balancing domain decomposition and BDDC, the continuity of the solution across subdomain interface is enforced by representing the value of the solution on all neighboring subdomains by the same unknown. In dual methods, such as FETI, the continuity of the solution across the subdomain interface is enforced by Lagrange multipliers. The FETI-DP method is hybrid between a dual and a primal method.\n",
    "\n",
    "Non-overlapping domain decomposition methods are also called iterative substructuring methods.\n",
    "\n",
    "Mortar methods are discretization methods for partial differential equations, which use separate discretization on nonoverlapping subdomains. The meshes on the subdomains do not match on the interface, and the equality of the solution is enforced by Lagrange multipliers, judiciously chosen to preserve the accuracy of the solution. In the engineering practice in the finite element method, continuity of solutions between non-matching subdomains is implemented by multiple-point constraints.\n",
    "\n",
    "Finite element simulations of moderate size models require solving linear systems with millions of unknowns. Several hours per time step is an average sequential run time, therefore, parallel computing is a necessity. Domain decomposition methods embody large potential for a parallelization of the finite element methods, and serve a basis for distributed, parallel computations. \n",
    "<br>\n",
    "     \n",
    "     \n",
    "     \n",
    "\n",
    "</font>                 \n",
    "</div>"
   ]
  },
  {
   "cell_type": "markdown",
   "id": "a09d1a98",
   "metadata": {},
   "source": [
    "<div style=\"background: #E2FFCC;\n",
    "            font-family: Bookerly;\n",
    "            font-size: 16px; \n",
    "            font-weight: 500;\n",
    "            padding: 10px 5px 10px 5px; \n",
    "            border: 30px solid #E2FFCC; \n",
    "            margin-left: 1px;\n",
    "            margin-right: 1px;\"\n",
    "\n",
    "<font color='blue'>The picture below is a diagram representing the domain decomposition topology, as described in the above cell. A close analog of the diagram was originally used by Schwarz in 1870.\n",
    "</font>                 \n",
    "</div>"
   ]
  },
  {
   "cell_type": "markdown",
   "id": "e3ba56aa",
   "metadata": {},
   "source": [
    "<img src=\"image01.svg\" />"
   ]
  },
  {
   "cell_type": "markdown",
   "id": "128e90e6",
   "metadata": {},
   "source": [
    "<div style=\"background: #E2FFCC;\n",
    "            font-family: Bookerly;\n",
    "            font-size: 16px; \n",
    "            font-weight: 500;\n",
    "            padding: 10px 5px 10px 5px; \n",
    "            border: 30px solid #E2FFCC; \n",
    "            margin-left: 1px;\n",
    "            margin-right: 1px;\"\n",
    "\n",
    "<font color='blue'>The Github repository of arielshao contains Matlab code for the DD25_Workshop. The object of the study is the construction of a 3D environmental temperature map of a certain indoor room.The code cell below shows the execution program for Solution3_5.\n",
    "</font>                 \n",
    "</div>"
   ]
  },
  {
   "cell_type": "code",
   "execution_count": null,
   "id": "e77f90b2",
   "metadata": {},
   "outputs": [],
   "source": [
    "%This code simulates an insulated wall on the right edge of the domain;\n",
    "% that is, partial u/ partial n=0 for x=1;\n",
    "\n",
    "RoomData                                    % include problem parameters\n",
    "f=[zeros(J,1) f zeros(J,1)];                % Robin solvers compute bc\n",
    "xi=[0 xi 1];                                % thus need to increase size\n",
    "pe=1e12;                                    % to emulate Dirichlet condition\n",
    "a=8;                                        % interface position\n",
    "maxiter=200;\n",
    "f1=f(:,2:a); f2=f(:,a+1:end);               % subdomain source terms\n",
    "g=zeros(J,1);\n",
    "x1=(0:h:a*h); x2=(a*h:h:1);                 % subdomain mesh in x\n",
    "z1=zeros(1,a+1); z2=zeros(1,J-a+2);         % for plotting\n",
    "u=Solve2dR(f,eta,0,J+1,gg*pe,gd,pe,0);      % global solve\n",
    "err(1)=norm(u,'fro');                       % initial error starting with 0\n",
    "th=0.7;                                     % relaxation parameter\n",
    "e=ones(J,1);                                % construct normal derivative\n",
    "Na=[speye(J) -spdiags([-e (eta*h^2+4)*e -e]/2,[-1 0 1],J,J)]/h;\n",
    "figure(100);clf;\n",
    "for i=1:maxiter\n",
    "  u1=Solve2d(f1,eta,0,a,gg,g);              % solve left subdomain\n",
    "  ta=Na*[u1(:,end-1);u1(:,end)]+f2(:,1)*h/2;% extract interface data\n",
    "  u2=Solve2dR(f2,eta,a,J+1,ta,gd,0,0);     % solve right subdomain\n",
    "  g=th*u2(:,1)+(1-th)*g;                    % relax Dirichlet trace \n",
    "  ufin=[u1(:,1:a),(u1(:,a+1)+u2(:,1))/2,u2(:,2:end)];\n",
    "  err(i+1)=norm(u-ufin,'fro');\n",
    "  mesh(x1,y,[z1;u1;z1]); hold on;           % plot the two iterates\n",
    "  mesh(x2,y,[z2;u2;z2]); hold off;\n",
    "  xlabel('x');ylabel('y');zlabel('Dirichlet-Neumann iterates');\n",
    "  pause\n",
    "end\n",
    "figure(101);clf;\n",
    "semilogy(1:maxiter+1,err)                   % plot error decay\n",
    "xlabel('Iterations');\n",
    "ylabel('Error');\n",
    "\n",
    "\n",
    "%% Observations and Analysis \n",
    "\n",
    "% At iteration 20:\n",
    "\n",
    "%           Homogeneous Neumann      vs    Homegeneous Dirichlet \n",
    "%-------------------------------------------------------------------\n",
    "%  error       1.52e-4                         1.06e-5\n",
    "% solution  monotonically decreasing         \n",
    "%          to zero on the right domain         like a saddle\n",
    "%-------------------------------------------------------------------\n",
    "% The insulated wall case is slow in convergence.\n",
    "% Graphically, it gives a more resonable simulation of the heating of a\n",
    "% room.\n",
    "\n"
   ]
  },
  {
   "cell_type": "markdown",
   "id": "f1aff81b",
   "metadata": {},
   "source": [
    "<div style=\"background: #E2FFCC;\n",
    "            font-family: Bookerly;\n",
    "            font-size: 16px; \n",
    "            font-weight: 500;\n",
    "            padding: 10px 5px 10px 5px; \n",
    "            border: 30px solid #E2FFCC; \n",
    "            margin-left: 1px;\n",
    "            margin-right: 1px;\"\n",
    "\n",
    "<font color='blue'>The code cell below shows the execution program for Solution3_6.\n",
    "</font>                 \n",
    "</div>"
   ]
  },
  {
   "cell_type": "code",
   "execution_count": null,
   "id": "d6e0ec4c",
   "metadata": {},
   "outputs": [],
   "source": [
    "%This example solves on 3 subdomains [0, a], [a,3a],[3a,1]\n",
    "% First solve a Dirichlet problem on the 2nd subdomain\n",
    "% Next solve a mixed Dirchlet-Neumann problem on 1st and 3rd subdomains\n",
    "% Then update the interface data and repeat the procedure\n",
    "\n",
    "RoomData                                    % include problem parameters\n",
    "f=[zeros(J,1) f zeros(J,1)];                % Robin solvers compute bc\n",
    "xi=[0 xi 1];                                % thus need to increase size\n",
    "pe=1e12;                                    % to emulate Dirichlet condition\n",
    "a=8;                                        % interface position\n",
    "maxiter=100;\n",
    "f1=f(:,1:a+1); f2=f(:,a+2:2*a);   \n",
    "f3=f(:,2*a+1:end);                         % subdomain source terms\n",
    "g1=zeros(J,1);\n",
    "g2=zeros(J,1);\n",
    "x1=(0:h:a*h); x2=(a*h:h:2*a*h); \n",
    "x3=(2*a*h:h:1);                            % subdomain mesh in x\n",
    "z1=zeros(1,a+1); z2=zeros(1,a+1); \n",
    "z3=zeros(1,J-2*a+2);                        % for plotting\n",
    "u=Solve2dR(f,eta,0,J+1,gg*pe,pe*gd,pe,pe);  % global solve\n",
    "err(1)=norm(u,'fro');                       % initial error starting with 0\n",
    "th=0.7;                                     % relaxation parameter\n",
    "e=ones(J,1);                                % construct normal derivative\n",
    "Na=[speye(J) -spdiags([-e (eta*h^2+4)*e -e]/2,[-1 0 1],J,J)]/h;\n",
    "Nb=[-spdiags([-e (eta*h^2+4)*e -e]/2,[-1 0 1],J,J) speye(J)]/h;\n",
    "u1=zeros(J,a+1);\n",
    "u2=zeros(J,a+1);\n",
    "u3=zeros(J,J-2*a+1);\n",
    "figure(3);clf;\n",
    "for i=1:maxiter\n",
    "  u2=Solve2d(f2,eta,a,2*a,g1,g2);            % solve dirichlet problem on the 2nd domain\n",
    "  tb=Nb*[u2(:,1);u2(:,2)]+f1(:,end)*h/2;\n",
    "  ta=Na*[u2(:,end-1);u2(:,end)]+f3(:,1)*h/2; % extract interface data\n",
    "  u1=Solve2dR(f1,eta,0,a,gg*pe,tb,pe, 0);           \n",
    "  u3=Solve2dR(f3,eta,2*a,J+1,ta,gd*pe,0,pe);    % solve dirichlet-neumann problem on 1st and 3rd domain\n",
    "  g1=th*u1(:,end)+(1-th)*g1;                 % update the interface data\n",
    "  g2=th*u3(:,1)+(1-th)*g2; \n",
    "  ufin=[u1(:,1:a),(u1(:,a+1)+u2(:,1))/2,u2(:,2:end-1),(u2(:,end)+u3(:,1))/2, u3(:,2:end)];\n",
    "  err(i+1)=norm(u-ufin,'fro');\n",
    "  mesh(x1,y,[z1;u1;z1]); hold on;           % plot the two iterates\n",
    "  mesh(x2,y,[z2;u2;z2]); hold on;\n",
    "  mesh(x3,y,[z3;u3;z3]); hold off;\n",
    "  xlabel('x');ylabel('y');zlabel('Dirichlet-Neumann iterates');\n",
    "  %pause\n",
    "end\n",
    "figure(4);clf;\n",
    "semilogy(1:maxiter+1,err)                   % plot error decay\n",
    "xlabel('Iterations');\n",
    "ylabel('Error');\n",
    "\n",
    "%% Observations and Analysis\n",
    "\n",
    "% a=8  th=0.5 \n",
    "\n",
    "%                     2  subdomains      vs             3 subdomains\n",
    "%-----------------------------------------------------------------------\n",
    "% # of iterations          14                               32\n",
    "% error                    3.09e-11                         5e-15\n",
    "\n",
    "\n",
    "% As the number of subdomains increases, more iterations are needed for\n",
    "% convergence, but our approximate solution converges to a more accurate\n",
    "% solution.\n",
    "    \n",
    "    "
   ]
  },
  {
   "cell_type": "markdown",
   "id": "f4d6d806",
   "metadata": {},
   "source": [
    "<div style=\"background: #E2FFCC;\n",
    "            font-family: Bookerly;\n",
    "            font-size: 16px; \n",
    "            font-weight: 500;\n",
    "            padding: 10px 5px 10px 5px; \n",
    "            border: 30px solid #E2FFCC; \n",
    "            margin-left: 1px;\n",
    "            margin-right: 1px;\"\n",
    "\n",
    "<font color='blue'>The plot for Solution3_5, (left), appears to show something awry with the calculation of\n",
    "subdomain function values for the boundary between two adjacent subdomains. The plot for Solution3_6, (right), shows smooth joins between its subdomains.\n",
    "</font>                 \n",
    "</div>"
   ]
  },
  {
   "cell_type": "markdown",
   "id": "cc92390e",
   "metadata": {},
   "source": [
    "<img src=\"image02.svg\" />"
   ]
  }
 ],
 "metadata": {
  "kernelspec": {
   "display_name": "Python 3 (ipykernel)",
   "language": "python",
   "name": "python3"
  },
  "language_info": {
   "codemirror_mode": {
    "name": "ipython",
    "version": 3
   },
   "file_extension": ".py",
   "mimetype": "text/x-python",
   "name": "python",
   "nbconvert_exporter": "python",
   "pygments_lexer": "ipython3",
   "version": "3.10.11"
  }
 },
 "nbformat": 4,
 "nbformat_minor": 5
}
