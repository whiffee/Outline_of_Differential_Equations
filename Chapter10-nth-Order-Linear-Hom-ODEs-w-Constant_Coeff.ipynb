{
 "cells": [
  {
   "cell_type": "markdown",
   "id": "0a25d482",
   "metadata": {},
   "source": [
    "<div style=\"background: #DDE2FF;\n",
    "            font-family: Bookerly;\n",
    "            font-size: 14px; \n",
    "            font-weight: 500;\n",
    "            padding: 30px 5px 30px 5px; \n",
    "            border: 30px solid #DDE2FF; \n",
    "            margin-left: 1px;\n",
    "            margin-right: 1px;\"\n",
    "\n",
    "<font color='blue'>(Custom CSS files are not reliable for controlling Jupyter font style. To establish the same appearance as the original notebook, depend on the browser to control the font, by setting the desired font faces in the browser settings. For example, Chrome 135 or Firefox 134 can do this. In this notebook series, Bookerly font is for markdown and Monaco is for code.)\n",
    "     \n",
    "     \n",
    "     \n",
    "\n",
    "</font>                 \n",
    "</div>"
   ]
  },
  {
   "cell_type": "markdown",
   "id": "a156d4c7",
   "metadata": {},
   "source": [
    "<div style=\"background: #DDE2FF;\n",
    "            font-family: Bookerly;\n",
    "            font-size: 16px; \n",
    "            font-weight: 500;\n",
    "            padding: 20px 5px 20px 5px; \n",
    "            border: 30px solid #DDE2FF; \n",
    "            margin-left: 1px;\n",
    "            margin-right: 1px;\"\n",
    "\n",
    "<font color='blue'>**Chapter 10: nth Order Linear Homogeneous ODEs with Constant Coefficients** <BR>\n",
    "<br>\n",
    "    Discussing a procedure for solving these nth order equations using a \"characteristic equation\" built specifically for the problem at hand. Wolfram Alpha does not need to refer to these characteristic equations and therefore that aspect of the solving process is completely lost in this version of the solutions.\n",
    "     \n",
    "     \n",
    "     \n",
    "\n",
    "</font>                 \n",
    "</div>"
   ]
  },
  {
   "cell_type": "markdown",
   "id": "7761da6b",
   "metadata": {},
   "source": [
    "<div style=\"background: #E2FFCC;\n",
    "            font-family: Bookerly;\n",
    "            font-size: 16px; \n",
    "            font-weight: 500;\n",
    "            padding: 10px 5px 10px 5px; \n",
    "            border: 30px solid #E2FFCC; \n",
    "            margin-left: 1px;\n",
    "            margin-right: 1px;\"\n",
    "\n",
    "<font color='blue'>**Cutting and pasting and Wolfram Alpha.** Wolfram Alpha is amenable to accepting pasted entries. In this chapter pastable expressions are given a distinctive boundary fence, exemplified by the sample:  !| abcdef |!<br>\n",
    "$\\hspace{2 em}$In the above pseudo-entry, only the alpha characters would be copied for transfer to Wolfram Alpha.\n",
    "\n",
    "     \n",
    "     \n",
    "     \n",
    "\n",
    "</font>                 \n",
    "</div>"
   ]
  },
  {
   "cell_type": "markdown",
   "id": "05aa38db",
   "metadata": {},
   "source": [
    "<div style=\"background: #FFE3CC;\n",
    "            font-family: Bookerly;\n",
    "            font-size: 16px; \n",
    "            font-weight: 500;\n",
    "            padding: 45px 5px 45px 5px; \n",
    "            border: 30px solid #FFE3CC; \n",
    "            margin-left: 1px;\n",
    "            margin-right: 1px;\"\n",
    "\n",
    "<font color='blue'>10.1 Solve $\\,y\\,'''\\,-\\,6y\\,''\\,+\\,11y\\,'\\,-\\,6y\\,=\\,0\\,$\n",
    "     \n",
    "     \n",
    "     \n",
    "\n",
    "</font>   "
   ]
  },
  {
   "cell_type": "markdown",
   "id": "9939d4ab",
   "metadata": {},
   "source": [
    "<div style=\"background: #E2FFCC;\n",
    "            font-family: Bookerly;\n",
    "            font-size: 16px; \n",
    "            font-weight: 500;\n",
    "            padding: 10px 5px 10px 5px; \n",
    "            border: 30px solid #E2FFCC; \n",
    "            margin-left: 1px;\n",
    "            margin-right: 1px;\"\n",
    "\n",
    "<font color='blue'>The entry is made into Wolfram Alpha:<br><br>\n",
    "!| y''' - 6 * y'' + 11 * y' - 6 * y = 0 |!<br><br>\n",
    "and the answer is received:<br><br>\n",
    "$$\\,y(x)\\,=\\,c_1\\,e^{x}\\,+\\,c_2\\,e^{2x}\\,+\\,c_3\\,e^{3x}$$<br><br>\n",
    "In this case the solution was arrived at without generating, factoring, or finding roots of the characteristic equation. Which probably defeats the purpose of the question.\n",
    "\n",
    "\n",
    "</font>                 \n",
    "</div>"
   ]
  },
  {
   "cell_type": "markdown",
   "id": "aa0a1616",
   "metadata": {},
   "source": [
    "<div style=\"background: #FFE3CC;\n",
    "            font-family: Bookerly;\n",
    "            font-size: 16px; \n",
    "            font-weight: 500;\n",
    "            padding: 45px 5px 45px 5px; \n",
    "            border: 30px solid #FFE3CC; \n",
    "            margin-left: 1px;\n",
    "            margin-right: 1px;\"\n",
    "\n",
    "<font color='blue'>10.2 Solve $\\,y^{(4)}\\,-\\,9y\\,''\\,+\\,20y\\,=\\,0\\,$\n",
    "     \n",
    "     \n",
    "     \n",
    "\n",
    "</font>  "
   ]
  },
  {
   "cell_type": "markdown",
   "id": "a79ada54",
   "metadata": {},
   "source": [
    "<div style=\"background: #E2FFCC;\n",
    "            font-family: Bookerly;\n",
    "            font-size: 16px; \n",
    "            font-weight: 500;\n",
    "            padding: 10px 5px 10px 5px; \n",
    "            border: 30px solid #E2FFCC; \n",
    "            margin-left: 1px;\n",
    "            margin-right: 1px;\"\n",
    "\n",
    "<font color='blue'>The entry is made into Wolfram Alpha:<br><br>\n",
    "!| y'''' - 9 * y'' + 20 * y = 0 |!<br><br>\n",
    "and the answer is received:<br><br>\n",
    "$$\\,y(x)\\,=\\,c_1\\,e^{\\sqrt{5}\\,x}\\,+\\,c_2\\,e^{-\\sqrt{5}\\,x}\\,+\\,c_3\\,e^{-2x}\\,+\\,c_4\\,e^{2x}\\,$$<br><br>\n",
    "(A better way to enter derivatives of higher orders in W|A, other than multiple prime symbols, is as yet unknown.)\n",
    "\n",
    "\n",
    "</font>                 \n",
    "</div>"
   ]
  },
  {
   "cell_type": "markdown",
   "id": "1c53d332",
   "metadata": {},
   "source": [
    "<div style=\"background: #FFE3CC;\n",
    "            font-family: Bookerly;\n",
    "            font-size: 16px; \n",
    "            font-weight: 500;\n",
    "            padding: 35px 5px 35px 5px; \n",
    "            border: 30px solid #FFE3CC; \n",
    "            margin-left: 1px;\n",
    "            margin-right: 1px;\"\n",
    "\n",
    "<font color='blue'>10.3 Solve $\\,y\\,'\\,-\\,5y\\,=\\,0\\,$\n",
    "     \n",
    "     \n",
    "     \n",
    "\n",
    "</font>  "
   ]
  },
  {
   "cell_type": "markdown",
   "id": "a83f652e",
   "metadata": {},
   "source": [
    "<div style=\"background: #E2FFCC;\n",
    "            font-family: Bookerly;\n",
    "            font-size: 16px; \n",
    "            font-weight: 500;\n",
    "            padding: 10px 5px 10px 5px; \n",
    "            border: 30px solid #E2FFCC; \n",
    "            margin-left: 1px;\n",
    "            margin-right: 1px;\"\n",
    "\n",
    "<font color='blue'>The entry is made into Wolfram Alpha:<br><br>\n",
    "!| y' - 5 * y = 0 |!<br><br>\n",
    "and the answer is received:<br><br>\n",
    "$$\\,y(x)\\,=\\,c_1\\,e^{5x}\\,$$<br><br>\n",
    "\n",
    "\n",
    "</font>                 \n",
    "</div>"
   ]
  },
  {
   "cell_type": "markdown",
   "id": "57d699aa",
   "metadata": {},
   "source": [
    "<div style=\"background: #FFE3CC;\n",
    "            font-family: Bookerly;\n",
    "            font-size: 16px; \n",
    "            font-weight: 500;\n",
    "            padding: 35px 5px 35px 5px; \n",
    "            border: 30px solid #FFE3CC; \n",
    "            margin-left: 1px;\n",
    "            margin-right: 1px;\"\n",
    "\n",
    "<font color='blue'>10.4 Solve $\\,y\\,'''\\,-\\,6y\\,''\\,+\\,2y\\,'\\,+\\,36y\\,=\\,0\\,$\n",
    "     \n",
    "     \n",
    "     \n",
    "\n",
    "</font>  "
   ]
  },
  {
   "cell_type": "markdown",
   "id": "de7e9b73",
   "metadata": {},
   "source": [
    "<div style=\"background: #E2FFCC;\n",
    "            font-family: Bookerly;\n",
    "            font-size: 16px; \n",
    "            font-weight: 500;\n",
    "            padding: 10px 5px 10px 5px; \n",
    "            border: 30px solid #E2FFCC; \n",
    "            margin-left: 1px;\n",
    "            margin-right: 1px;\"\n",
    "\n",
    "<font color='blue'>The entry is made into Wolfram Alpha:<br><br>\n",
    "!| y''' - 6 * y'' + 2 * y' + 36 * y = 0 |!<br><br>\n",
    "and the answer is received:<br><br>\n",
    "$$\\,y(x)\\,=\\,c_3\\,e^{-2x}\\,+\\,c_1\\,e^{4x}\\textrm{sin}\\,(\\sqrt{2}\\,x)\\,+c_2\\,e^{4x}\\,\\textrm{cos}\\,(\\sqrt{2}\\,x)\\,$$\n",
    "\n",
    "\n",
    "</font>                 \n",
    "</div>"
   ]
  },
  {
   "cell_type": "markdown",
   "id": "db38c9b1",
   "metadata": {},
   "source": [
    "<div style=\"background: #FFE3CC;\n",
    "            font-family: Bookerly;\n",
    "            font-size: 16px; \n",
    "            font-weight: 500;\n",
    "            padding: 35px 5px 35px 5px; \n",
    "            border: 30px solid #FFE3CC; \n",
    "            margin-left: 1px;\n",
    "            margin-right: 1px;\"\n",
    "\n",
    "<font color='blue'>10.5 Solve $\\,\\large\\frac{d^4x}{dt^4}\\,\\small - \\, 4\\, \\large\\frac{d^3x}{dt^3}\\,\\small+\\,7\\,\\large\\frac{d^2x}{dt^2}\\,\\small\\,-\\,4\\,\\large\\frac{dx}{dt}\\,+\\,6x\\,=\\,0\\,\\small$\n",
    "     \n",
    "     \n",
    "     \n",
    "\n",
    "</font>  "
   ]
  },
  {
   "cell_type": "markdown",
   "id": "49bd4293",
   "metadata": {},
   "source": [
    "<div style=\"background: #E2FFCC;\n",
    "            font-family: Bookerly;\n",
    "            font-size: 16px; \n",
    "            font-weight: 500;\n",
    "            padding: 10px 5px 10px 5px; \n",
    "            border: 30px solid #E2FFCC; \n",
    "            margin-left: 1px;\n",
    "            margin-right: 1px;\"\n",
    "\n",
    "<font color='blue'>The entry is made into Wolfram Alpha:<br><br>\n",
    "!| d^4x/dt^4 - 4 * d3x/dt^3 + 7 * d^2x/dt^2 - 4 * dx/dt + 6 * x = 0 |!<br><br>\n",
    "and the answer is received:<br><br>\n",
    "$$\\,x(t)\\,=\\,c_1\\,e^{2t}\\,\\textrm{sin}\\,(\\sqrt{2}\\,t)\\,+\\,c_4\\,\\textrm{sin}\\,(t)\\,+\\,c_2\\,e^{2t}\\,\\textrm{cos}\\,(\\sqrt{2}\\,t)\\,+\\,c_3\\,\\textrm{cos}\\,(t)\\,$$<br><br>\n",
    "In this case W|A refuses to take a hint on the independent variable and the whole thing must be written out.\n",
    "\n",
    "\n",
    "</font>                 \n",
    "</div>"
   ]
  },
  {
   "cell_type": "markdown",
   "id": "b77fff09",
   "metadata": {},
   "source": [
    "<div style=\"background: #FFE3CC;\n",
    "            font-family: Bookerly;\n",
    "            font-size: 16px; \n",
    "            font-weight: 500;\n",
    "            padding: 35px 5px 35px 5px; \n",
    "            border: 30px solid #FFE3CC; \n",
    "            margin-left: 1px;\n",
    "            margin-right: 1px;\"\n",
    "\n",
    "<font color='blue'>10.6 Solve $\\,y^{(4)}\\,+\\,8y\\,'''\\,+24\\,y\\,''\\,+\\,32\\,y\\,'\\,+\\,16y\\,=\\,0\\,$\n",
    "     \n",
    "     \n",
    "     \n",
    "\n",
    "</font>  "
   ]
  },
  {
   "cell_type": "markdown",
   "id": "73a4cb2f",
   "metadata": {},
   "source": [
    "<div style=\"background: #E2FFCC;\n",
    "            font-family: Bookerly;\n",
    "            font-size: 16px; \n",
    "            font-weight: 500;\n",
    "            padding: 10px 5px 10px 5px; \n",
    "            border: 30px solid #E2FFCC; \n",
    "            margin-left: 1px;\n",
    "            margin-right: 1px;\"\n",
    "\n",
    "<font color='blue'>The entry is made into Wolfram Alpha:<br><br>\n",
    "!| y'''' + 8 * y''' + 24 * y'' + 32 * y' + 16 * y = 0 |!<br><br>\n",
    "and the answer is received:<br><br>\n",
    "$$\\,y(x)\\,=\\,c_4\\,e^{-2x}x^3\\,+\\,c_3\\,e^{-2x}\\,x^2\\,+\\,c_2\\,e^{-2x}\\,+\\,c_1\\,e^{-2x}\\,$$\n",
    "\n",
    "\n",
    "</font>                 \n",
    "</div>"
   ]
  },
  {
   "cell_type": "markdown",
   "id": "5ab25e60",
   "metadata": {},
   "source": [
    "<div style=\"background: #FFE3CC;\n",
    "            font-family: Bookerly;\n",
    "            font-size: 16px; \n",
    "            font-weight: 500;\n",
    "            padding: 35px 5px 35px 5px; \n",
    "            border: 30px solid #FFE3CC; \n",
    "            margin-left: 1px;\n",
    "            margin-right: 1px;\"\n",
    "\n",
    "<font color='blue'>10.7 Solve $\\,\\large\\frac{d^5P}{dt^5}\\,\\small -\\,\\large \\frac{d^4P}{dt^4}\\,\\small-\\,2\\,\\large\\frac{d^3P}{dt^3}\\small\\,+\\,2\\,\\large\\frac{d^2P}{dt^2}\\small\\,+\\,\\large\\frac{dP}{dt}\\small\\,-\\,P\\,=\\,0\\,$\n",
    "     \n",
    "     \n",
    "     \n",
    "\n",
    "</font>  "
   ]
  },
  {
   "cell_type": "markdown",
   "id": "bb032159",
   "metadata": {},
   "source": [
    "<div style=\"background: #E2FFCC;\n",
    "            font-family: Bookerly;\n",
    "            font-size: 16px; \n",
    "            font-weight: 500;\n",
    "            padding: 10px 5px 10px 5px; \n",
    "            border: 30px solid #E2FFCC; \n",
    "            margin-left: 1px;\n",
    "            margin-right: 1px;\"\n",
    "\n",
    "<font color='blue'>The entry is made into Wolfram Alpha:<br><br>\n",
    "!| d^5P/dt^5 - d^4P/dt^4 - 2 * d^3P/dt^3 + 2 * d^2P/dt^2 + dP/dt - P = 0 |!<br><br>\n",
    "and the answer is received:<br><br>\n",
    "$$\\,P(t)\\,=\\,c_5\\,e^t\\,t^2\\,+\\,c_2\\,e^{-t}\\,t\\,+\\,c_4\\,e^t\\,t\\,+\\,c_1\\,e^{-t}\\,+\\,c_3\\,e^t\\,$$\n",
    "\n",
    "\n",
    "</font>                 \n",
    "</div>"
   ]
  },
  {
   "cell_type": "markdown",
   "id": "b082d52c",
   "metadata": {},
   "source": [
    "<div style=\"background: #FFE3CC;\n",
    "            font-family: Bookerly;\n",
    "            font-size: 16px; \n",
    "            font-weight: 500;\n",
    "            padding: 35px 5px 35px 5px; \n",
    "            border: 30px solid #FFE3CC; \n",
    "            margin-left: 1px;\n",
    "            margin-right: 1px;\"\n",
    "\n",
    "<font color='blue'>10.8 Solve $\\,\\large\\frac{d^{\\,4}Q}{dx^4}\\,\\small -\\,8\\,\\large \\frac{d^3Q}{dx^3}\\,\\small+\\,32\\,\\large\\frac{d^2Q}{dx^2}\\small\\,-\\,64\\,\\large\\frac{dQ}{dx}\\small\\,+\\,64Q\\,=\\,0\\,$\n",
    "     \n",
    "     \n",
    "     \n",
    "\n",
    "</font>  "
   ]
  },
  {
   "cell_type": "markdown",
   "id": "a1c8af10",
   "metadata": {},
   "source": [
    "<div style=\"background: #E2FFCC;\n",
    "            font-family: Bookerly;\n",
    "            font-size: 16px; \n",
    "            font-weight: 500;\n",
    "            padding: 10px 5px 10px 5px; \n",
    "            border: 30px solid #E2FFCC; \n",
    "            margin-left: 1px;\n",
    "            margin-right: 1px;\"\n",
    "\n",
    "<font color='blue'>The entry is made into Wolfram Alpha:<br><br>\n",
    "!| d^4Q/dx^4 - 8 * d^3Q/dx^3 + 32 * d^2Q/dx^2 - 64 * dQ/dx + 64 * Q = 0 |!<br><br>\n",
    "and the answer is received:<br><br>\n",
    "$$\\,Q(x)\\,=\\,c_1\\,e^{2x}\\,\\textrm{sin}\\,(2x)\\,+\\,c_2\\,e^{2x}\\,x\\,\\textrm{sin}\\,(2x)\\,+\\,c_3\\,e^{2x}\\,\\textrm{cos}\\,(2x)\\,+\\,c_4\\,e^{2x}\\,x\\,\\textrm{cos}\\,(2x)\\,$$\n",
    "\n",
    "\n",
    "</font>                 \n",
    "</div>"
   ]
  },
  {
   "cell_type": "markdown",
   "id": "dcd459dc",
   "metadata": {},
   "source": [
    "<div style=\"background: #FFE3CC;\n",
    "            font-family: Bookerly;\n",
    "            font-size: 16px; \n",
    "            font-weight: 500;\n",
    "            padding: 15px 5px 15px 5px; \n",
    "            border: 30px solid #FFE3CC; \n",
    "            margin-left: 1px;\n",
    "            margin-right: 1px;\"\n",
    "\n",
    "<font color='blue'>10.15 Solve $\\,\\large\\frac{d^4y}{dx^4}\\small\\,-\\,4 \\large\\frac{d^3y}{dx^3}\\small\\,-\\,5 \\large\\frac{d^2y}{dx^2}\\,\\small\\,+\\,36\\,\\large\\frac{dy}{dx}\\,\\small -\\,36y\\,=\\,0\\,\\:\\:\\:$ if one solution is $\\,x\\,e^{2x}\\,$.\n",
    "     \n",
    "     \n",
    "     \n",
    "\n",
    "</font>  "
   ]
  },
  {
   "cell_type": "markdown",
   "id": "4fba4482",
   "metadata": {},
   "source": [
    "<div style=\"background: #E2FFCC;\n",
    "            font-family: Bookerly;\n",
    "            font-size: 16px; \n",
    "            font-weight: 500;\n",
    "            padding: 10px 5px 10px 5px; \n",
    "            border: 30px solid #E2FFCC; \n",
    "            margin-left: 1px;\n",
    "            margin-right: 1px;\"\n",
    "\n",
    "<font color='blue'>The entry is made into Wolfram Alpha:<br><br>\n",
    "!|  d^4y/dx^4 - 4 * d^3y/dx^3 - 5 * d^2y/dx^2 + 36 * dy/dx - 36 * y  =  |!<br><br>\n",
    "and the answer is received:<br><br>\n",
    "$$\\,y(x)\\,=\\,c_1\\,e^{-3x}\\,+\\,c_2\\,e^{2x}\\,+\\,c_3\\,e^{2x}\\,x\\,+\\,c_4\\,e^{3x}\\,$$<br><br>\n",
    "(without referring to the information about one previously known solution.)\n",
    "\n",
    "\n",
    "</font>                 \n",
    "</div>"
   ]
  },
  {
   "cell_type": "code",
   "execution_count": null,
   "id": "4ec890f8",
   "metadata": {},
   "outputs": [],
   "source": []
  },
  {
   "cell_type": "code",
   "execution_count": null,
   "id": "791d1338",
   "metadata": {},
   "outputs": [],
   "source": []
  },
  {
   "cell_type": "code",
   "execution_count": null,
   "id": "9b534299",
   "metadata": {},
   "outputs": [],
   "source": []
  },
  {
   "cell_type": "code",
   "execution_count": null,
   "id": "240e1181",
   "metadata": {},
   "outputs": [],
   "source": []
  },
  {
   "cell_type": "code",
   "execution_count": null,
   "id": "f91cf9ef",
   "metadata": {},
   "outputs": [],
   "source": []
  },
  {
   "cell_type": "code",
   "execution_count": null,
   "id": "b4c96b72",
   "metadata": {},
   "outputs": [],
   "source": []
  },
  {
   "cell_type": "code",
   "execution_count": null,
   "id": "3577235c",
   "metadata": {},
   "outputs": [],
   "source": []
  },
  {
   "cell_type": "code",
   "execution_count": null,
   "id": "17bf7768",
   "metadata": {},
   "outputs": [],
   "source": []
  },
  {
   "cell_type": "code",
   "execution_count": null,
   "id": "cbad724d",
   "metadata": {},
   "outputs": [],
   "source": []
  },
  {
   "cell_type": "code",
   "execution_count": null,
   "id": "78a3a2a4",
   "metadata": {},
   "outputs": [],
   "source": []
  },
  {
   "cell_type": "code",
   "execution_count": null,
   "id": "20193650",
   "metadata": {},
   "outputs": [],
   "source": []
  },
  {
   "cell_type": "code",
   "execution_count": null,
   "id": "7e162c24",
   "metadata": {},
   "outputs": [],
   "source": []
  },
  {
   "cell_type": "code",
   "execution_count": null,
   "id": "87e839fb",
   "metadata": {},
   "outputs": [],
   "source": []
  },
  {
   "cell_type": "code",
   "execution_count": null,
   "id": "a194b0e8",
   "metadata": {},
   "outputs": [],
   "source": []
  },
  {
   "cell_type": "code",
   "execution_count": null,
   "id": "5a800a8e",
   "metadata": {},
   "outputs": [],
   "source": []
  },
  {
   "cell_type": "code",
   "execution_count": null,
   "id": "2f7e37e1",
   "metadata": {},
   "outputs": [],
   "source": []
  },
  {
   "cell_type": "code",
   "execution_count": null,
   "id": "2d60741a",
   "metadata": {},
   "outputs": [],
   "source": []
  },
  {
   "cell_type": "code",
   "execution_count": null,
   "id": "7f979fe9",
   "metadata": {},
   "outputs": [],
   "source": []
  }
 ],
 "metadata": {
  "kernelspec": {
   "display_name": "Python 3 (ipykernel)",
   "language": "python",
   "name": "python3"
  },
  "language_info": {
   "codemirror_mode": {
    "name": "ipython",
    "version": 3
   },
   "file_extension": ".py",
   "mimetype": "text/x-python",
   "name": "python",
   "nbconvert_exporter": "python",
   "pygments_lexer": "ipython3",
   "version": "3.10.11"
  }
 },
 "nbformat": 4,
 "nbformat_minor": 5
}
